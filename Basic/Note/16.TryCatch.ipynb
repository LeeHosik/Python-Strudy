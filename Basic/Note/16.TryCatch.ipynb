{
 "cells": [
  {
   "attachments": {},
   "cell_type": "markdown",
   "metadata": {},
   "source": [
    "### 예외처리"
   ]
  },
  {
   "cell_type": "code",
   "execution_count": 5,
   "metadata": {},
   "outputs": [
    {
     "name": "stdout",
     "output_type": "stream",
     "text": [
      "ERROR\n"
     ]
    }
   ],
   "source": [
    "# Example 01\n",
    "\n",
    "try:\n",
    "    4 / 0\n",
    "except: #ZeroDivisionError as e:\n",
    "    #print (e)\n",
    "    print('ERROR')"
   ]
  },
  {
   "cell_type": "code",
   "execution_count": null,
   "metadata": {},
   "outputs": [],
   "source": [
    "try:\n",
    "    4 / 0\n",
    "except:\n",
    "    pass # 에러가 걸린건 넘어가고 나머지 작업 마저 쭉 하라고 "
   ]
  },
  {
   "cell_type": "code",
   "execution_count": 9,
   "metadata": {},
   "outputs": [
    {
     "name": "stdout",
     "output_type": "stream",
     "text": [
      "1번째 줄 입니다. \n",
      "2번째 줄 입니다. \n",
      "3번째 줄 입니다. \n",
      "4번째 줄 입니다. \n",
      "5번째 줄 입니다. \n",
      "6번째 줄 입니다. \n",
      "7번째 줄 입니다. \n",
      "8번째 줄 입니다. \n",
      "9번째 줄 입니다. \n",
      "10번째 줄 입니다. \n",
      "11번째 추가한 줄 입니다.\n",
      "12번째 추가한 줄 입니다.\n",
      "13번째 추가한 줄 입니다.\n",
      "14번째 추가한 줄 입니다.\n",
      "15번째 추가한 줄 입니다.\n",
      "16번째 추가한 줄 입니다.\n",
      "17번째 추가한 줄 입니다.\n",
      "18번째 추가한 줄 입니다.\n",
      "19번째 추가한 줄 입니다.\n",
      "20번째 추가한 줄 입니다.\n",
      "11번째 추가한 줄 입니다.12번째 추가한 줄 입니다.13번째 추가한 줄 입니다.14번째 추가한 줄 입니다.15번째 추가한 줄 입니다.16번째 추가한 줄 입니다.17번째 추가한 줄 입니다.18번째 추가한 줄 입니다.19번째 추가한 줄 입니다.20번째 추가한 줄 입니다.\n"
     ]
    }
   ],
   "source": [
    "# Example 02\n",
    "try:\n",
    "    f = open(\"./Data/new.txt\",\"r\")\n",
    "except:\n",
    "    print('file not find')\n",
    "else:\n",
    "    data = f.read()\n",
    "    print(data)\n",
    "    f.close"
   ]
  },
  {
   "cell_type": "code",
   "execution_count": null,
   "metadata": {},
   "outputs": [],
   "source": []
  }
 ],
 "metadata": {
  "kernelspec": {
   "display_name": "tensorflow",
   "language": "python",
   "name": "python3"
  },
  "language_info": {
   "codemirror_mode": {
    "name": "ipython",
    "version": 3
   },
   "file_extension": ".py",
   "mimetype": "text/x-python",
   "name": "python",
   "nbconvert_exporter": "python",
   "pygments_lexer": "ipython3",
   "version": "3.9.13"
  },
  "orig_nbformat": 4,
  "vscode": {
   "interpreter": {
    "hash": "d864e386a55a2cee39c31bc0e2325312cb68f97ec75faaaf5382620c119f58c5"
   }
  }
 },
 "nbformat": 4,
 "nbformat_minor": 2
}
