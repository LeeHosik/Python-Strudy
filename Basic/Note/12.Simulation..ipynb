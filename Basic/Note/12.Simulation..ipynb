{
 "cells": [
  {
   "attachments": {},
   "cell_type": "markdown",
   "metadata": {},
   "source": [
    "### Simulation (몬테카를로 시뮬레이션)\n",
    ": 자료가 없을 경우 난수를 통해 가설 증명"
   ]
  },
  {
   "cell_type": "code",
   "execution_count": 1,
   "metadata": {},
   "outputs": [],
   "source": [
    "import random"
   ]
  },
  {
   "cell_type": "code",
   "execution_count": 15,
   "metadata": {},
   "outputs": [
    {
     "data": {
      "text/plain": [
       "10"
      ]
     },
     "execution_count": 15,
     "metadata": {},
     "output_type": "execute_result"
    }
   ],
   "source": [
    "random.randint(1,10)"
   ]
  },
  {
   "cell_type": "code",
   "execution_count": 16,
   "metadata": {},
   "outputs": [],
   "source": [
    "def coinF(n):\n",
    "    coinFront = coinRear = 0\n",
    "    for i in range(1,n+1):\n",
    "        x = random.randint(1,2)\n",
    "        # coinFront += 1 if x == 1 else coinRear += 1\n",
    "        if x == 1:\n",
    "            coinFront += 1\n",
    "        else:\n",
    "            coinRear += 1\n",
    "    print(\"%13d번 시도시 동전의 양면은 %12d번 이고 동전의 뒷면은 %12d번 입니다.\" %(n,coinFront, coinRear))"
   ]
  },
  {
   "cell_type": "code",
   "execution_count": 18,
   "metadata": {},
   "outputs": [
    {
     "name": "stdout",
     "output_type": "stream",
     "text": [
      "     10번 시도시 동전의 양면은      7번 이고 동전의 뒷면은      3번 입니다.\n",
      "    100번 시도시 동전의 양면은     46번 이고 동전의 뒷면은     54번 입니다.\n",
      "   1000번 시도시 동전의 양면은    520번 이고 동전의 뒷면은    480번 입니다.\n",
      "  10000번 시도시 동전의 양면은   4938번 이고 동전의 뒷면은   5062번 입니다.\n",
      " 100000번 시도시 동전의 양면은  49972번 이고 동전의 뒷면은  50028번 입니다.\n",
      "1000000번 시도시 동전의 양면은 500942번 이고 동전의 뒷면은 499058번 입니다.\n"
     ]
    }
   ],
   "source": [
    "coinF(10)\n",
    "coinF(100)\n",
    "coinF(1000)\n",
    "coinF(10000)\n",
    "coinF(100000)\n",
    "coinF(1000000)\n",
    "# coinF(10000000)\n",
    "# coinF(100000000)\n",
    "# coinF(1000000000)\n",
    "# coinF(10000000000)\n",
    "# coinF(100000000000)\n",
    "# coinF(1000000000000)\n",
    "# coinF(10000000000000)"
   ]
  },
  {
   "cell_type": "code",
   "execution_count": 19,
   "metadata": {},
   "outputs": [],
   "source": [
    "def rsp(n):\n",
    "    rock = sissor = paper =0\n",
    "    for i in range(1,n+1):\n",
    "        x = random.randint(1,3)\n",
    "        if x == 1 :\n",
    "            rock += 1\n",
    "        elif x == 2:\n",
    "            sissor += 1\n",
    "        else :\n",
    "            paper += 1\n",
    "    print(\"%13d번 시도시 주먹은 %12d번 이고 가위는 %12d번 보는 %12d 입니다.\" %(n,rock, sissor,paper))"
   ]
  },
  {
   "cell_type": "code",
   "execution_count": 21,
   "metadata": {},
   "outputs": [
    {
     "name": "stdout",
     "output_type": "stream",
     "text": [
      "           10번 시도시 주먹은            2번 이고 가위는            6번 보는            2 입니다.\n",
      "          100번 시도시 주먹은           36번 이고 가위는           31번 보는           33 입니다.\n",
      "         1000번 시도시 주먹은          340번 이고 가위는          333번 보는          327 입니다.\n",
      "        10000번 시도시 주먹은         3262번 이고 가위는         3460번 보는         3278 입니다.\n",
      "       100000번 시도시 주먹은        33452번 이고 가위는        33398번 보는        33150 입니다.\n",
      "      1000000번 시도시 주먹은       334017번 이고 가위는       333159번 보는       332824 입니다.\n",
      "     10000000번 시도시 주먹은      3332341번 이고 가위는      3333451번 보는      3334208 입니다.\n"
     ]
    }
   ],
   "source": [
    "# 가위, 바위, 보 게임이 이길 확률이 같다는 것을 증명 \n",
    "rsp(10)\n",
    "rsp(100)\n",
    "rsp(1000)\n",
    "rsp(10000)\n",
    "rsp(100000)\n",
    "rsp(1000000)\n",
    "rsp(10000000)"
   ]
  },
  {
   "cell_type": "code",
   "execution_count": null,
   "metadata": {},
   "outputs": [],
   "source": []
  }
 ],
 "metadata": {
  "kernelspec": {
   "display_name": "Python 3",
   "language": "python",
   "name": "python3"
  },
  "language_info": {
   "codemirror_mode": {
    "name": "ipython",
    "version": 3
   },
   "file_extension": ".py",
   "mimetype": "text/x-python",
   "name": "python",
   "nbconvert_exporter": "python",
   "pygments_lexer": "ipython3",
   "version": "3.9.6 (default, Oct 18 2022, 12:41:40) \n[Clang 14.0.0 (clang-1400.0.29.202)]"
  },
  "orig_nbformat": 4,
  "vscode": {
   "interpreter": {
    "hash": "8a5edab282632443219e051e4ade2d1d5bbc671c781051bf1437897cbdfea0f1"
   }
  }
 },
 "nbformat": 4,
 "nbformat_minor": 2
}
