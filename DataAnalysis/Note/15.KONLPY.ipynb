{
 "cells": [
  {
   "cell_type": "code",
   "execution_count": 2,
   "metadata": {},
   "outputs": [
    {
     "name": "stdout",
     "output_type": "stream",
     "text": [
      "Collecting konlpy\n",
      "  Downloading konlpy-0.6.0-py2.py3-none-any.whl (19.4 MB)\n",
      "\u001b[2K     \u001b[90m━━━━━━━━━━━━━━━━━━━━━━━━━━━━━━━━━━━━━━━━\u001b[0m \u001b[32m19.4/19.4 MB\u001b[0m \u001b[31m16.1 MB/s\u001b[0m eta \u001b[36m0:00:00\u001b[0m00:01\u001b[0m00:01\u001b[0m\n",
      "\u001b[?25hRequirement already satisfied: lxml>=4.1.0 in /Users/luchesia/miniforge3/envs/tensorflow/lib/python3.9/site-packages (from konlpy) (4.9.2)\n",
      "Collecting JPype1>=0.7.0\n",
      "  Downloading JPype1-1.4.1.tar.gz (797 kB)\n",
      "\u001b[2K     \u001b[90m━━━━━━━━━━━━━━━━━━━━━━━━━━━━━━━━━━━━━━━\u001b[0m \u001b[32m797.9/797.9 kB\u001b[0m \u001b[31m7.8 MB/s\u001b[0m eta \u001b[36m0:00:00\u001b[0ma \u001b[36m0:00:01\u001b[0m\n",
      "\u001b[?25h  Preparing metadata (setup.py) ... \u001b[?25ldone\n",
      "\u001b[?25hRequirement already satisfied: numpy>=1.6 in /Users/luchesia/miniforge3/envs/tensorflow/lib/python3.9/site-packages (from konlpy) (1.23.2)\n",
      "Requirement already satisfied: packaging in /Users/luchesia/miniforge3/envs/tensorflow/lib/python3.9/site-packages (from JPype1>=0.7.0->konlpy) (23.0)\n",
      "Building wheels for collected packages: JPype1\n",
      "  Building wheel for JPype1 (setup.py) ... \u001b[?25ldone\n",
      "\u001b[?25h  Created wheel for JPype1: filename=JPype1-1.4.1-cp39-cp39-macosx_11_0_arm64.whl size=372786 sha256=76f4f3ec639d7ce8db98523fb0cfccf9de274ed4be008f76a53a35dfe55c30bc\n",
      "  Stored in directory: /Users/luchesia/Library/Caches/pip/wheels/77/3e/9f/247c35a9fb0a81c752b163230f701d8fea158ee21bde5b7637\n",
      "Successfully built JPype1\n",
      "Installing collected packages: JPype1, konlpy\n",
      "Successfully installed JPype1-1.4.1 konlpy-0.6.0\n"
     ]
    }
   ],
   "source": [
    "#!pip install tweepy==3.10.0\n",
    "#!pip install konlpy"
   ]
  },
  {
   "attachments": {},
   "cell_type": "markdown",
   "metadata": {},
   "source": [
    "Kkma (꼬꼬마라고 부른다함)"
   ]
  },
  {
   "cell_type": "code",
   "execution_count": 4,
   "metadata": {},
   "outputs": [],
   "source": [
    "from konlpy.tag import Kkma\n",
    "kkma = Kkma()"
   ]
  },
  {
   "cell_type": "code",
   "execution_count": 5,
   "metadata": {},
   "outputs": [
    {
     "data": {
      "text/plain": [
       "['fuck you']"
      ]
     },
     "execution_count": 5,
     "metadata": {},
     "output_type": "execute_result"
    }
   ],
   "source": [
    "kkma.sentences('fuck you')"
   ]
  },
  {
   "cell_type": "code",
   "execution_count": 6,
   "metadata": {},
   "outputs": [
    {
     "data": {
      "text/plain": [
       "['이 호식 광 양 보건 대학교 20102429 응급구조과']"
      ]
     },
     "execution_count": 6,
     "metadata": {},
     "output_type": "execute_result"
    }
   ],
   "source": [
    "kkma.sentences('이호식 광양보건대학교 20102429 응급구조과')"
   ]
  },
  {
   "cell_type": "code",
   "execution_count": 7,
   "metadata": {},
   "outputs": [
    {
     "data": {
      "text/plain": [
       "['これはひらがなです']"
      ]
     },
     "execution_count": 7,
     "metadata": {},
     "output_type": "execute_result"
    }
   ],
   "source": [
    "kkma.sentences('これはひらがなです')"
   ]
  },
  {
   "cell_type": "code",
   "execution_count": 10,
   "metadata": {},
   "outputs": [
    {
     "data": {
      "text/plain": [
       "['나는 자랑스런 태 국기 앞 자유, 정의 대한민국발전 충성 한다']"
      ]
     },
     "execution_count": 10,
     "metadata": {},
     "output_type": "execute_result"
    }
   ],
   "source": [
    "kkma.sentences('나는 자랑스런 태국기앞 자유,정의 대한민국발전 충성 한다')"
   ]
  },
  {
   "cell_type": "code",
   "execution_count": 12,
   "metadata": {},
   "outputs": [
    {
     "data": {
      "text/plain": [
       "['나',\n",
       " '자랑',\n",
       " '태',\n",
       " '태국기앞',\n",
       " '국기',\n",
       " '앞',\n",
       " '자유',\n",
       " '정의',\n",
       " '대한',\n",
       " '대한민국',\n",
       " '대한민국발전',\n",
       " '민국',\n",
       " '발전',\n",
       " '충성']"
      ]
     },
     "execution_count": 12,
     "metadata": {},
     "output_type": "execute_result"
    }
   ],
   "source": [
    "kkma.nouns('나는 자랑 태국기앞 자유,정의 대한민국발전 충성 한다')"
   ]
  },
  {
   "cell_type": "code",
   "execution_count": 13,
   "metadata": {},
   "outputs": [
    {
     "data": {
      "text/plain": [
       "[('나', 'NP'),\n",
       " ('는', 'JX'),\n",
       " ('자랑', 'NNG'),\n",
       " ('태', 'NNG'),\n",
       " ('국기', 'NNG'),\n",
       " ('앞', 'NNG'),\n",
       " ('자유', 'NNG'),\n",
       " (',', 'SP'),\n",
       " ('정의', 'NNG'),\n",
       " ('대한민국', 'NNG'),\n",
       " ('발전', 'NNG'),\n",
       " ('충성', 'NNG'),\n",
       " ('하', 'VV'),\n",
       " ('ㄴ다', 'EFN')]"
      ]
     },
     "execution_count": 13,
     "metadata": {},
     "output_type": "execute_result"
    }
   ],
   "source": [
    "kkma.pos('나는 자랑 태국기앞 자유,정의 대한민국발전 충성 한다')"
   ]
  },
  {
   "attachments": {},
   "cell_type": "markdown",
   "metadata": {},
   "source": [
    "---\n",
    "### Hannanum"
   ]
  },
  {
   "cell_type": "code",
   "execution_count": 16,
   "metadata": {},
   "outputs": [],
   "source": [
    "from konlpy.tag import Hannanum\n",
    "Hannanum = Hannanum()"
   ]
  },
  {
   "cell_type": "code",
   "execution_count": 17,
   "metadata": {},
   "outputs": [
    {
     "data": {
      "text/plain": [
       "['나', '자랑', '태국기앞', '자유', '정', '대한민국발전', '충성']"
      ]
     },
     "execution_count": 17,
     "metadata": {},
     "output_type": "execute_result"
    }
   ],
   "source": [
    "Hannanum.nouns('나는 자랑 태국기앞 자유,정의 대한민국발전 충성 한다')"
   ]
  },
  {
   "cell_type": "code",
   "execution_count": 18,
   "metadata": {},
   "outputs": [
    {
     "data": {
      "text/plain": [
       "[('나', 'N'),\n",
       " ('는', 'J'),\n",
       " ('자랑', 'N'),\n",
       " ('태국기앞', 'N'),\n",
       " ('자유', 'N'),\n",
       " (',', 'S'),\n",
       " ('정', 'N'),\n",
       " ('의', 'J'),\n",
       " ('대한민국발전', 'N'),\n",
       " ('충성', 'N'),\n",
       " ('하', 'P'),\n",
       " ('ㄴ다', 'E')]"
      ]
     },
     "execution_count": 18,
     "metadata": {},
     "output_type": "execute_result"
    }
   ],
   "source": [
    "Hannanum.pos('나는 자랑 태국기앞 자유,정의 대한민국발전 충성 한다')"
   ]
  },
  {
   "attachments": {},
   "cell_type": "markdown",
   "metadata": {},
   "source": [
    "---\n",
    "### Okt\n",
    "(서울대학교 꺼 지금까지 업데이트 하고 있는 유일한 거라 하심)"
   ]
  },
  {
   "cell_type": "code",
   "execution_count": 20,
   "metadata": {},
   "outputs": [],
   "source": [
    "from konlpy.tag import Okt\n",
    "t = Okt()"
   ]
  },
  {
   "cell_type": "code",
   "execution_count": 21,
   "metadata": {},
   "outputs": [
    {
     "data": {
      "text/plain": [
       "['나', '자랑', '태국', '앞', '자유', '정의', '대한민국', '발전', '충성']"
      ]
     },
     "execution_count": 21,
     "metadata": {},
     "output_type": "execute_result"
    }
   ],
   "source": [
    "t.nouns('나는 자랑 태국기앞 자유,정의 대한민국발전 충성 한다')"
   ]
  },
  {
   "cell_type": "code",
   "execution_count": 22,
   "metadata": {},
   "outputs": [
    {
     "data": {
      "text/plain": [
       "[('나', 'Noun'),\n",
       " ('는', 'Josa'),\n",
       " ('자랑', 'Noun'),\n",
       " ('태국', 'Noun'),\n",
       " ('기', 'Modifier'),\n",
       " ('앞', 'Noun'),\n",
       " ('자유', 'Noun'),\n",
       " (',', 'Punctuation'),\n",
       " ('정의', 'Noun'),\n",
       " ('대한민국', 'Noun'),\n",
       " ('발전', 'Noun'),\n",
       " ('충성', 'Noun'),\n",
       " ('한다', 'Verb')]"
      ]
     },
     "execution_count": 22,
     "metadata": {},
     "output_type": "execute_result"
    }
   ],
   "source": [
    "t.pos('나는 자랑 태국기앞 자유,정의 대한민국발전 충성 한다')"
   ]
  },
  {
   "cell_type": "code",
   "execution_count": null,
   "metadata": {},
   "outputs": [],
   "source": []
  }
 ],
 "metadata": {
  "kernelspec": {
   "display_name": "tensorflow",
   "language": "python",
   "name": "python3"
  },
  "language_info": {
   "codemirror_mode": {
    "name": "ipython",
    "version": 3
   },
   "file_extension": ".py",
   "mimetype": "text/x-python",
   "name": "python",
   "nbconvert_exporter": "python",
   "pygments_lexer": "ipython3",
   "version": "3.9.13"
  },
  "orig_nbformat": 4,
  "vscode": {
   "interpreter": {
    "hash": "d864e386a55a2cee39c31bc0e2325312cb68f97ec75faaaf5382620c119f58c5"
   }
  }
 },
 "nbformat": 4,
 "nbformat_minor": 2
}
