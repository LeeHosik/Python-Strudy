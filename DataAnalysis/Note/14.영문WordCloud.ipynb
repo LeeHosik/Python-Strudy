{
 "cells": [
  {
   "cell_type": "code",
   "execution_count": 9,
   "metadata": {},
   "outputs": [
    {
     "name": "stdout",
     "output_type": "stream",
     "text": [
      "Collecting wordcloud\n",
      "  Using cached wordcloud-1.8.2.2.tar.gz (220 kB)\n",
      "  Preparing metadata (setup.py) ... \u001b[?25ldone\n",
      "\u001b[?25hRequirement already satisfied: numpy>=1.6.1 in /Users/luchesia/miniforge3/envs/tensorflow/lib/python3.9/site-packages (from wordcloud) (1.23.2)\n",
      "Requirement already satisfied: pillow in /Users/luchesia/miniforge3/envs/tensorflow/lib/python3.9/site-packages (from wordcloud) (9.4.0)\n",
      "Requirement already satisfied: matplotlib in /Users/luchesia/miniforge3/envs/tensorflow/lib/python3.9/site-packages (from wordcloud) (3.6.3)\n",
      "Requirement already satisfied: kiwisolver>=1.0.1 in /Users/luchesia/miniforge3/envs/tensorflow/lib/python3.9/site-packages (from matplotlib->wordcloud) (1.4.4)\n",
      "Requirement already satisfied: fonttools>=4.22.0 in /Users/luchesia/miniforge3/envs/tensorflow/lib/python3.9/site-packages (from matplotlib->wordcloud) (4.38.0)\n",
      "Requirement already satisfied: contourpy>=1.0.1 in /Users/luchesia/miniforge3/envs/tensorflow/lib/python3.9/site-packages (from matplotlib->wordcloud) (1.0.7)\n",
      "Requirement already satisfied: cycler>=0.10 in /Users/luchesia/miniforge3/envs/tensorflow/lib/python3.9/site-packages (from matplotlib->wordcloud) (0.11.0)\n",
      "Requirement already satisfied: pyparsing>=2.2.1 in /Users/luchesia/miniforge3/envs/tensorflow/lib/python3.9/site-packages (from matplotlib->wordcloud) (3.0.9)\n",
      "Requirement already satisfied: python-dateutil>=2.7 in /Users/luchesia/miniforge3/envs/tensorflow/lib/python3.9/site-packages (from matplotlib->wordcloud) (2.8.2)\n",
      "Requirement already satisfied: packaging>=20.0 in /Users/luchesia/miniforge3/envs/tensorflow/lib/python3.9/site-packages (from matplotlib->wordcloud) (23.0)\n",
      "Requirement already satisfied: six>=1.5 in /Users/luchesia/miniforge3/envs/tensorflow/lib/python3.9/site-packages (from python-dateutil>=2.7->matplotlib->wordcloud) (1.16.0)\n",
      "Building wheels for collected packages: wordcloud\n",
      "  Building wheel for wordcloud (setup.py) ... \u001b[?25ldone\n",
      "\u001b[?25h  Created wheel for wordcloud: filename=wordcloud-1.8.2.2-cp39-cp39-macosx_11_0_arm64.whl size=152834 sha256=0e66f6936b1926e7291e3e48128f6e12d2c550c6e5a17e5fff68a1b77ceaf006\n",
      "  Stored in directory: /Users/luchesia/Library/Caches/pip/wheels/80/53/9d/ac9f8de67897f4804f21caa5a42ed7afb86669f17a0b241bc1\n",
      "Successfully built wordcloud\n",
      "Installing collected packages: wordcloud\n",
      "Successfully installed wordcloud-1.8.2.2\n",
      "Collecting nltk\n",
      "  Using cached nltk-3.8.1-py3-none-any.whl (1.5 MB)\n",
      "Collecting click\n",
      "  Using cached click-8.1.3-py3-none-any.whl (96 kB)\n",
      "Requirement already satisfied: joblib in /Users/luchesia/miniforge3/envs/tensorflow/lib/python3.9/site-packages (from nltk) (1.2.0)\n",
      "Collecting regex>=2021.8.3\n",
      "  Downloading regex-2022.10.31-cp39-cp39-macosx_11_0_arm64.whl (287 kB)\n",
      "\u001b[2K     \u001b[90m━━━━━━━━━━━━━━━━━━━━━━━━━━━━━━━━━━━━━\u001b[0m \u001b[32m287.2/287.2 kB\u001b[0m \u001b[31m779.3 kB/s\u001b[0m eta \u001b[36m0:00:00\u001b[0m00:01\u001b[0m00:01\u001b[0m\n",
      "\u001b[?25hRequirement already satisfied: tqdm in /Users/luchesia/miniforge3/envs/tensorflow/lib/python3.9/site-packages (from nltk) (4.64.1)\n",
      "Installing collected packages: regex, click, nltk\n",
      "Successfully installed click-8.1.3 nltk-3.8.1 regex-2022.10.31\n",
      "Requirement already satisfied: ickle in /Users/luchesia/miniforge3/envs/tensorflow/lib/python3.9/site-packages (1.0.2)\n",
      "Requirement already satisfied: pytest in /Users/luchesia/miniforge3/envs/tensorflow/lib/python3.9/site-packages (from ickle) (7.2.1)\n",
      "Requirement already satisfied: numpy in /Users/luchesia/miniforge3/envs/tensorflow/lib/python3.9/site-packages (from ickle) (1.23.2)\n",
      "Requirement already satisfied: pluggy<2.0,>=0.12 in /Users/luchesia/miniforge3/envs/tensorflow/lib/python3.9/site-packages (from pytest->ickle) (1.0.0)\n",
      "Requirement already satisfied: attrs>=19.2.0 in /Users/luchesia/miniforge3/envs/tensorflow/lib/python3.9/site-packages (from pytest->ickle) (22.2.0)\n",
      "Requirement already satisfied: packaging in /Users/luchesia/miniforge3/envs/tensorflow/lib/python3.9/site-packages (from pytest->ickle) (23.0)\n",
      "Requirement already satisfied: iniconfig in /Users/luchesia/miniforge3/envs/tensorflow/lib/python3.9/site-packages (from pytest->ickle) (2.0.0)\n",
      "Requirement already satisfied: exceptiongroup>=1.0.0rc8 in /Users/luchesia/miniforge3/envs/tensorflow/lib/python3.9/site-packages (from pytest->ickle) (1.1.0)\n",
      "Requirement already satisfied: tomli>=1.0.0 in /Users/luchesia/miniforge3/envs/tensorflow/lib/python3.9/site-packages (from pytest->ickle) (2.0.1)\n"
     ]
    }
   ],
   "source": [
    "#!pip install wordcloud\n",
    "#!pip install nltk\n",
    "#!pip install ickle"
   ]
  },
  {
   "cell_type": "code",
   "execution_count": 10,
   "metadata": {},
   "outputs": [
    {
     "name": "stderr",
     "output_type": "stream",
     "text": [
      "[nltk_data] Downloading collection 'all'\n",
      "[nltk_data]    | \n",
      "[nltk_data]    | Downloading package abc to\n",
      "[nltk_data]    |     /Users/luchesia/nltk_data...\n",
      "[nltk_data]    |   Unzipping corpora/abc.zip.\n",
      "[nltk_data]    | Downloading package alpino to\n",
      "[nltk_data]    |     /Users/luchesia/nltk_data...\n",
      "[nltk_data]    |   Unzipping corpora/alpino.zip.\n",
      "[nltk_data]    | Downloading package averaged_perceptron_tagger to\n",
      "[nltk_data]    |     /Users/luchesia/nltk_data...\n",
      "[nltk_data]    |   Unzipping taggers/averaged_perceptron_tagger.zip.\n",
      "[nltk_data]    | Downloading package averaged_perceptron_tagger_ru to\n",
      "[nltk_data]    |     /Users/luchesia/nltk_data...\n",
      "[nltk_data]    |   Unzipping\n",
      "[nltk_data]    |       taggers/averaged_perceptron_tagger_ru.zip.\n",
      "[nltk_data]    | Downloading package basque_grammars to\n",
      "[nltk_data]    |     /Users/luchesia/nltk_data...\n",
      "[nltk_data]    |   Unzipping grammars/basque_grammars.zip.\n",
      "[nltk_data]    | Downloading package bcp47 to\n",
      "[nltk_data]    |     /Users/luchesia/nltk_data...\n",
      "[nltk_data]    | Downloading package biocreative_ppi to\n",
      "[nltk_data]    |     /Users/luchesia/nltk_data...\n",
      "[nltk_data]    |   Unzipping corpora/biocreative_ppi.zip.\n",
      "[nltk_data]    | Downloading package bllip_wsj_no_aux to\n",
      "[nltk_data]    |     /Users/luchesia/nltk_data...\n",
      "[nltk_data]    |   Unzipping models/bllip_wsj_no_aux.zip.\n",
      "[nltk_data]    | Downloading package book_grammars to\n",
      "[nltk_data]    |     /Users/luchesia/nltk_data...\n",
      "[nltk_data]    |   Unzipping grammars/book_grammars.zip.\n",
      "[nltk_data]    | Downloading package brown to\n",
      "[nltk_data]    |     /Users/luchesia/nltk_data...\n",
      "[nltk_data]    |   Unzipping corpora/brown.zip.\n",
      "[nltk_data]    | Downloading package brown_tei to\n",
      "[nltk_data]    |     /Users/luchesia/nltk_data...\n",
      "[nltk_data]    |   Unzipping corpora/brown_tei.zip.\n",
      "[nltk_data]    | Downloading package cess_cat to\n",
      "[nltk_data]    |     /Users/luchesia/nltk_data...\n",
      "[nltk_data]    |   Unzipping corpora/cess_cat.zip.\n",
      "[nltk_data]    | Downloading package cess_esp to\n",
      "[nltk_data]    |     /Users/luchesia/nltk_data...\n",
      "[nltk_data]    |   Unzipping corpora/cess_esp.zip.\n",
      "[nltk_data]    | Downloading package chat80 to\n",
      "[nltk_data]    |     /Users/luchesia/nltk_data...\n",
      "[nltk_data]    |   Unzipping corpora/chat80.zip.\n",
      "[nltk_data]    | Downloading package city_database to\n",
      "[nltk_data]    |     /Users/luchesia/nltk_data...\n",
      "[nltk_data]    |   Unzipping corpora/city_database.zip.\n",
      "[nltk_data]    | Downloading package cmudict to\n",
      "[nltk_data]    |     /Users/luchesia/nltk_data...\n",
      "[nltk_data]    |   Unzipping corpora/cmudict.zip.\n",
      "[nltk_data]    | Downloading package comparative_sentences to\n",
      "[nltk_data]    |     /Users/luchesia/nltk_data...\n",
      "[nltk_data]    |   Unzipping corpora/comparative_sentences.zip.\n",
      "[nltk_data]    | Downloading package comtrans to\n",
      "[nltk_data]    |     /Users/luchesia/nltk_data...\n",
      "[nltk_data]    | Downloading package conll2000 to\n",
      "[nltk_data]    |     /Users/luchesia/nltk_data...\n",
      "[nltk_data]    |   Unzipping corpora/conll2000.zip.\n",
      "[nltk_data]    | Downloading package conll2002 to\n",
      "[nltk_data]    |     /Users/luchesia/nltk_data...\n",
      "[nltk_data]    |   Unzipping corpora/conll2002.zip.\n",
      "[nltk_data]    | Downloading package conll2007 to\n",
      "[nltk_data]    |     /Users/luchesia/nltk_data...\n",
      "[nltk_data]    | Downloading package crubadan to\n",
      "[nltk_data]    |     /Users/luchesia/nltk_data...\n",
      "[nltk_data]    |   Unzipping corpora/crubadan.zip.\n",
      "[nltk_data]    | Downloading package dependency_treebank to\n",
      "[nltk_data]    |     /Users/luchesia/nltk_data...\n",
      "[nltk_data]    |   Unzipping corpora/dependency_treebank.zip.\n",
      "[nltk_data]    | Downloading package dolch to\n",
      "[nltk_data]    |     /Users/luchesia/nltk_data...\n",
      "[nltk_data]    |   Unzipping corpora/dolch.zip.\n",
      "[nltk_data]    | Downloading package europarl_raw to\n",
      "[nltk_data]    |     /Users/luchesia/nltk_data...\n",
      "[nltk_data]    |   Unzipping corpora/europarl_raw.zip.\n",
      "[nltk_data]    | Downloading package extended_omw to\n",
      "[nltk_data]    |     /Users/luchesia/nltk_data...\n",
      "[nltk_data]    | Downloading package floresta to\n",
      "[nltk_data]    |     /Users/luchesia/nltk_data...\n",
      "[nltk_data]    |   Unzipping corpora/floresta.zip.\n",
      "[nltk_data]    | Downloading package framenet_v15 to\n",
      "[nltk_data]    |     /Users/luchesia/nltk_data...\n",
      "[nltk_data]    |   Unzipping corpora/framenet_v15.zip.\n",
      "[nltk_data]    | Downloading package framenet_v17 to\n",
      "[nltk_data]    |     /Users/luchesia/nltk_data...\n",
      "[nltk_data]    |   Unzipping corpora/framenet_v17.zip.\n",
      "[nltk_data]    | Downloading package gazetteers to\n",
      "[nltk_data]    |     /Users/luchesia/nltk_data...\n",
      "[nltk_data]    |   Unzipping corpora/gazetteers.zip.\n",
      "[nltk_data]    | Downloading package genesis to\n",
      "[nltk_data]    |     /Users/luchesia/nltk_data...\n",
      "[nltk_data]    |   Unzipping corpora/genesis.zip.\n",
      "[nltk_data]    | Downloading package gutenberg to\n",
      "[nltk_data]    |     /Users/luchesia/nltk_data...\n",
      "[nltk_data]    |   Unzipping corpora/gutenberg.zip.\n",
      "[nltk_data]    | Downloading package ieer to\n",
      "[nltk_data]    |     /Users/luchesia/nltk_data...\n",
      "[nltk_data]    |   Unzipping corpora/ieer.zip.\n",
      "[nltk_data]    | Downloading package inaugural to\n",
      "[nltk_data]    |     /Users/luchesia/nltk_data...\n",
      "[nltk_data]    |   Unzipping corpora/inaugural.zip.\n",
      "[nltk_data]    | Downloading package indian to\n",
      "[nltk_data]    |     /Users/luchesia/nltk_data...\n",
      "[nltk_data]    |   Unzipping corpora/indian.zip.\n",
      "[nltk_data]    | Downloading package jeita to\n",
      "[nltk_data]    |     /Users/luchesia/nltk_data...\n",
      "[nltk_data]    | Downloading package kimmo to\n",
      "[nltk_data]    |     /Users/luchesia/nltk_data...\n",
      "[nltk_data]    |   Unzipping corpora/kimmo.zip.\n",
      "[nltk_data]    | Downloading package knbc to\n",
      "[nltk_data]    |     /Users/luchesia/nltk_data...\n",
      "[nltk_data]    | Downloading package large_grammars to\n",
      "[nltk_data]    |     /Users/luchesia/nltk_data...\n",
      "[nltk_data]    |   Unzipping grammars/large_grammars.zip.\n",
      "[nltk_data]    | Downloading package lin_thesaurus to\n",
      "[nltk_data]    |     /Users/luchesia/nltk_data...\n",
      "[nltk_data]    |   Unzipping corpora/lin_thesaurus.zip.\n",
      "[nltk_data]    | Downloading package mac_morpho to\n",
      "[nltk_data]    |     /Users/luchesia/nltk_data...\n",
      "[nltk_data]    |   Unzipping corpora/mac_morpho.zip.\n",
      "[nltk_data]    | Downloading package machado to\n",
      "[nltk_data]    |     /Users/luchesia/nltk_data...\n",
      "[nltk_data]    | Downloading package masc_tagged to\n",
      "[nltk_data]    |     /Users/luchesia/nltk_data...\n",
      "[nltk_data]    | Downloading package maxent_ne_chunker to\n",
      "[nltk_data]    |     /Users/luchesia/nltk_data...\n",
      "[nltk_data]    |   Unzipping chunkers/maxent_ne_chunker.zip.\n",
      "[nltk_data]    | Downloading package maxent_treebank_pos_tagger to\n",
      "[nltk_data]    |     /Users/luchesia/nltk_data...\n",
      "[nltk_data]    |   Unzipping taggers/maxent_treebank_pos_tagger.zip.\n",
      "[nltk_data]    | Downloading package moses_sample to\n",
      "[nltk_data]    |     /Users/luchesia/nltk_data...\n",
      "[nltk_data]    |   Unzipping models/moses_sample.zip.\n",
      "[nltk_data]    | Downloading package movie_reviews to\n",
      "[nltk_data]    |     /Users/luchesia/nltk_data...\n",
      "[nltk_data]    |   Unzipping corpora/movie_reviews.zip.\n",
      "[nltk_data]    | Downloading package mte_teip5 to\n",
      "[nltk_data]    |     /Users/luchesia/nltk_data...\n",
      "[nltk_data]    |   Unzipping corpora/mte_teip5.zip.\n",
      "[nltk_data]    | Downloading package mwa_ppdb to\n",
      "[nltk_data]    |     /Users/luchesia/nltk_data...\n",
      "[nltk_data]    |   Unzipping misc/mwa_ppdb.zip.\n",
      "[nltk_data]    | Downloading package names to\n",
      "[nltk_data]    |     /Users/luchesia/nltk_data...\n",
      "[nltk_data]    |   Unzipping corpora/names.zip.\n",
      "[nltk_data]    | Downloading package nombank.1.0 to\n",
      "[nltk_data]    |     /Users/luchesia/nltk_data...\n",
      "[nltk_data]    | Downloading package nonbreaking_prefixes to\n",
      "[nltk_data]    |     /Users/luchesia/nltk_data...\n",
      "[nltk_data]    |   Unzipping corpora/nonbreaking_prefixes.zip.\n",
      "[nltk_data]    | Downloading package nps_chat to\n",
      "[nltk_data]    |     /Users/luchesia/nltk_data...\n",
      "[nltk_data]    |   Unzipping corpora/nps_chat.zip.\n",
      "[nltk_data]    | Downloading package omw to\n",
      "[nltk_data]    |     /Users/luchesia/nltk_data...\n",
      "[nltk_data]    | Downloading package omw-1.4 to\n",
      "[nltk_data]    |     /Users/luchesia/nltk_data...\n",
      "[nltk_data]    | Downloading package opinion_lexicon to\n",
      "[nltk_data]    |     /Users/luchesia/nltk_data...\n",
      "[nltk_data]    |   Unzipping corpora/opinion_lexicon.zip.\n",
      "[nltk_data]    | Downloading package panlex_swadesh to\n",
      "[nltk_data]    |     /Users/luchesia/nltk_data...\n",
      "[nltk_data]    | Downloading package paradigms to\n",
      "[nltk_data]    |     /Users/luchesia/nltk_data...\n",
      "[nltk_data]    |   Unzipping corpora/paradigms.zip.\n",
      "[nltk_data]    | Downloading package pe08 to\n",
      "[nltk_data]    |     /Users/luchesia/nltk_data...\n",
      "[nltk_data]    |   Unzipping corpora/pe08.zip.\n",
      "[nltk_data]    | Downloading package perluniprops to\n",
      "[nltk_data]    |     /Users/luchesia/nltk_data...\n",
      "[nltk_data]    |   Unzipping misc/perluniprops.zip.\n",
      "[nltk_data]    | Downloading package pil to\n",
      "[nltk_data]    |     /Users/luchesia/nltk_data...\n",
      "[nltk_data]    |   Unzipping corpora/pil.zip.\n",
      "[nltk_data]    | Downloading package pl196x to\n",
      "[nltk_data]    |     /Users/luchesia/nltk_data...\n",
      "[nltk_data]    |   Unzipping corpora/pl196x.zip.\n",
      "[nltk_data]    | Downloading package porter_test to\n",
      "[nltk_data]    |     /Users/luchesia/nltk_data...\n",
      "[nltk_data]    |   Unzipping stemmers/porter_test.zip.\n",
      "[nltk_data]    | Downloading package ppattach to\n",
      "[nltk_data]    |     /Users/luchesia/nltk_data...\n",
      "[nltk_data]    |   Unzipping corpora/ppattach.zip.\n",
      "[nltk_data]    | Downloading package problem_reports to\n",
      "[nltk_data]    |     /Users/luchesia/nltk_data...\n",
      "[nltk_data]    |   Unzipping corpora/problem_reports.zip.\n",
      "[nltk_data]    | Downloading package product_reviews_1 to\n",
      "[nltk_data]    |     /Users/luchesia/nltk_data...\n",
      "[nltk_data]    |   Unzipping corpora/product_reviews_1.zip.\n",
      "[nltk_data]    | Downloading package product_reviews_2 to\n",
      "[nltk_data]    |     /Users/luchesia/nltk_data...\n",
      "[nltk_data]    |   Unzipping corpora/product_reviews_2.zip.\n",
      "[nltk_data]    | Downloading package propbank to\n",
      "[nltk_data]    |     /Users/luchesia/nltk_data...\n",
      "[nltk_data]    | Downloading package pros_cons to\n",
      "[nltk_data]    |     /Users/luchesia/nltk_data...\n",
      "[nltk_data]    |   Unzipping corpora/pros_cons.zip.\n",
      "[nltk_data]    | Downloading package ptb to\n",
      "[nltk_data]    |     /Users/luchesia/nltk_data...\n",
      "[nltk_data]    |   Unzipping corpora/ptb.zip.\n",
      "[nltk_data]    | Downloading package punkt to\n",
      "[nltk_data]    |     /Users/luchesia/nltk_data...\n",
      "[nltk_data]    |   Unzipping tokenizers/punkt.zip.\n",
      "[nltk_data]    | Downloading package qc to\n",
      "[nltk_data]    |     /Users/luchesia/nltk_data...\n",
      "[nltk_data]    |   Unzipping corpora/qc.zip.\n",
      "[nltk_data]    | Downloading package reuters to\n",
      "[nltk_data]    |     /Users/luchesia/nltk_data...\n",
      "[nltk_data]    | Downloading package rslp to\n",
      "[nltk_data]    |     /Users/luchesia/nltk_data...\n",
      "[nltk_data]    |   Unzipping stemmers/rslp.zip.\n",
      "[nltk_data]    | Downloading package rte to\n",
      "[nltk_data]    |     /Users/luchesia/nltk_data...\n",
      "[nltk_data]    |   Unzipping corpora/rte.zip.\n",
      "[nltk_data]    | Downloading package sample_grammars to\n",
      "[nltk_data]    |     /Users/luchesia/nltk_data...\n",
      "[nltk_data]    |   Unzipping grammars/sample_grammars.zip.\n",
      "[nltk_data]    | Downloading package semcor to\n",
      "[nltk_data]    |     /Users/luchesia/nltk_data...\n",
      "[nltk_data]    | Downloading package senseval to\n",
      "[nltk_data]    |     /Users/luchesia/nltk_data...\n",
      "[nltk_data]    |   Unzipping corpora/senseval.zip.\n",
      "[nltk_data]    | Downloading package sentence_polarity to\n",
      "[nltk_data]    |     /Users/luchesia/nltk_data...\n",
      "[nltk_data]    |   Unzipping corpora/sentence_polarity.zip.\n",
      "[nltk_data]    | Downloading package sentiwordnet to\n",
      "[nltk_data]    |     /Users/luchesia/nltk_data...\n",
      "[nltk_data]    |   Unzipping corpora/sentiwordnet.zip.\n",
      "[nltk_data]    | Downloading package shakespeare to\n",
      "[nltk_data]    |     /Users/luchesia/nltk_data...\n",
      "[nltk_data]    |   Unzipping corpora/shakespeare.zip.\n",
      "[nltk_data]    | Downloading package sinica_treebank to\n",
      "[nltk_data]    |     /Users/luchesia/nltk_data...\n",
      "[nltk_data]    |   Unzipping corpora/sinica_treebank.zip.\n",
      "[nltk_data]    | Downloading package smultron to\n",
      "[nltk_data]    |     /Users/luchesia/nltk_data...\n",
      "[nltk_data]    |   Unzipping corpora/smultron.zip.\n",
      "[nltk_data]    | Downloading package snowball_data to\n",
      "[nltk_data]    |     /Users/luchesia/nltk_data...\n",
      "[nltk_data]    | Downloading package spanish_grammars to\n",
      "[nltk_data]    |     /Users/luchesia/nltk_data...\n",
      "[nltk_data]    |   Unzipping grammars/spanish_grammars.zip.\n",
      "[nltk_data]    | Downloading package state_union to\n",
      "[nltk_data]    |     /Users/luchesia/nltk_data...\n",
      "[nltk_data]    |   Unzipping corpora/state_union.zip.\n",
      "[nltk_data]    | Downloading package stopwords to\n",
      "[nltk_data]    |     /Users/luchesia/nltk_data...\n",
      "[nltk_data]    |   Unzipping corpora/stopwords.zip.\n",
      "[nltk_data]    | Downloading package subjectivity to\n",
      "[nltk_data]    |     /Users/luchesia/nltk_data...\n",
      "[nltk_data]    |   Unzipping corpora/subjectivity.zip.\n",
      "[nltk_data]    | Downloading package swadesh to\n",
      "[nltk_data]    |     /Users/luchesia/nltk_data...\n",
      "[nltk_data]    |   Unzipping corpora/swadesh.zip.\n",
      "[nltk_data]    | Downloading package switchboard to\n",
      "[nltk_data]    |     /Users/luchesia/nltk_data...\n",
      "[nltk_data]    |   Unzipping corpora/switchboard.zip.\n",
      "[nltk_data]    | Downloading package tagsets to\n",
      "[nltk_data]    |     /Users/luchesia/nltk_data...\n",
      "[nltk_data]    |   Unzipping help/tagsets.zip.\n",
      "[nltk_data]    | Downloading package timit to\n",
      "[nltk_data]    |     /Users/luchesia/nltk_data...\n",
      "[nltk_data]    |   Unzipping corpora/timit.zip.\n",
      "[nltk_data]    | Downloading package toolbox to\n",
      "[nltk_data]    |     /Users/luchesia/nltk_data...\n",
      "[nltk_data]    |   Unzipping corpora/toolbox.zip.\n",
      "[nltk_data]    | Downloading package treebank to\n",
      "[nltk_data]    |     /Users/luchesia/nltk_data...\n",
      "[nltk_data]    |   Unzipping corpora/treebank.zip.\n",
      "[nltk_data]    | Downloading package twitter_samples to\n",
      "[nltk_data]    |     /Users/luchesia/nltk_data...\n",
      "[nltk_data]    |   Unzipping corpora/twitter_samples.zip.\n",
      "[nltk_data]    | Downloading package udhr to\n",
      "[nltk_data]    |     /Users/luchesia/nltk_data...\n",
      "[nltk_data]    |   Unzipping corpora/udhr.zip.\n",
      "[nltk_data]    | Downloading package udhr2 to\n",
      "[nltk_data]    |     /Users/luchesia/nltk_data...\n",
      "[nltk_data]    |   Unzipping corpora/udhr2.zip.\n",
      "[nltk_data]    | Downloading package unicode_samples to\n",
      "[nltk_data]    |     /Users/luchesia/nltk_data...\n",
      "[nltk_data]    |   Unzipping corpora/unicode_samples.zip.\n",
      "[nltk_data]    | Downloading package universal_tagset to\n",
      "[nltk_data]    |     /Users/luchesia/nltk_data...\n",
      "[nltk_data]    |   Unzipping taggers/universal_tagset.zip.\n",
      "[nltk_data]    | Downloading package universal_treebanks_v20 to\n",
      "[nltk_data]    |     /Users/luchesia/nltk_data...\n",
      "[nltk_data]    | Downloading package vader_lexicon to\n",
      "[nltk_data]    |     /Users/luchesia/nltk_data...\n",
      "[nltk_data]    | Downloading package verbnet to\n",
      "[nltk_data]    |     /Users/luchesia/nltk_data...\n",
      "[nltk_data]    |   Unzipping corpora/verbnet.zip.\n",
      "[nltk_data]    | Downloading package verbnet3 to\n",
      "[nltk_data]    |     /Users/luchesia/nltk_data...\n",
      "[nltk_data]    |   Unzipping corpora/verbnet3.zip.\n",
      "[nltk_data]    | Downloading package webtext to\n",
      "[nltk_data]    |     /Users/luchesia/nltk_data...\n",
      "[nltk_data]    |   Unzipping corpora/webtext.zip.\n",
      "[nltk_data]    | Downloading package wmt15_eval to\n",
      "[nltk_data]    |     /Users/luchesia/nltk_data...\n",
      "[nltk_data]    |   Unzipping models/wmt15_eval.zip.\n",
      "[nltk_data]    | Downloading package word2vec_sample to\n",
      "[nltk_data]    |     /Users/luchesia/nltk_data...\n",
      "[nltk_data]    |   Unzipping models/word2vec_sample.zip.\n",
      "[nltk_data]    | Downloading package wordnet to\n",
      "[nltk_data]    |     /Users/luchesia/nltk_data...\n",
      "[nltk_data]    | Downloading package wordnet2021 to\n",
      "[nltk_data]    |     /Users/luchesia/nltk_data...\n",
      "[nltk_data]    | Downloading package wordnet31 to\n",
      "[nltk_data]    |     /Users/luchesia/nltk_data...\n",
      "[nltk_data]    | Downloading package wordnet_ic to\n",
      "[nltk_data]    |     /Users/luchesia/nltk_data...\n",
      "[nltk_data]    |   Unzipping corpora/wordnet_ic.zip.\n",
      "[nltk_data]    | Downloading package words to\n",
      "[nltk_data]    |     /Users/luchesia/nltk_data...\n",
      "[nltk_data]    |   Unzipping corpora/words.zip.\n",
      "[nltk_data]    | Downloading package ycoe to\n",
      "[nltk_data]    |     /Users/luchesia/nltk_data...\n",
      "[nltk_data]    |   Unzipping corpora/ycoe.zip.\n",
      "[nltk_data]    | \n",
      "[nltk_data]  Done downloading collection all\n"
     ]
    },
    {
     "data": {
      "text/plain": [
       "True"
      ]
     },
     "execution_count": 10,
     "metadata": {},
     "output_type": "execute_result"
    }
   ],
   "source": [
    "import nltk\n",
    "import ickle\n",
    "from nltk.corpus import stopwords\n",
    "import re\n",
    "nltk.download('all')"
   ]
  },
  {
   "cell_type": "code",
   "execution_count": 11,
   "metadata": {},
   "outputs": [],
   "source": [
    "# Text를 불러서 word분류\n",
    "content = open('../Data/Independence.txt').read()"
   ]
  },
  {
   "cell_type": "code",
   "execution_count": 12,
   "metadata": {},
   "outputs": [
    {
     "data": {
      "text/plain": [
       "'When in the Course of human events, it becomes necessary for one people to dissolve the political bands which have connected them with another, and to assume among the powers of the earth, the separate and equal station to which the Laws of Nature and of Nature\\'s God entitle them, a decent respect to the opinions of mankind requires that they should declare the causes which impel them to the separation. \\nWe hold these truths to be self-evident, that all men are created equal, that they are endowed by their Creator with certain unalienable Rights, that among these are Life, Liberty and the pursuit of Happiness. (Note: the original hand-written text ended on the phrase\"the pursuit of property\" rather than \"the pursuit of Happiness\" but the phrase was changed in subsequent copies in part because it was broader. The latter phrase is used today). \\nThat to secure these rights, Governments are instituted among Men, deriving their just powers from the consent of the governed. That whenever any Form of Government becomes destructive of these ends, it is the Right of the People to alter or to abolish it, and to institute new Government, laying its foundation on such principles and organizing its powers in such form, as to them shall seem most likely to effect their Safety and Happiness. \\nPrudence, indeed, will dictate that governments long established should not be changed for light and transient causes; and accordingly all experience hath shown that mankind are more disposed to suffer, while evils are sufferable than to right themselves by abolishing the forms to which they are accustomed. \\nBut when a long train of abuses and usurpations, pursuing invariably the same object, evinces a design to reduce them under absolute despotism, it is their right, it is their duty, to throw off such government, and to provide new guards for their future security. \\nSuch has been the patient sufferance of these colonies; and such is now the necessity which constrains them to alter their former systems of government. \\nThe history of the present King of Great Britain is a history of repeated injuries and usurpations, all having in direct object the establishment of an absolute tyranny over these states. To prove this, let facts be submitted to a candid world. \\nHe has refused his assent to laws, the most wholesome and necessary for the public good. \\nHe has forbidden his governors to pass laws of immediate and pressing importance, unless suspended in their operation till his assent should be obtained; and, when so suspended, he has utterly neglected to attend to them. \\nHe has refused to pass other laws for the accommodation of large districts of people, unless those people would relinquish the right of representation in the legislature, a right inestimable to them, and formidable to tyrants only. \\nHe has called together legislative bodies at places unusual uncomfortable, and distant from the depository of their public records, for the sole purpose of fatiguing them into compliance with his measures. \\nHe has dissolved representative houses repeatedly, for opposing, with manly firmness, his invasions on the rights of the people. \\nHe has refused for a long time, after such dissolutions, to cause others to be elected; whereby the legislative powers, incapable of annihilation, have returned to the people at large for their exercise; the state remaining, in the mean time, exposed to all the dangers of invasions from without and convulsions within. \\nHe has endeavored to prevent the population of these states; for that purpose obstructing the laws for naturalization of foreigners; refusing to pass others to encourage their migration hither, and raising the conditions of new appropriations of lands. \\nHe has obstructed the administration of justice, by refusing his assent to laws for establishing judiciary powers. \\nHe has made judges dependent on his will alone, for the tenure of their offices, and the amount and payment of their salaries. \\nHe has erected a multitude of new offices, and sent hither swarms of officers to harass our people and eat out their substance. \\nHe has kept among us, in times of peace, standing armies, without the consent of our legislatures. \\nHe has affected to render the military independent of, and superior to, the civil power. \\nHe has combined with others to subject us to a jurisdiction foreign toour Constitution and unacknowledged by our laws, giving his assent to their acts of pretended legislation: \\nFor quartering large bodies of armed troops among us; \\nFor protecting them, by a mock trial, from punishment for any murders which they should commit on the inhabitants of these states; \\nFor cutting off our trade with all parts of the world; \\nFor imposing taxes on us without our consent; \\nFor depriving us, in many cases, of the benefits of trial by jury; \\nFor transporting us beyond seas, to be tried for pretended offenses; \\nFor abolishing the free system of English laws in a neighboring province, establishing therein an arbitrary government, and enlarging its boundaries, so as to render it at once an example and fit instrument for introducing the same absolute rule into these colonies; \\nFor taking away our charters, abolishing our most valuable laws, and altering fundamentally the forms of our governments; \\nFor suspending our own legislatures, and declaring themselves invested with power to legislate for us in all cases whatsoever. \\nHe has abdicated government here, by declaring us out of his protection and waging war against us. \\nHe has plundered our seas, ravaged our coasts, burned our towns, and destroyed the lives of our people. \\nHe is at this time transporting large armies of foreign mercenaries to complete the works of death, desolation, and tyranny already begun with circumstances of cruelty and perfidy scarcely paralleled in the most barbarous ages, and totally unworthy the head of a civilized nation. \\nHe has constrained our fellow-citizens, taken captive on the high seas, to bear arms against their country, to become the executioners of their friends and brethren, or to fall themselves by their hands. \\nHe has excited domestic insurrection among us, and has endeavored to bring on the inhabitants of our frontiers the merciless Indian savages, whose known rule of warfare is an undistinguished destruction of all ages, sexes, and conditions. \\nIn every stage of these oppressions we have petitioned for redress in the most humble terms; our repeated petitions have been answered only by repeated injury. A prince, whose character is thus marked by every act which may define a tyrant, is unfit to be the ruler of a free people. \\nNor have we been wanting in our attentions to our British brethren. We have warned them, from time to time, of attempts by their legislature to extend an unwarrantable jurisdiction over us. We have reminded them of the circumstances of our emigration and settlement here. We have appealed to their native justice and magnanimity; and we have conjured them, by the ties of our common kindred, to disavow these usurpations which would inevitably interrupt our connections and correspondence. \\nThey too, have been deaf to the voice of justice and of consanguinity. \\nWe must, therefore, acquiesce in the necessity which denounces our separation, and hold them as we hold the rest of mankind, enemies in war, in peace friends. \\nWe, therefore, the representatives of the United States of America, in General Congress assembled, appealing to the Supreme Judge of the world for the rectitude of our intentions, do, in the name and by the authority of the good people of these colonies solemnly publish and declare. \\nThat these United Colonies are, and of right ought to be, FREE AND INDEPENDENT STATES; that they are absolved from all allegiance to the British crown and that all political connection between them and the state of Great Britain is, and ought to be, totally dissolved; and that, as free and independent states, they have full power to levy war, conclude peace, contract alliances, establish commerce, and do all other acts and things which independent states may of right do. \\nAnd for the support of this declaration, with a firm reliance on the protection of Divine Providence, we mutually pledge to each other our lives, our fortunes, and our sacred honor. \\n'"
      ]
     },
     "execution_count": 12,
     "metadata": {},
     "output_type": "execute_result"
    }
   ],
   "source": [
    "content"
   ]
  },
  {
   "cell_type": "code",
   "execution_count": 16,
   "metadata": {},
   "outputs": [
    {
     "name": "stdout",
     "output_type": "stream",
     "text": [
      "['when', 'in', 'the', 'course', 'of', 'human', 'events', 'it', 'becomes', 'necessary', 'for', 'one', 'people', 'to', 'dissolve', 'the', 'political', 'bands', 'which', 'have', 'connected', 'them', 'with', 'another', 'and', 'to', 'assume', 'among', 'the', 'powers', 'of', 'the', 'earth', 'the', 'separate', 'and', 'equal', 'station', 'to', 'which', 'the', 'laws', 'of', 'nature', 'and', 'of', 'natures', 'god', 'entitle', 'them', 'a', 'decent', 'respect', 'to', 'the', 'opinions', 'of', 'mankind', 'requires', 'that', 'they', 'should', 'declare', 'the', 'causes', 'which', 'impel', 'them', 'to', 'the', 'separation', '.', 'we', 'hold', 'these', 'truths', 'to', 'be', 'selfevident', 'that', 'all', 'men', 'are', 'created', 'equal', 'that', 'they', 'are', 'endowed', 'by', 'their', 'creator', 'with', 'certain', 'unalienable', 'rights', 'that', 'among', 'these', 'are', 'life', 'liberty', 'and', 'the', 'pursuit', 'of', 'happiness', '.', 'note', 'the', 'original', 'handwritten', 'text', 'ended', 'on', 'the', 'phrasethe', 'pursuit', 'of', 'property', 'rather', 'than', 'the', 'pursuit', 'of', 'happiness', 'but', 'the', 'phrase', 'was', 'changed', 'in', 'subsequent', 'copies', 'in', 'part', 'because', 'it', 'was', 'broader', '.', 'the', 'latter', 'phrase', 'is', 'used', 'today', '.', 'that', 'to', 'secure', 'these', 'rights', 'governments', 'are', 'instituted', 'among', 'men', 'deriving', 'their', 'just', 'powers', 'from', 'the', 'consent', 'of', 'the', 'governed', '.', 'that', 'whenever', 'any', 'form', 'of', 'government', 'becomes', 'destructive', 'of', 'these', 'ends', 'it', 'is', 'the', 'right', 'of', 'the', 'people', 'to', 'alter', 'or', 'to', 'abolish', 'it', 'and', 'to', 'institute', 'new', 'government', 'laying', 'its', 'foundation', 'on', 'such', 'principles', 'and', 'organizing', 'its', 'powers', 'in', 'such', 'form', 'as', 'to', 'them', 'shall', 'seem', 'most', 'likely', 'to', 'effect', 'their', 'safety', 'and', 'happiness', '.', 'prudence', 'indeed', 'will', 'dictate', 'that', 'governments', 'long', 'established', 'should', 'not', 'be', 'changed', 'for', 'light', 'and', 'transient', 'causes', 'and', 'accordingly', 'all', 'experience', 'hath', 'shown', 'that', 'mankind', 'are', 'more', 'disposed', 'to', 'suffer', 'while', 'evils', 'are', 'sufferable', 'than', 'to', 'right', 'themselves', 'by', 'abolishing', 'the', 'forms', 'to', 'which', 'they', 'are', 'accustomed', '.', 'but', 'when', 'a', 'long', 'train', 'of', 'abuses', 'and', 'usurpations', 'pursuing', 'invariably', 'the', 'same', 'object', 'evinces', 'a', 'design', 'to', 'reduce', 'them', 'under', 'absolute', 'despotism', 'it', 'is', 'their', 'right', 'it', 'is', 'their', 'duty', 'to', 'throw', 'off', 'such', 'government', 'and', 'to', 'provide', 'new', 'guards', 'for', 'their', 'future', 'security', '.', 'such', 'has', 'been', 'the', 'patient', 'sufferance', 'of', 'these', 'colonies', 'and', 'such', 'is', 'now', 'the', 'necessity', 'which', 'constrains', 'them', 'to', 'alter', 'their', 'former', 'systems', 'of', 'government', '.', 'the', 'history', 'of', 'the', 'present', 'king', 'of', 'great', 'britain', 'is', 'a', 'history', 'of', 'repeated', 'injuries', 'and', 'usurpations', 'all', 'having', 'in', 'direct', 'object', 'the', 'establishment', 'of', 'an', 'absolute', 'tyranny', 'over', 'these', 'states', '.', 'to', 'prove', 'this', 'let', 'facts', 'be', 'submitted', 'to', 'a', 'candid', 'world', '.', 'he', 'has', 'refused', 'his', 'assent', 'to', 'laws', 'the', 'most', 'wholesome', 'and', 'necessary', 'for', 'the', 'public', 'good', '.', 'he', 'has', 'forbidden', 'his', 'governors', 'to', 'pass', 'laws', 'of', 'immediate', 'and', 'pressing', 'importance', 'unless', 'suspended', 'in', 'their', 'operation', 'till', 'his', 'assent', 'should', 'be', 'obtained', 'and', 'when', 'so', 'suspended', 'he', 'has', 'utterly', 'neglected', 'to', 'attend', 'to', 'them', '.', 'he', 'has', 'refused', 'to', 'pass', 'other', 'laws', 'for', 'the', 'accommodation', 'of', 'large', 'districts', 'of', 'people', 'unless', 'those', 'people', 'would', 'relinquish', 'the', 'right', 'of', 'representation', 'in', 'the', 'legislature', 'a', 'right', 'inestimable', 'to', 'them', 'and', 'formidable', 'to', 'tyrants', 'only', '.', 'he', 'has', 'called', 'together', 'legislative', 'bodies', 'at', 'places', 'unusual', 'uncomfortable', 'and', 'distant', 'from', 'the', 'depository', 'of', 'their', 'public', 'records', 'for', 'the', 'sole', 'purpose', 'of', 'fatiguing', 'them', 'into', 'compliance', 'with', 'his', 'measures', '.', 'he', 'has', 'dissolved', 'representative', 'houses', 'repeatedly', 'for', 'opposing', 'with', 'manly', 'firmness', 'his', 'invasions', 'on', 'the', 'rights', 'of', 'the', 'people', '.', 'he', 'has', 'refused', 'for', 'a', 'long', 'time', 'after', 'such', 'dissolutions', 'to', 'cause', 'others', 'to', 'be', 'elected', 'whereby', 'the', 'legislative', 'powers', 'incapable', 'of', 'annihilation', 'have', 'returned', 'to', 'the', 'people', 'at', 'large', 'for', 'their', 'exercise', 'the', 'state', 'remaining', 'in', 'the', 'mean', 'time', 'exposed', 'to', 'all', 'the', 'dangers', 'of', 'invasions', 'from', 'without', 'and', 'convulsions', 'within', '.', 'he', 'has', 'endeavored', 'to', 'prevent', 'the', 'population', 'of', 'these', 'states', 'for', 'that', 'purpose', 'obstructing', 'the', 'laws', 'for', 'naturalization', 'of', 'foreigners', 'refusing', 'to', 'pass', 'others', 'to', 'encourage', 'their', 'migration', 'hither', 'and', 'raising', 'the', 'conditions', 'of', 'new', 'appropriations', 'of', 'lands', '.', 'he', 'has', 'obstructed', 'the', 'administration', 'of', 'justice', 'by', 'refusing', 'his', 'assent', 'to', 'laws', 'for', 'establishing', 'judiciary', 'powers', '.', 'he', 'has', 'made', 'judges', 'dependent', 'on', 'his', 'will', 'alone', 'for', 'the', 'tenure', 'of', 'their', 'offices', 'and', 'the', 'amount', 'and', 'payment', 'of', 'their', 'salaries', '.', 'he', 'has', 'erected', 'a', 'multitude', 'of', 'new', 'offices', 'and', 'sent', 'hither', 'swarms', 'of', 'officers', 'to', 'harass', 'our', 'people', 'and', 'eat', 'out', 'their', 'substance', '.', 'he', 'has', 'kept', 'among', 'us', 'in', 'times', 'of', 'peace', 'standing', 'armies', 'without', 'the', 'consent', 'of', 'our', 'legislatures', '.', 'he', 'has', 'affected', 'to', 'render', 'the', 'military', 'independent', 'of', 'and', 'superior', 'to', 'the', 'civil', 'power', '.', 'he', 'has', 'combined', 'with', 'others', 'to', 'subject', 'us', 'to', 'a', 'jurisdiction', 'foreign', 'toour', 'constitution', 'and', 'unacknowledged', 'by', 'our', 'laws', 'giving', 'his', 'assent', 'to', 'their', 'acts', 'of', 'pretended', 'legislation', 'for', 'quartering', 'large', 'bodies', 'of', 'armed', 'troops', 'among', 'us', 'for', 'protecting', 'them', 'by', 'a', 'mock', 'trial', 'from', 'punishment', 'for', 'any', 'murders', 'which', 'they', 'should', 'commit', 'on', 'the', 'inhabitants', 'of', 'these', 'states', 'for', 'cutting', 'off', 'our', 'trade', 'with', 'all', 'parts', 'of', 'the', 'world', 'for', 'imposing', 'taxes', 'on', 'us', 'without', 'our', 'consent', 'for', 'depriving', 'us', 'in', 'many', 'cases', 'of', 'the', 'benefits', 'of', 'trial', 'by', 'jury', 'for', 'transporting', 'us', 'beyond', 'seas', 'to', 'be', 'tried', 'for', 'pretended', 'offenses', 'for', 'abolishing', 'the', 'free', 'system', 'of', 'english', 'laws', 'in', 'a', 'neighboring', 'province', 'establishing', 'therein', 'an', 'arbitrary', 'government', 'and', 'enlarging', 'its', 'boundaries', 'so', 'as', 'to', 'render', 'it', 'at', 'once', 'an', 'example', 'and', 'fit', 'instrument', 'for', 'introducing', 'the', 'same', 'absolute', 'rule', 'into', 'these', 'colonies', 'for', 'taking', 'away', 'our', 'charters', 'abolishing', 'our', 'most', 'valuable', 'laws', 'and', 'altering', 'fundamentally', 'the', 'forms', 'of', 'our', 'governments', 'for', 'suspending', 'our', 'own', 'legislatures', 'and', 'declaring', 'themselves', 'invested', 'with', 'power', 'to', 'legislate', 'for', 'us', 'in', 'all', 'cases', 'whatsoever', '.', 'he', 'has', 'abdicated', 'government', 'here', 'by', 'declaring', 'us', 'out', 'of', 'his', 'protection', 'and', 'waging', 'war', 'against', 'us', '.', 'he', 'has', 'plundered', 'our', 'seas', 'ravaged', 'our', 'coasts', 'burned', 'our', 'towns', 'and', 'destroyed', 'the', 'lives', 'of', 'our', 'people', '.', 'he', 'is', 'at', 'this', 'time', 'transporting', 'large', 'armies', 'of', 'foreign', 'mercenaries', 'to', 'complete', 'the', 'works', 'of', 'death', 'desolation', 'and', 'tyranny', 'already', 'begun', 'with', 'circumstances', 'of', 'cruelty', 'and', 'perfidy', 'scarcely', 'paralleled', 'in', 'the', 'most', 'barbarous', 'ages', 'and', 'totally', 'unworthy', 'the', 'head', 'of', 'a', 'civilized', 'nation', '.', 'he', 'has', 'constrained', 'our', 'fellowcitizens', 'taken', 'captive', 'on', 'the', 'high', 'seas', 'to', 'bear', 'arms', 'against', 'their', 'country', 'to', 'become', 'the', 'executioners', 'of', 'their', 'friends', 'and', 'brethren', 'or', 'to', 'fall', 'themselves', 'by', 'their', 'hands', '.', 'he', 'has', 'excited', 'domestic', 'insurrection', 'among', 'us', 'and', 'has', 'endeavored', 'to', 'bring', 'on', 'the', 'inhabitants', 'of', 'our', 'frontiers', 'the', 'merciless', 'indian', 'savages', 'whose', 'known', 'rule', 'of', 'warfare', 'is', 'an', 'undistinguished', 'destruction', 'of', 'all', 'ages', 'sexes', 'and', 'conditions', '.', 'in', 'every', 'stage', 'of', 'these', 'oppressions', 'we', 'have', 'petitioned', 'for', 'redress', 'in', 'the', 'most', 'humble', 'terms', 'our', 'repeated', 'petitions', 'have', 'been', 'answered', 'only', 'by', 'repeated', 'injury', '.', 'a', 'prince', 'whose', 'character', 'is', 'thus', 'marked', 'by', 'every', 'act', 'which', 'may', 'define', 'a', 'tyrant', 'is', 'unfit', 'to', 'be', 'the', 'ruler', 'of', 'a', 'free', 'people', '.', 'nor', 'have', 'we', 'been', 'wanting', 'in', 'our', 'attentions', 'to', 'our', 'british', 'brethren', '.', 'we', 'have', 'warned', 'them', 'from', 'time', 'to', 'time', 'of', 'attempts', 'by', 'their', 'legislature', 'to', 'extend', 'an', 'unwarrantable', 'jurisdiction', 'over', 'us', '.', 'we', 'have', 'reminded', 'them', 'of', 'the', 'circumstances', 'of', 'our', 'emigration', 'and', 'settlement', 'here', '.', 'we', 'have', 'appealed', 'to', 'their', 'native', 'justice', 'and', 'magnanimity', 'and', 'we', 'have', 'conjured', 'them', 'by', 'the', 'ties', 'of', 'our', 'common', 'kindred', 'to', 'disavow', 'these', 'usurpations', 'which', 'would', 'inevitably', 'interrupt', 'our', 'connections', 'and', 'correspondence', '.', 'they', 'too', 'have', 'been', 'deaf', 'to', 'the', 'voice', 'of', 'justice', 'and', 'of', 'consanguinity', '.', 'we', 'must', 'therefore', 'acquiesce', 'in', 'the', 'necessity', 'which', 'denounces', 'our', 'separation', 'and', 'hold', 'them', 'as', 'we', 'hold', 'the', 'rest', 'of', 'mankind', 'enemies', 'in', 'war', 'in', 'peace', 'friends', '.', 'we', 'therefore', 'the', 'representatives', 'of', 'the', 'united', 'states', 'of', 'america', 'in', 'general', 'congress', 'assembled', 'appealing', 'to', 'the', 'supreme', 'judge', 'of', 'the', 'world', 'for', 'the', 'rectitude', 'of', 'our', 'intentions', 'do', 'in', 'the', 'name', 'and', 'by', 'the', 'authority', 'of', 'the', 'good', 'people', 'of', 'these', 'colonies', 'solemnly', 'publish', 'and', 'declare', '.', 'that', 'these', 'united', 'colonies', 'are', 'and', 'of', 'right', 'ought', 'to', 'be', 'free', 'and', 'independent', 'states', 'that', 'they', 'are', 'absolved', 'from', 'all', 'allegiance', 'to', 'the', 'british', 'crown', 'and', 'that', 'all', 'political', 'connection', 'between', 'them', 'and', 'the', 'state', 'of', 'great', 'britain', 'is', 'and', 'ought', 'to', 'be', 'totally', 'dissolved', 'and', 'that', 'as', 'free', 'and', 'independent', 'states', 'they', 'have', 'full', 'power', 'to', 'levy', 'war', 'conclude', 'peace', 'contract', 'alliances', 'establish', 'commerce', 'and', 'do', 'all', 'other', 'acts', 'and', 'things', 'which', 'independent', 'states', 'may', 'of', 'right', 'do', '.', 'and', 'for', 'the', 'support', 'of', 'this', 'declaration', 'with', 'a', 'firm', 'reliance', 'on', 'the', 'protection', 'of', 'divine', 'providence', 'we', 'mutually', 'pledge', 'to', 'each', 'other', 'our', 'lives', 'our', 'fortunes', 'and', 'our', 'sacred', 'honor', '.']\n"
     ]
    }
   ],
   "source": [
    "# 불필요한 symbol 없애기\n",
    "cleaned_content = re.sub(r\"[^\\.\\?\\!\\w\\d\\s]\",'',content)\n",
    "\n",
    "# 대문자를 소문자로 변경 \n",
    "cleaned_content = cleaned_content.lower()\n",
    "\n",
    "# 각각의 word를 token으로 쪼개기 \n",
    "word_tokens = nltk.word_tokenize(cleaned_content)"
   ]
  },
  {
   "cell_type": "code",
   "execution_count": null,
   "metadata": {},
   "outputs": [],
   "source": [
    "print(word_tokens)"
   ]
  },
  {
   "cell_type": "code",
   "execution_count": 17,
   "metadata": {},
   "outputs": [
    {
     "name": "stdout",
     "output_type": "stream",
     "text": [
      "[('when', 'WRB'), ('in', 'IN'), ('the', 'DT'), ('course', 'NN'), ('of', 'IN'), ('human', 'JJ'), ('events', 'NNS'), ('it', 'PRP'), ('becomes', 'VBZ'), ('necessary', 'JJ'), ('for', 'IN'), ('one', 'CD'), ('people', 'NNS'), ('to', 'TO'), ('dissolve', 'VB'), ('the', 'DT'), ('political', 'JJ'), ('bands', 'NNS'), ('which', 'WDT'), ('have', 'VBP'), ('connected', 'VBN'), ('them', 'PRP'), ('with', 'IN'), ('another', 'DT'), ('and', 'CC'), ('to', 'TO'), ('assume', 'VB'), ('among', 'IN'), ('the', 'DT'), ('powers', 'NNS'), ('of', 'IN'), ('the', 'DT'), ('earth', 'NN'), ('the', 'DT'), ('separate', 'JJ'), ('and', 'CC'), ('equal', 'JJ'), ('station', 'NN'), ('to', 'TO'), ('which', 'WDT'), ('the', 'DT'), ('laws', 'NNS'), ('of', 'IN'), ('nature', 'NN'), ('and', 'CC'), ('of', 'IN'), ('natures', 'NNS'), ('god', 'VBP'), ('entitle', 'VB'), ('them', 'PRP'), ('a', 'DT'), ('decent', 'JJ'), ('respect', 'NN'), ('to', 'TO'), ('the', 'DT'), ('opinions', 'NNS'), ('of', 'IN'), ('mankind', 'NN'), ('requires', 'VBZ'), ('that', 'IN'), ('they', 'PRP'), ('should', 'MD'), ('declare', 'VB'), ('the', 'DT'), ('causes', 'NNS'), ('which', 'WDT'), ('impel', 'VBP'), ('them', 'PRP'), ('to', 'TO'), ('the', 'DT'), ('separation', 'NN'), ('.', '.'), ('we', 'PRP'), ('hold', 'VBP'), ('these', 'DT'), ('truths', 'NNS'), ('to', 'TO'), ('be', 'VB'), ('selfevident', 'JJ'), ('that', 'IN'), ('all', 'DT'), ('men', 'NNS'), ('are', 'VBP'), ('created', 'VBN'), ('equal', 'JJ'), ('that', 'IN'), ('they', 'PRP'), ('are', 'VBP'), ('endowed', 'VBN'), ('by', 'IN'), ('their', 'PRP$'), ('creator', 'NN'), ('with', 'IN'), ('certain', 'JJ'), ('unalienable', 'JJ'), ('rights', 'NNS'), ('that', 'WDT'), ('among', 'IN'), ('these', 'DT'), ('are', 'VBP'), ('life', 'NN'), ('liberty', 'NN'), ('and', 'CC'), ('the', 'DT'), ('pursuit', 'NN'), ('of', 'IN'), ('happiness', 'NN'), ('.', '.'), ('note', 'VB'), ('the', 'DT'), ('original', 'JJ'), ('handwritten', 'JJ'), ('text', 'NN'), ('ended', 'VBN'), ('on', 'IN'), ('the', 'DT'), ('phrasethe', 'JJ'), ('pursuit', 'NN'), ('of', 'IN'), ('property', 'NN'), ('rather', 'RB'), ('than', 'IN'), ('the', 'DT'), ('pursuit', 'NN'), ('of', 'IN'), ('happiness', 'NN'), ('but', 'CC'), ('the', 'DT'), ('phrase', 'NN'), ('was', 'VBD'), ('changed', 'VBN'), ('in', 'IN'), ('subsequent', 'JJ'), ('copies', 'NNS'), ('in', 'IN'), ('part', 'NN'), ('because', 'IN'), ('it', 'PRP'), ('was', 'VBD'), ('broader', 'JJR'), ('.', '.'), ('the', 'DT'), ('latter', 'JJ'), ('phrase', 'NN'), ('is', 'VBZ'), ('used', 'VBN'), ('today', 'NN'), ('.', '.'), ('that', 'IN'), ('to', 'TO'), ('secure', 'VB'), ('these', 'DT'), ('rights', 'NNS'), ('governments', 'NNS'), ('are', 'VBP'), ('instituted', 'VBN'), ('among', 'IN'), ('men', 'NNS'), ('deriving', 'VBG'), ('their', 'PRP$'), ('just', 'RB'), ('powers', 'NNS'), ('from', 'IN'), ('the', 'DT'), ('consent', 'NN'), ('of', 'IN'), ('the', 'DT'), ('governed', 'VBN'), ('.', '.'), ('that', 'IN'), ('whenever', 'VBZ'), ('any', 'DT'), ('form', 'NN'), ('of', 'IN'), ('government', 'NN'), ('becomes', 'NNS'), ('destructive', 'VBP'), ('of', 'IN'), ('these', 'DT'), ('ends', 'NNS'), ('it', 'PRP'), ('is', 'VBZ'), ('the', 'DT'), ('right', 'NN'), ('of', 'IN'), ('the', 'DT'), ('people', 'NNS'), ('to', 'TO'), ('alter', 'VB'), ('or', 'CC'), ('to', 'TO'), ('abolish', 'VB'), ('it', 'PRP'), ('and', 'CC'), ('to', 'TO'), ('institute', 'VB'), ('new', 'JJ'), ('government', 'NN'), ('laying', 'VBG'), ('its', 'PRP$'), ('foundation', 'NN'), ('on', 'IN'), ('such', 'JJ'), ('principles', 'NNS'), ('and', 'CC'), ('organizing', 'VBG'), ('its', 'PRP$'), ('powers', 'NNS'), ('in', 'IN'), ('such', 'JJ'), ('form', 'NN'), ('as', 'IN'), ('to', 'TO'), ('them', 'PRP'), ('shall', 'MD'), ('seem', 'VB'), ('most', 'RBS'), ('likely', 'JJ'), ('to', 'TO'), ('effect', 'NN'), ('their', 'PRP$'), ('safety', 'NN'), ('and', 'CC'), ('happiness', 'NN'), ('.', '.'), ('prudence', 'NN'), ('indeed', 'RB'), ('will', 'MD'), ('dictate', 'VB'), ('that', 'IN'), ('governments', 'NNS'), ('long', 'RB'), ('established', 'VBN'), ('should', 'MD'), ('not', 'RB'), ('be', 'VB'), ('changed', 'VBN'), ('for', 'IN'), ('light', 'NN'), ('and', 'CC'), ('transient', 'JJ'), ('causes', 'NNS'), ('and', 'CC'), ('accordingly', 'RB'), ('all', 'DT'), ('experience', 'NN'), ('hath', 'VBD'), ('shown', 'VBN'), ('that', 'IN'), ('mankind', 'NN'), ('are', 'VBP'), ('more', 'RBR'), ('disposed', 'JJ'), ('to', 'TO'), ('suffer', 'VB'), ('while', 'IN'), ('evils', 'NNS'), ('are', 'VBP'), ('sufferable', 'JJ'), ('than', 'IN'), ('to', 'TO'), ('right', 'VB'), ('themselves', 'PRP'), ('by', 'IN'), ('abolishing', 'VBG'), ('the', 'DT'), ('forms', 'NNS'), ('to', 'TO'), ('which', 'WDT'), ('they', 'PRP'), ('are', 'VBP'), ('accustomed', 'VBN'), ('.', '.'), ('but', 'CC'), ('when', 'WRB'), ('a', 'DT'), ('long', 'JJ'), ('train', 'NN'), ('of', 'IN'), ('abuses', 'NNS'), ('and', 'CC'), ('usurpations', 'NNS'), ('pursuing', 'VBG'), ('invariably', 'RB'), ('the', 'DT'), ('same', 'JJ'), ('object', 'NN'), ('evinces', 'VBZ'), ('a', 'DT'), ('design', 'NN'), ('to', 'TO'), ('reduce', 'VB'), ('them', 'PRP'), ('under', 'IN'), ('absolute', 'NN'), ('despotism', 'NN'), ('it', 'PRP'), ('is', 'VBZ'), ('their', 'PRP$'), ('right', 'JJ'), ('it', 'PRP'), ('is', 'VBZ'), ('their', 'PRP$'), ('duty', 'NN'), ('to', 'TO'), ('throw', 'VB'), ('off', 'RP'), ('such', 'JJ'), ('government', 'NN'), ('and', 'CC'), ('to', 'TO'), ('provide', 'VB'), ('new', 'JJ'), ('guards', 'NNS'), ('for', 'IN'), ('their', 'PRP$'), ('future', 'JJ'), ('security', 'NN'), ('.', '.'), ('such', 'JJ'), ('has', 'VBZ'), ('been', 'VBN'), ('the', 'DT'), ('patient', 'JJ'), ('sufferance', 'NN'), ('of', 'IN'), ('these', 'DT'), ('colonies', 'NNS'), ('and', 'CC'), ('such', 'JJ'), ('is', 'VBZ'), ('now', 'RB'), ('the', 'DT'), ('necessity', 'NN'), ('which', 'WDT'), ('constrains', 'VBZ'), ('them', 'PRP'), ('to', 'TO'), ('alter', 'VB'), ('their', 'PRP$'), ('former', 'JJ'), ('systems', 'NNS'), ('of', 'IN'), ('government', 'NN'), ('.', '.'), ('the', 'DT'), ('history', 'NN'), ('of', 'IN'), ('the', 'DT'), ('present', 'JJ'), ('king', 'NN'), ('of', 'IN'), ('great', 'JJ'), ('britain', 'NN'), ('is', 'VBZ'), ('a', 'DT'), ('history', 'NN'), ('of', 'IN'), ('repeated', 'JJ'), ('injuries', 'NNS'), ('and', 'CC'), ('usurpations', 'NNS'), ('all', 'DT'), ('having', 'VBG'), ('in', 'IN'), ('direct', 'JJ'), ('object', 'VBP'), ('the', 'DT'), ('establishment', 'NN'), ('of', 'IN'), ('an', 'DT'), ('absolute', 'JJ'), ('tyranny', 'NN'), ('over', 'IN'), ('these', 'DT'), ('states', 'NNS'), ('.', '.'), ('to', 'TO'), ('prove', 'VB'), ('this', 'DT'), ('let', 'NN'), ('facts', 'VBZ'), ('be', 'VB'), ('submitted', 'VBN'), ('to', 'TO'), ('a', 'DT'), ('candid', 'JJ'), ('world', 'NN'), ('.', '.'), ('he', 'PRP'), ('has', 'VBZ'), ('refused', 'VBN'), ('his', 'PRP$'), ('assent', 'NN'), ('to', 'TO'), ('laws', 'NNS'), ('the', 'DT'), ('most', 'RBS'), ('wholesome', 'JJ'), ('and', 'CC'), ('necessary', 'JJ'), ('for', 'IN'), ('the', 'DT'), ('public', 'JJ'), ('good', 'NN'), ('.', '.'), ('he', 'PRP'), ('has', 'VBZ'), ('forbidden', 'VBN'), ('his', 'PRP$'), ('governors', 'NNS'), ('to', 'TO'), ('pass', 'VB'), ('laws', 'NNS'), ('of', 'IN'), ('immediate', 'JJ'), ('and', 'CC'), ('pressing', 'VBG'), ('importance', 'NN'), ('unless', 'IN'), ('suspended', 'VBN'), ('in', 'IN'), ('their', 'PRP$'), ('operation', 'NN'), ('till', 'IN'), ('his', 'PRP$'), ('assent', 'NN'), ('should', 'MD'), ('be', 'VB'), ('obtained', 'VBN'), ('and', 'CC'), ('when', 'WRB'), ('so', 'RB'), ('suspended', 'VBD'), ('he', 'PRP'), ('has', 'VBZ'), ('utterly', 'RB'), ('neglected', 'VBN'), ('to', 'TO'), ('attend', 'VB'), ('to', 'TO'), ('them', 'PRP'), ('.', '.'), ('he', 'PRP'), ('has', 'VBZ'), ('refused', 'VBN'), ('to', 'TO'), ('pass', 'VB'), ('other', 'JJ'), ('laws', 'NNS'), ('for', 'IN'), ('the', 'DT'), ('accommodation', 'NN'), ('of', 'IN'), ('large', 'JJ'), ('districts', 'NNS'), ('of', 'IN'), ('people', 'NNS'), ('unless', 'IN'), ('those', 'DT'), ('people', 'NNS'), ('would', 'MD'), ('relinquish', 'VB'), ('the', 'DT'), ('right', 'NN'), ('of', 'IN'), ('representation', 'NN'), ('in', 'IN'), ('the', 'DT'), ('legislature', 'NN'), ('a', 'DT'), ('right', 'JJ'), ('inestimable', 'NN'), ('to', 'TO'), ('them', 'PRP'), ('and', 'CC'), ('formidable', 'JJ'), ('to', 'TO'), ('tyrants', 'NNS'), ('only', 'RB'), ('.', '.'), ('he', 'PRP'), ('has', 'VBZ'), ('called', 'VBN'), ('together', 'RB'), ('legislative', 'JJ'), ('bodies', 'NNS'), ('at', 'IN'), ('places', 'NNS'), ('unusual', 'JJ'), ('uncomfortable', 'JJ'), ('and', 'CC'), ('distant', 'JJ'), ('from', 'IN'), ('the', 'DT'), ('depository', 'NN'), ('of', 'IN'), ('their', 'PRP$'), ('public', 'JJ'), ('records', 'NNS'), ('for', 'IN'), ('the', 'DT'), ('sole', 'JJ'), ('purpose', 'NN'), ('of', 'IN'), ('fatiguing', 'VBG'), ('them', 'PRP'), ('into', 'IN'), ('compliance', 'NN'), ('with', 'IN'), ('his', 'PRP$'), ('measures', 'NNS'), ('.', '.'), ('he', 'PRP'), ('has', 'VBZ'), ('dissolved', 'VBN'), ('representative', 'JJ'), ('houses', 'NNS'), ('repeatedly', 'RB'), ('for', 'IN'), ('opposing', 'VBG'), ('with', 'IN'), ('manly', 'RB'), ('firmness', 'VB'), ('his', 'PRP$'), ('invasions', 'NNS'), ('on', 'IN'), ('the', 'DT'), ('rights', 'NNS'), ('of', 'IN'), ('the', 'DT'), ('people', 'NNS'), ('.', '.'), ('he', 'PRP'), ('has', 'VBZ'), ('refused', 'VBN'), ('for', 'IN'), ('a', 'DT'), ('long', 'JJ'), ('time', 'NN'), ('after', 'IN'), ('such', 'JJ'), ('dissolutions', 'NNS'), ('to', 'TO'), ('cause', 'VB'), ('others', 'NNS'), ('to', 'TO'), ('be', 'VB'), ('elected', 'VBN'), ('whereby', 'IN'), ('the', 'DT'), ('legislative', 'JJ'), ('powers', 'NNS'), ('incapable', 'JJ'), ('of', 'IN'), ('annihilation', 'NN'), ('have', 'VBP'), ('returned', 'VBN'), ('to', 'TO'), ('the', 'DT'), ('people', 'NNS'), ('at', 'IN'), ('large', 'JJ'), ('for', 'IN'), ('their', 'PRP$'), ('exercise', 'NN'), ('the', 'DT'), ('state', 'NN'), ('remaining', 'VBG'), ('in', 'IN'), ('the', 'DT'), ('mean', 'JJ'), ('time', 'NN'), ('exposed', 'VBN'), ('to', 'TO'), ('all', 'PDT'), ('the', 'DT'), ('dangers', 'NNS'), ('of', 'IN'), ('invasions', 'NNS'), ('from', 'IN'), ('without', 'IN'), ('and', 'CC'), ('convulsions', 'NNS'), ('within', 'IN'), ('.', '.'), ('he', 'PRP'), ('has', 'VBZ'), ('endeavored', 'VBN'), ('to', 'TO'), ('prevent', 'VB'), ('the', 'DT'), ('population', 'NN'), ('of', 'IN'), ('these', 'DT'), ('states', 'NNS'), ('for', 'IN'), ('that', 'DT'), ('purpose', 'NN'), ('obstructing', 'VBG'), ('the', 'DT'), ('laws', 'NNS'), ('for', 'IN'), ('naturalization', 'NN'), ('of', 'IN'), ('foreigners', 'NNS'), ('refusing', 'VBG'), ('to', 'TO'), ('pass', 'VB'), ('others', 'NNS'), ('to', 'TO'), ('encourage', 'VB'), ('their', 'PRP$'), ('migration', 'NN'), ('hither', 'NN'), ('and', 'CC'), ('raising', 'VBG'), ('the', 'DT'), ('conditions', 'NNS'), ('of', 'IN'), ('new', 'JJ'), ('appropriations', 'NNS'), ('of', 'IN'), ('lands', 'NNS'), ('.', '.'), ('he', 'PRP'), ('has', 'VBZ'), ('obstructed', 'VBN'), ('the', 'DT'), ('administration', 'NN'), ('of', 'IN'), ('justice', 'NN'), ('by', 'IN'), ('refusing', 'VBG'), ('his', 'PRP$'), ('assent', 'NN'), ('to', 'TO'), ('laws', 'NNS'), ('for', 'IN'), ('establishing', 'VBG'), ('judiciary', 'JJ'), ('powers', 'NNS'), ('.', '.'), ('he', 'PRP'), ('has', 'VBZ'), ('made', 'VBN'), ('judges', 'NNS'), ('dependent', 'VB'), ('on', 'IN'), ('his', 'PRP$'), ('will', 'MD'), ('alone', 'VB'), ('for', 'IN'), ('the', 'DT'), ('tenure', 'NN'), ('of', 'IN'), ('their', 'PRP$'), ('offices', 'NNS'), ('and', 'CC'), ('the', 'DT'), ('amount', 'NN'), ('and', 'CC'), ('payment', 'NN'), ('of', 'IN'), ('their', 'PRP$'), ('salaries', 'NNS'), ('.', '.'), ('he', 'PRP'), ('has', 'VBZ'), ('erected', 'VBN'), ('a', 'DT'), ('multitude', 'NN'), ('of', 'IN'), ('new', 'JJ'), ('offices', 'NNS'), ('and', 'CC'), ('sent', 'VBD'), ('hither', 'JJR'), ('swarms', 'NNS'), ('of', 'IN'), ('officers', 'NNS'), ('to', 'TO'), ('harass', 'VB'), ('our', 'PRP$'), ('people', 'NNS'), ('and', 'CC'), ('eat', 'VB'), ('out', 'RP'), ('their', 'PRP$'), ('substance', 'NN'), ('.', '.'), ('he', 'PRP'), ('has', 'VBZ'), ('kept', 'VBN'), ('among', 'IN'), ('us', 'PRP'), ('in', 'IN'), ('times', 'NNS'), ('of', 'IN'), ('peace', 'NN'), ('standing', 'VBG'), ('armies', 'NNS'), ('without', 'IN'), ('the', 'DT'), ('consent', 'NN'), ('of', 'IN'), ('our', 'PRP$'), ('legislatures', 'NNS'), ('.', '.'), ('he', 'PRP'), ('has', 'VBZ'), ('affected', 'VBN'), ('to', 'TO'), ('render', 'VB'), ('the', 'DT'), ('military', 'JJ'), ('independent', 'JJ'), ('of', 'IN'), ('and', 'CC'), ('superior', 'JJ'), ('to', 'TO'), ('the', 'DT'), ('civil', 'JJ'), ('power', 'NN'), ('.', '.'), ('he', 'PRP'), ('has', 'VBZ'), ('combined', 'VBN'), ('with', 'IN'), ('others', 'NNS'), ('to', 'TO'), ('subject', 'VB'), ('us', 'PRP'), ('to', 'TO'), ('a', 'DT'), ('jurisdiction', 'NN'), ('foreign', 'JJ'), ('toour', 'JJ'), ('constitution', 'NN'), ('and', 'CC'), ('unacknowledged', 'VBN'), ('by', 'IN'), ('our', 'PRP$'), ('laws', 'NNS'), ('giving', 'VBG'), ('his', 'PRP$'), ('assent', 'NN'), ('to', 'TO'), ('their', 'PRP$'), ('acts', 'NNS'), ('of', 'IN'), ('pretended', 'JJ'), ('legislation', 'NN'), ('for', 'IN'), ('quartering', 'VBG'), ('large', 'JJ'), ('bodies', 'NNS'), ('of', 'IN'), ('armed', 'JJ'), ('troops', 'NNS'), ('among', 'IN'), ('us', 'PRP'), ('for', 'IN'), ('protecting', 'VBG'), ('them', 'PRP'), ('by', 'IN'), ('a', 'DT'), ('mock', 'NN'), ('trial', 'NN'), ('from', 'IN'), ('punishment', 'NN'), ('for', 'IN'), ('any', 'DT'), ('murders', 'NNS'), ('which', 'WDT'), ('they', 'PRP'), ('should', 'MD'), ('commit', 'VB'), ('on', 'IN'), ('the', 'DT'), ('inhabitants', 'NNS'), ('of', 'IN'), ('these', 'DT'), ('states', 'NNS'), ('for', 'IN'), ('cutting', 'VBG'), ('off', 'RP'), ('our', 'PRP$'), ('trade', 'NN'), ('with', 'IN'), ('all', 'DT'), ('parts', 'NNS'), ('of', 'IN'), ('the', 'DT'), ('world', 'NN'), ('for', 'IN'), ('imposing', 'VBG'), ('taxes', 'NNS'), ('on', 'IN'), ('us', 'PRP'), ('without', 'IN'), ('our', 'PRP$'), ('consent', 'NN'), ('for', 'IN'), ('depriving', 'VBG'), ('us', 'PRP'), ('in', 'IN'), ('many', 'JJ'), ('cases', 'NNS'), ('of', 'IN'), ('the', 'DT'), ('benefits', 'NNS'), ('of', 'IN'), ('trial', 'NN'), ('by', 'IN'), ('jury', 'NN'), ('for', 'IN'), ('transporting', 'VBG'), ('us', 'PRP'), ('beyond', 'IN'), ('seas', 'NNS'), ('to', 'TO'), ('be', 'VB'), ('tried', 'VBN'), ('for', 'IN'), ('pretended', 'JJ'), ('offenses', 'NNS'), ('for', 'IN'), ('abolishing', 'VBG'), ('the', 'DT'), ('free', 'JJ'), ('system', 'NN'), ('of', 'IN'), ('english', 'JJ'), ('laws', 'NNS'), ('in', 'IN'), ('a', 'DT'), ('neighboring', 'JJ'), ('province', 'NN'), ('establishing', 'VBG'), ('therein', 'RP'), ('an', 'DT'), ('arbitrary', 'JJ'), ('government', 'NN'), ('and', 'CC'), ('enlarging', 'VBG'), ('its', 'PRP$'), ('boundaries', 'NNS'), ('so', 'RB'), ('as', 'IN'), ('to', 'TO'), ('render', 'VB'), ('it', 'PRP'), ('at', 'IN'), ('once', 'RB'), ('an', 'DT'), ('example', 'NN'), ('and', 'CC'), ('fit', 'JJ'), ('instrument', 'NN'), ('for', 'IN'), ('introducing', 'VBG'), ('the', 'DT'), ('same', 'JJ'), ('absolute', 'NN'), ('rule', 'NN'), ('into', 'IN'), ('these', 'DT'), ('colonies', 'NNS'), ('for', 'IN'), ('taking', 'VBG'), ('away', 'RB'), ('our', 'PRP$'), ('charters', 'NNS'), ('abolishing', 'VBG'), ('our', 'PRP$'), ('most', 'RBS'), ('valuable', 'JJ'), ('laws', 'NNS'), ('and', 'CC'), ('altering', 'VBG'), ('fundamentally', 'RB'), ('the', 'DT'), ('forms', 'NNS'), ('of', 'IN'), ('our', 'PRP$'), ('governments', 'NNS'), ('for', 'IN'), ('suspending', 'VBG'), ('our', 'PRP$'), ('own', 'JJ'), ('legislatures', 'NNS'), ('and', 'CC'), ('declaring', 'VBG'), ('themselves', 'PRP'), ('invested', 'VBN'), ('with', 'IN'), ('power', 'NN'), ('to', 'TO'), ('legislate', 'VB'), ('for', 'IN'), ('us', 'PRP'), ('in', 'IN'), ('all', 'DT'), ('cases', 'NNS'), ('whatsoever', 'RB'), ('.', '.'), ('he', 'PRP'), ('has', 'VBZ'), ('abdicated', 'VBN'), ('government', 'NN'), ('here', 'RB'), ('by', 'IN'), ('declaring', 'VBG'), ('us', 'PRP'), ('out', 'IN'), ('of', 'IN'), ('his', 'PRP$'), ('protection', 'NN'), ('and', 'CC'), ('waging', 'VBG'), ('war', 'NN'), ('against', 'IN'), ('us', 'PRP'), ('.', '.'), ('he', 'PRP'), ('has', 'VBZ'), ('plundered', 'VBN'), ('our', 'PRP$'), ('seas', 'NNS'), ('ravaged', 'VBD'), ('our', 'PRP$'), ('coasts', 'NNS'), ('burned', 'VBD'), ('our', 'PRP$'), ('towns', 'NNS'), ('and', 'CC'), ('destroyed', 'VBD'), ('the', 'DT'), ('lives', 'NNS'), ('of', 'IN'), ('our', 'PRP$'), ('people', 'NNS'), ('.', '.'), ('he', 'PRP'), ('is', 'VBZ'), ('at', 'IN'), ('this', 'DT'), ('time', 'NN'), ('transporting', 'VBG'), ('large', 'JJ'), ('armies', 'NNS'), ('of', 'IN'), ('foreign', 'JJ'), ('mercenaries', 'NNS'), ('to', 'TO'), ('complete', 'VB'), ('the', 'DT'), ('works', 'NNS'), ('of', 'IN'), ('death', 'NN'), ('desolation', 'NN'), ('and', 'CC'), ('tyranny', 'JJ'), ('already', 'RB'), ('begun', 'VBN'), ('with', 'IN'), ('circumstances', 'NNS'), ('of', 'IN'), ('cruelty', 'NN'), ('and', 'CC'), ('perfidy', 'NN'), ('scarcely', 'RB'), ('paralleled', 'VBN'), ('in', 'IN'), ('the', 'DT'), ('most', 'RBS'), ('barbarous', 'JJ'), ('ages', 'NNS'), ('and', 'CC'), ('totally', 'RB'), ('unworthy', 'JJ'), ('the', 'DT'), ('head', 'NN'), ('of', 'IN'), ('a', 'DT'), ('civilized', 'JJ'), ('nation', 'NN'), ('.', '.'), ('he', 'PRP'), ('has', 'VBZ'), ('constrained', 'VBN'), ('our', 'PRP$'), ('fellowcitizens', 'NNS'), ('taken', 'VBN'), ('captive', 'NN'), ('on', 'IN'), ('the', 'DT'), ('high', 'JJ'), ('seas', 'NNS'), ('to', 'TO'), ('bear', 'VB'), ('arms', 'NNS'), ('against', 'IN'), ('their', 'PRP$'), ('country', 'NN'), ('to', 'TO'), ('become', 'VB'), ('the', 'DT'), ('executioners', 'NNS'), ('of', 'IN'), ('their', 'PRP$'), ('friends', 'NNS'), ('and', 'CC'), ('brethren', 'NNS'), ('or', 'CC'), ('to', 'TO'), ('fall', 'VB'), ('themselves', 'PRP'), ('by', 'IN'), ('their', 'PRP$'), ('hands', 'NNS'), ('.', '.'), ('he', 'PRP'), ('has', 'VBZ'), ('excited', 'VBN'), ('domestic', 'JJ'), ('insurrection', 'NN'), ('among', 'IN'), ('us', 'PRP'), ('and', 'CC'), ('has', 'VBZ'), ('endeavored', 'VBN'), ('to', 'TO'), ('bring', 'VB'), ('on', 'IN'), ('the', 'DT'), ('inhabitants', 'NNS'), ('of', 'IN'), ('our', 'PRP$'), ('frontiers', 'NNS'), ('the', 'DT'), ('merciless', 'NN'), ('indian', 'JJ'), ('savages', 'NNS'), ('whose', 'WP$'), ('known', 'JJ'), ('rule', 'NN'), ('of', 'IN'), ('warfare', 'NN'), ('is', 'VBZ'), ('an', 'DT'), ('undistinguished', 'JJ'), ('destruction', 'NN'), ('of', 'IN'), ('all', 'DT'), ('ages', 'NNS'), ('sexes', 'NNS'), ('and', 'CC'), ('conditions', 'NNS'), ('.', '.'), ('in', 'IN'), ('every', 'DT'), ('stage', 'NN'), ('of', 'IN'), ('these', 'DT'), ('oppressions', 'NNS'), ('we', 'PRP'), ('have', 'VBP'), ('petitioned', 'VBN'), ('for', 'IN'), ('redress', 'NN'), ('in', 'IN'), ('the', 'DT'), ('most', 'RBS'), ('humble', 'JJ'), ('terms', 'NNS'), ('our', 'PRP$'), ('repeated', 'VBN'), ('petitions', 'NNS'), ('have', 'VBP'), ('been', 'VBN'), ('answered', 'VBN'), ('only', 'RB'), ('by', 'IN'), ('repeated', 'JJ'), ('injury', 'NN'), ('.', '.'), ('a', 'DT'), ('prince', 'NN'), ('whose', 'WP$'), ('character', 'NN'), ('is', 'VBZ'), ('thus', 'RB'), ('marked', 'VBN'), ('by', 'IN'), ('every', 'DT'), ('act', 'NN'), ('which', 'WDT'), ('may', 'MD'), ('define', 'VB'), ('a', 'DT'), ('tyrant', 'NN'), ('is', 'VBZ'), ('unfit', 'JJ'), ('to', 'TO'), ('be', 'VB'), ('the', 'DT'), ('ruler', 'NN'), ('of', 'IN'), ('a', 'DT'), ('free', 'JJ'), ('people', 'NNS'), ('.', '.'), ('nor', 'CC'), ('have', 'VBP'), ('we', 'PRP'), ('been', 'VBN'), ('wanting', 'VBG'), ('in', 'IN'), ('our', 'PRP$'), ('attentions', 'NNS'), ('to', 'TO'), ('our', 'PRP$'), ('british', 'JJ'), ('brethren', 'NNS'), ('.', '.'), ('we', 'PRP'), ('have', 'VBP'), ('warned', 'VBN'), ('them', 'PRP'), ('from', 'IN'), ('time', 'NN'), ('to', 'TO'), ('time', 'NN'), ('of', 'IN'), ('attempts', 'NNS'), ('by', 'IN'), ('their', 'PRP$'), ('legislature', 'NN'), ('to', 'TO'), ('extend', 'VB'), ('an', 'DT'), ('unwarrantable', 'JJ'), ('jurisdiction', 'NN'), ('over', 'IN'), ('us', 'PRP'), ('.', '.'), ('we', 'PRP'), ('have', 'VBP'), ('reminded', 'VBN'), ('them', 'PRP'), ('of', 'IN'), ('the', 'DT'), ('circumstances', 'NNS'), ('of', 'IN'), ('our', 'PRP$'), ('emigration', 'NN'), ('and', 'CC'), ('settlement', 'NN'), ('here', 'RB'), ('.', '.'), ('we', 'PRP'), ('have', 'VBP'), ('appealed', 'VBN'), ('to', 'TO'), ('their', 'PRP$'), ('native', 'JJ'), ('justice', 'NN'), ('and', 'CC'), ('magnanimity', 'NN'), ('and', 'CC'), ('we', 'PRP'), ('have', 'VBP'), ('conjured', 'VBN'), ('them', 'PRP'), ('by', 'IN'), ('the', 'DT'), ('ties', 'NNS'), ('of', 'IN'), ('our', 'PRP$'), ('common', 'JJ'), ('kindred', 'VBN'), ('to', 'TO'), ('disavow', 'VB'), ('these', 'DT'), ('usurpations', 'NNS'), ('which', 'WDT'), ('would', 'MD'), ('inevitably', 'RB'), ('interrupt', 'VB'), ('our', 'PRP$'), ('connections', 'NNS'), ('and', 'CC'), ('correspondence', 'NN'), ('.', '.'), ('they', 'PRP'), ('too', 'RB'), ('have', 'VBP'), ('been', 'VBN'), ('deaf', 'VBN'), ('to', 'TO'), ('the', 'DT'), ('voice', 'NN'), ('of', 'IN'), ('justice', 'NN'), ('and', 'CC'), ('of', 'IN'), ('consanguinity', 'NN'), ('.', '.'), ('we', 'PRP'), ('must', 'MD'), ('therefore', 'VB'), ('acquiesce', 'NN'), ('in', 'IN'), ('the', 'DT'), ('necessity', 'NN'), ('which', 'WDT'), ('denounces', 'VBZ'), ('our', 'PRP$'), ('separation', 'NN'), ('and', 'CC'), ('hold', 'VB'), ('them', 'PRP'), ('as', 'IN'), ('we', 'PRP'), ('hold', 'VBP'), ('the', 'DT'), ('rest', 'NN'), ('of', 'IN'), ('mankind', 'NN'), ('enemies', 'NNS'), ('in', 'IN'), ('war', 'NN'), ('in', 'IN'), ('peace', 'NN'), ('friends', 'NNS'), ('.', '.'), ('we', 'PRP'), ('therefore', 'VBP'), ('the', 'DT'), ('representatives', 'NNS'), ('of', 'IN'), ('the', 'DT'), ('united', 'JJ'), ('states', 'NNS'), ('of', 'IN'), ('america', 'NN'), ('in', 'IN'), ('general', 'JJ'), ('congress', 'NN'), ('assembled', 'VBD'), ('appealing', 'VBG'), ('to', 'TO'), ('the', 'DT'), ('supreme', 'JJ'), ('judge', 'NN'), ('of', 'IN'), ('the', 'DT'), ('world', 'NN'), ('for', 'IN'), ('the', 'DT'), ('rectitude', 'NN'), ('of', 'IN'), ('our', 'PRP$'), ('intentions', 'NNS'), ('do', 'VBP'), ('in', 'IN'), ('the', 'DT'), ('name', 'NN'), ('and', 'CC'), ('by', 'IN'), ('the', 'DT'), ('authority', 'NN'), ('of', 'IN'), ('the', 'DT'), ('good', 'JJ'), ('people', 'NNS'), ('of', 'IN'), ('these', 'DT'), ('colonies', 'NNS'), ('solemnly', 'RB'), ('publish', 'JJ'), ('and', 'CC'), ('declare', 'NN'), ('.', '.'), ('that', 'IN'), ('these', 'DT'), ('united', 'JJ'), ('colonies', 'NNS'), ('are', 'VBP'), ('and', 'CC'), ('of', 'IN'), ('right', 'JJ'), ('ought', 'MD'), ('to', 'TO'), ('be', 'VB'), ('free', 'JJ'), ('and', 'CC'), ('independent', 'JJ'), ('states', 'NNS'), ('that', 'IN'), ('they', 'PRP'), ('are', 'VBP'), ('absolved', 'VBN'), ('from', 'IN'), ('all', 'DT'), ('allegiance', 'NN'), ('to', 'TO'), ('the', 'DT'), ('british', 'JJ'), ('crown', 'NN'), ('and', 'CC'), ('that', 'IN'), ('all', 'DT'), ('political', 'JJ'), ('connection', 'NN'), ('between', 'IN'), ('them', 'PRP'), ('and', 'CC'), ('the', 'DT'), ('state', 'NN'), ('of', 'IN'), ('great', 'JJ'), ('britain', 'NN'), ('is', 'VBZ'), ('and', 'CC'), ('ought', 'MD'), ('to', 'TO'), ('be', 'VB'), ('totally', 'RB'), ('dissolved', 'JJ'), ('and', 'CC'), ('that', 'IN'), ('as', 'RB'), ('free', 'JJ'), ('and', 'CC'), ('independent', 'JJ'), ('states', 'NNS'), ('they', 'PRP'), ('have', 'VBP'), ('full', 'JJ'), ('power', 'NN'), ('to', 'TO'), ('levy', 'VB'), ('war', 'NN'), ('conclude', 'NN'), ('peace', 'NN'), ('contract', 'NN'), ('alliances', 'NNS'), ('establish', 'VB'), ('commerce', 'NN'), ('and', 'CC'), ('do', 'VBP'), ('all', 'DT'), ('other', 'JJ'), ('acts', 'NNS'), ('and', 'CC'), ('things', 'NNS'), ('which', 'WDT'), ('independent', 'JJ'), ('states', 'NNS'), ('may', 'MD'), ('of', 'IN'), ('right', 'NN'), ('do', 'NN'), ('.', '.'), ('and', 'CC'), ('for', 'IN'), ('the', 'DT'), ('support', 'NN'), ('of', 'IN'), ('this', 'DT'), ('declaration', 'NN'), ('with', 'IN'), ('a', 'DT'), ('firm', 'JJ'), ('reliance', 'NN'), ('on', 'IN'), ('the', 'DT'), ('protection', 'NN'), ('of', 'IN'), ('divine', 'JJ'), ('providence', 'NN'), ('we', 'PRP'), ('mutually', 'RB'), ('pledge', 'VBP'), ('to', 'TO'), ('each', 'DT'), ('other', 'JJ'), ('our', 'PRP$'), ('lives', 'NNS'), ('our', 'PRP$'), ('fortunes', 'NNS'), ('and', 'CC'), ('our', 'PRP$'), ('sacred', 'JJ'), ('honor', 'NN'), ('.', '.')]\n"
     ]
    }
   ],
   "source": [
    "# 품사 분리\n",
    "tokens_pos = nltk.pos_tag(word_tokens)\n",
    "print(tokens_pos)"
   ]
  },
  {
   "cell_type": "code",
   "execution_count": 18,
   "metadata": {},
   "outputs": [
    {
     "name": "stdout",
     "output_type": "stream",
     "text": [
      "['course', 'events', 'people', 'bands', 'powers', 'earth', 'station', 'laws', 'nature', 'natures', 'respect', 'opinions', 'mankind', 'causes', 'separation', 'truths', 'men', 'creator', 'rights', 'life', 'liberty', 'pursuit', 'happiness', 'text', 'pursuit', 'property', 'pursuit', 'happiness', 'phrase', 'copies', 'part', 'phrase', 'today', 'rights', 'governments', 'men', 'powers', 'consent', 'form', 'government', 'becomes', 'ends', 'right', 'people', 'government', 'foundation', 'principles', 'powers', 'form', 'effect', 'safety', 'happiness', 'prudence', 'governments', 'light', 'causes', 'experience', 'mankind', 'evils', 'forms', 'train', 'abuses', 'usurpations', 'object', 'design', 'absolute', 'despotism', 'duty', 'government', 'guards', 'security', 'sufferance', 'colonies', 'necessity', 'systems', 'government', 'history', 'king', 'britain', 'history', 'injuries', 'usurpations', 'establishment', 'tyranny', 'states', 'let', 'world', 'assent', 'laws', 'good', 'governors', 'laws', 'importance', 'operation', 'assent', 'laws', 'accommodation', 'districts', 'people', 'people', 'right', 'representation', 'legislature', 'inestimable', 'tyrants', 'bodies', 'places', 'depository', 'records', 'purpose', 'compliance', 'measures', 'houses', 'invasions', 'rights', 'people', 'time', 'dissolutions', 'others', 'powers', 'annihilation', 'people', 'exercise', 'state', 'time', 'dangers', 'invasions', 'convulsions', 'population', 'states', 'purpose', 'laws', 'naturalization', 'foreigners', 'others', 'migration', 'hither', 'conditions', 'appropriations', 'lands', 'administration', 'justice', 'assent', 'laws', 'powers', 'judges', 'tenure', 'offices', 'amount', 'payment', 'salaries', 'multitude', 'offices', 'swarms', 'officers', 'people', 'substance', 'times', 'peace', 'armies', 'consent', 'legislatures', 'power', 'others', 'jurisdiction', 'constitution', 'laws', 'assent', 'acts', 'legislation', 'bodies', 'troops', 'mock', 'trial', 'punishment', 'murders', 'inhabitants', 'states', 'trade', 'parts', 'world', 'taxes', 'consent', 'cases', 'benefits', 'trial', 'jury', 'seas', 'offenses', 'system', 'laws', 'province', 'government', 'boundaries', 'example', 'instrument', 'absolute', 'rule', 'colonies', 'charters', 'laws', 'forms', 'governments', 'legislatures', 'power', 'cases', 'government', 'protection', 'war', 'seas', 'coasts', 'towns', 'lives', 'people', 'time', 'armies', 'mercenaries', 'works', 'death', 'desolation', 'circumstances', 'cruelty', 'perfidy', 'ages', 'head', 'nation', 'fellowcitizens', 'captive', 'seas', 'arms', 'country', 'executioners', 'friends', 'brethren', 'hands', 'insurrection', 'inhabitants', 'frontiers', 'merciless', 'savages', 'rule', 'warfare', 'destruction', 'ages', 'sexes', 'conditions', 'stage', 'oppressions', 'redress', 'terms', 'petitions', 'injury', 'prince', 'character', 'act', 'tyrant', 'ruler', 'people', 'attentions', 'brethren', 'time', 'time', 'attempts', 'legislature', 'jurisdiction', 'circumstances', 'emigration', 'settlement', 'justice', 'magnanimity', 'ties', 'usurpations', 'connections', 'correspondence', 'voice', 'justice', 'consanguinity', 'acquiesce', 'necessity', 'separation', 'rest', 'mankind', 'enemies', 'war', 'peace', 'friends', 'representatives', 'states', 'america', 'congress', 'judge', 'world', 'rectitude', 'intentions', 'name', 'authority', 'people', 'colonies', 'declare', 'colonies', 'states', 'allegiance', 'crown', 'connection', 'state', 'britain', 'states', 'power', 'war', 'conclude', 'peace', 'contract', 'alliances', 'commerce', 'acts', 'things', 'states', 'right', 'do', 'support', 'declaration', 'reliance', 'protection', 'providence', 'lives', 'fortunes', 'honor']\n"
     ]
    }
   ],
   "source": [
    "# 명사만 추출하기\n",
    "NN_words = []\n",
    "for word, pos in tokens_pos:\n",
    "    if 'NN' in pos :\n",
    "        NN_words.append(word)\n",
    "\n",
    "print(NN_words)"
   ]
  },
  {
   "cell_type": "code",
   "execution_count": 19,
   "metadata": {},
   "outputs": [
    {
     "name": "stdout",
     "output_type": "stream",
     "text": [
      "['course', 'event', 'people', 'band', 'power', 'earth', 'station', 'law', 'nature', 'nature', 'respect', 'opinion', 'mankind', 'cause', 'separation', 'truth', 'men', 'creator', 'right', 'life', 'liberty', 'pursuit', 'happiness', 'text', 'pursuit', 'property', 'pursuit', 'happiness', 'phrase', 'copy', 'part', 'phrase', 'today', 'right', 'government', 'men', 'power', 'consent', 'form', 'government', 'becomes', 'end', 'right', 'people', 'government', 'foundation', 'principle', 'power', 'form', 'effect', 'safety', 'happiness', 'prudence', 'government', 'light', 'cause', 'experience', 'mankind', 'evil', 'form', 'train', 'abuse', 'usurpation', 'object', 'design', 'absolute', 'despotism', 'duty', 'government', 'guard', 'security', 'sufferance', 'colony', 'necessity', 'system', 'government', 'history', 'king', 'britain', 'history', 'injury', 'usurpation', 'establishment', 'tyranny', 'state', 'let', 'world', 'assent', 'law', 'good', 'governor', 'law', 'importance', 'operation', 'assent', 'law', 'accommodation', 'district', 'people', 'people', 'right', 'representation', 'legislature', 'inestimable', 'tyrant', 'body', 'place', 'depository', 'record', 'purpose', 'compliance', 'measure', 'house', 'invasion', 'right', 'people', 'time', 'dissolution', 'others', 'power', 'annihilation', 'people', 'exercise', 'state', 'time', 'danger', 'invasion', 'convulsion', 'population', 'state', 'purpose', 'law', 'naturalization', 'foreigner', 'others', 'migration', 'hither', 'condition', 'appropriation', 'land', 'administration', 'justice', 'assent', 'law', 'power', 'judge', 'tenure', 'office', 'amount', 'payment', 'salary', 'multitude', 'office', 'swarm', 'officer', 'people', 'substance', 'time', 'peace', 'army', 'consent', 'legislature', 'power', 'others', 'jurisdiction', 'constitution', 'law', 'assent', 'act', 'legislation', 'body', 'troop', 'mock', 'trial', 'punishment', 'murder', 'inhabitant', 'state', 'trade', 'part', 'world', 'tax', 'consent', 'case', 'benefit', 'trial', 'jury', 'sea', 'offense', 'system', 'law', 'province', 'government', 'boundary', 'example', 'instrument', 'absolute', 'rule', 'colony', 'charter', 'law', 'form', 'government', 'legislature', 'power', 'case', 'government', 'protection', 'war', 'sea', 'coast', 'town', 'life', 'people', 'time', 'army', 'mercenary', 'work', 'death', 'desolation', 'circumstance', 'cruelty', 'perfidy', 'age', 'head', 'nation', 'fellowcitizens', 'captive', 'sea', 'arm', 'country', 'executioner', 'friend', 'brother', 'hand', 'insurrection', 'inhabitant', 'frontier', 'merciless', 'savage', 'rule', 'warfare', 'destruction', 'age', 'sex', 'condition', 'stage', 'oppression', 'redress', 'term', 'petition', 'injury', 'prince', 'character', 'act', 'tyrant', 'ruler', 'people', 'attention', 'brother', 'time', 'time', 'attempt', 'legislature', 'jurisdiction', 'circumstance', 'emigration', 'settlement', 'justice', 'magnanimity', 'tie', 'usurpation', 'connection', 'correspondence', 'voice', 'justice', 'consanguinity', 'acquiesce', 'necessity', 'separation', 'rest', 'mankind', 'enemy', 'war', 'peace', 'friend', 'representative', 'state', 'america', 'congress', 'judge', 'world', 'rectitude', 'intention', 'name', 'authority', 'people', 'colony', 'declare', 'colony', 'state', 'allegiance', 'crown', 'connection', 'state', 'britain', 'state', 'power', 'war', 'conclude', 'peace', 'contract', 'alliance', 'commerce', 'act', 'thing', 'state', 'right', 'do', 'support', 'declaration', 'reliance', 'protection', 'providence', 'life', 'fortune', 'honor']\n"
     ]
    }
   ],
   "source": [
    "# 단수/복수 등 단어 원형으로 복원\n",
    "wlem = nltk.WordNetLemmatizer()\n",
    "lemmatized_words =[]\n",
    "for word in NN_words:\n",
    "    new_word = wlem.lemmatize(word)\n",
    "    lemmatized_words.append(new_word)\n",
    "\n",
    "print(lemmatized_words)"
   ]
  },
  {
   "cell_type": "code",
   "execution_count": 20,
   "metadata": {},
   "outputs": [],
   "source": [
    "# 불용어 (stopword) 제거\n",
    "\n",
    "stopwords_list = stopwords.words('english')\n",
    "unique_NN_worlds = set(lemmatized_words) #set은 중복값이 없어짐\n",
    "final_NN_words = lemmatized_words\n",
    "\n",
    "for word in unique_NN_worlds:\n",
    "    if word in stopwords_list:\n",
    "        while word in final_NN_words:\n",
    "            final_NN_words.remove(word)"
   ]
  },
  {
   "cell_type": "code",
   "execution_count": 21,
   "metadata": {},
   "outputs": [],
   "source": [
    "# 원하는 단어 제거\n",
    "\n",
    "customized_stopwords = ['fuck','hell','suck','dick']\n",
    "\n",
    "unique_NN_worlds1 = set(final_NN_words) #set은 중복값이 없어짐\n",
    "\n",
    "for word in unique_NN_worlds1:\n",
    "    if word in customized_stopwords:\n",
    "        while word in final_NN_words:\n",
    "            final_NN_words.remove(word)"
   ]
  },
  {
   "cell_type": "code",
   "execution_count": 22,
   "metadata": {},
   "outputs": [
    {
     "name": "stdout",
     "output_type": "stream",
     "text": [
      "['course', 'event', 'people', 'band', 'power', 'earth', 'station', 'law', 'nature', 'nature', 'respect', 'opinion', 'mankind', 'cause', 'separation', 'truth', 'men', 'creator', 'right', 'life', 'liberty', 'pursuit', 'happiness', 'text', 'pursuit', 'property', 'pursuit', 'happiness', 'phrase', 'copy', 'part', 'phrase', 'today', 'right', 'government', 'men', 'power', 'consent', 'form', 'government', 'becomes', 'end', 'right', 'people', 'government', 'foundation', 'principle', 'power', 'form', 'effect', 'safety', 'happiness', 'prudence', 'government', 'light', 'cause', 'experience', 'mankind', 'evil', 'form', 'train', 'abuse', 'usurpation', 'object', 'design', 'absolute', 'despotism', 'duty', 'government', 'guard', 'security', 'sufferance', 'colony', 'necessity', 'system', 'government', 'history', 'king', 'britain', 'history', 'injury', 'usurpation', 'establishment', 'tyranny', 'state', 'let', 'world', 'assent', 'law', 'good', 'governor', 'law', 'importance', 'operation', 'assent', 'law', 'accommodation', 'district', 'people', 'people', 'right', 'representation', 'legislature', 'inestimable', 'tyrant', 'body', 'place', 'depository', 'record', 'purpose', 'compliance', 'measure', 'house', 'invasion', 'right', 'people', 'time', 'dissolution', 'others', 'power', 'annihilation', 'people', 'exercise', 'state', 'time', 'danger', 'invasion', 'convulsion', 'population', 'state', 'purpose', 'law', 'naturalization', 'foreigner', 'others', 'migration', 'hither', 'condition', 'appropriation', 'land', 'administration', 'justice', 'assent', 'law', 'power', 'judge', 'tenure', 'office', 'amount', 'payment', 'salary', 'multitude', 'office', 'swarm', 'officer', 'people', 'substance', 'time', 'peace', 'army', 'consent', 'legislature', 'power', 'others', 'jurisdiction', 'constitution', 'law', 'assent', 'act', 'legislation', 'body', 'troop', 'mock', 'trial', 'punishment', 'murder', 'inhabitant', 'state', 'trade', 'part', 'world', 'tax', 'consent', 'case', 'benefit', 'trial', 'jury', 'sea', 'offense', 'system', 'law', 'province', 'government', 'boundary', 'example', 'instrument', 'absolute', 'rule', 'colony', 'charter', 'law', 'form', 'government', 'legislature', 'power', 'case', 'government', 'protection', 'war', 'sea', 'coast', 'town', 'life', 'people', 'time', 'army', 'mercenary', 'work', 'death', 'desolation', 'circumstance', 'cruelty', 'perfidy', 'age', 'head', 'nation', 'fellowcitizens', 'captive', 'sea', 'arm', 'country', 'executioner', 'friend', 'brother', 'hand', 'insurrection', 'inhabitant', 'frontier', 'merciless', 'savage', 'rule', 'warfare', 'destruction', 'age', 'sex', 'condition', 'stage', 'oppression', 'redress', 'term', 'petition', 'injury', 'prince', 'character', 'act', 'tyrant', 'ruler', 'people', 'attention', 'brother', 'time', 'time', 'attempt', 'legislature', 'jurisdiction', 'circumstance', 'emigration', 'settlement', 'justice', 'magnanimity', 'tie', 'usurpation', 'connection', 'correspondence', 'voice', 'justice', 'consanguinity', 'acquiesce', 'necessity', 'separation', 'rest', 'mankind', 'enemy', 'war', 'peace', 'friend', 'representative', 'state', 'america', 'congress', 'judge', 'world', 'rectitude', 'intention', 'name', 'authority', 'people', 'colony', 'declare', 'colony', 'state', 'allegiance', 'crown', 'connection', 'state', 'britain', 'state', 'power', 'war', 'conclude', 'peace', 'contract', 'alliance', 'commerce', 'act', 'thing', 'state', 'right', 'support', 'declaration', 'reliance', 'protection', 'providence', 'life', 'fortune', 'honor']\n"
     ]
    }
   ],
   "source": [
    "print(final_NN_words)"
   ]
  },
  {
   "cell_type": "code",
   "execution_count": 23,
   "metadata": {},
   "outputs": [],
   "source": [
    "# 빈도 분석\n",
    "from collections import Counter"
   ]
  },
  {
   "cell_type": "code",
   "execution_count": 24,
   "metadata": {},
   "outputs": [
    {
     "name": "stdout",
     "output_type": "stream",
     "text": [
      "Counter({'people': 10, 'law': 9, 'government': 9, 'state': 9, 'power': 8, 'right': 6, 'time': 6, 'form': 4, 'colony': 4, 'assent': 4, 'legislature': 4, 'mankind': 3, 'life': 3, 'pursuit': 3, 'happiness': 3, 'consent': 3, 'usurpation': 3, 'world': 3, 'others': 3, 'justice': 3, 'peace': 3, 'act': 3, 'sea': 3, 'war': 3, 'nature': 2, 'cause': 2, 'separation': 2, 'men': 2, 'phrase': 2, 'part': 2, 'absolute': 2, 'necessity': 2, 'system': 2, 'history': 2, 'britain': 2, 'injury': 2, 'tyrant': 2, 'body': 2, 'purpose': 2, 'invasion': 2, 'condition': 2, 'judge': 2, 'office': 2, 'army': 2, 'jurisdiction': 2, 'trial': 2, 'inhabitant': 2, 'case': 2, 'rule': 2, 'protection': 2, 'circumstance': 2, 'age': 2, 'friend': 2, 'brother': 2, 'connection': 2, 'course': 1, 'event': 1, 'band': 1, 'earth': 1, 'station': 1, 'respect': 1, 'opinion': 1, 'truth': 1, 'creator': 1, 'liberty': 1, 'text': 1, 'property': 1, 'copy': 1, 'today': 1, 'becomes': 1, 'end': 1, 'foundation': 1, 'principle': 1, 'effect': 1, 'safety': 1, 'prudence': 1, 'light': 1, 'experience': 1, 'evil': 1, 'train': 1, 'abuse': 1, 'object': 1, 'design': 1, 'despotism': 1, 'duty': 1, 'guard': 1, 'security': 1, 'sufferance': 1, 'king': 1, 'establishment': 1, 'tyranny': 1, 'let': 1, 'good': 1, 'governor': 1, 'importance': 1, 'operation': 1, 'accommodation': 1, 'district': 1, 'representation': 1, 'inestimable': 1, 'place': 1, 'depository': 1, 'record': 1, 'compliance': 1, 'measure': 1, 'house': 1, 'dissolution': 1, 'annihilation': 1, 'exercise': 1, 'danger': 1, 'convulsion': 1, 'population': 1, 'naturalization': 1, 'foreigner': 1, 'migration': 1, 'hither': 1, 'appropriation': 1, 'land': 1, 'administration': 1, 'tenure': 1, 'amount': 1, 'payment': 1, 'salary': 1, 'multitude': 1, 'swarm': 1, 'officer': 1, 'substance': 1, 'constitution': 1, 'legislation': 1, 'troop': 1, 'mock': 1, 'punishment': 1, 'murder': 1, 'trade': 1, 'tax': 1, 'benefit': 1, 'jury': 1, 'offense': 1, 'province': 1, 'boundary': 1, 'example': 1, 'instrument': 1, 'charter': 1, 'coast': 1, 'town': 1, 'mercenary': 1, 'work': 1, 'death': 1, 'desolation': 1, 'cruelty': 1, 'perfidy': 1, 'head': 1, 'nation': 1, 'fellowcitizens': 1, 'captive': 1, 'arm': 1, 'country': 1, 'executioner': 1, 'hand': 1, 'insurrection': 1, 'frontier': 1, 'merciless': 1, 'savage': 1, 'warfare': 1, 'destruction': 1, 'sex': 1, 'stage': 1, 'oppression': 1, 'redress': 1, 'term': 1, 'petition': 1, 'prince': 1, 'character': 1, 'ruler': 1, 'attention': 1, 'attempt': 1, 'emigration': 1, 'settlement': 1, 'magnanimity': 1, 'tie': 1, 'correspondence': 1, 'voice': 1, 'consanguinity': 1, 'acquiesce': 1, 'rest': 1, 'enemy': 1, 'representative': 1, 'america': 1, 'congress': 1, 'rectitude': 1, 'intention': 1, 'name': 1, 'authority': 1, 'declare': 1, 'allegiance': 1, 'crown': 1, 'conclude': 1, 'contract': 1, 'alliance': 1, 'commerce': 1, 'thing': 1, 'support': 1, 'declaration': 1, 'reliance': 1, 'providence': 1, 'fortune': 1, 'honor': 1})\n"
     ]
    }
   ],
   "source": [
    "c = Counter(final_NN_words)\n",
    "print(c)"
   ]
  },
  {
   "cell_type": "code",
   "execution_count": 25,
   "metadata": {},
   "outputs": [
    {
     "name": "stdout",
     "output_type": "stream",
     "text": [
      "[('people', 10), ('law', 9), ('government', 9), ('state', 9), ('power', 8), ('right', 6), ('time', 6), ('form', 4), ('colony', 4), ('assent', 4), ('legislature', 4), ('mankind', 3), ('life', 3), ('pursuit', 3), ('happiness', 3), ('consent', 3), ('usurpation', 3), ('world', 3), ('others', 3), ('justice', 3)]\n"
     ]
    }
   ],
   "source": [
    "k = 20 \n",
    "print(c.most_common(k)) #상위 20개만 뽑는것 "
   ]
  },
  {
   "cell_type": "code",
   "execution_count": null,
   "metadata": {},
   "outputs": [],
   "source": []
  }
 ],
 "metadata": {
  "kernelspec": {
   "display_name": "tensorflow",
   "language": "python",
   "name": "python3"
  },
  "language_info": {
   "codemirror_mode": {
    "name": "ipython",
    "version": 3
   },
   "file_extension": ".py",
   "mimetype": "text/x-python",
   "name": "python",
   "nbconvert_exporter": "python",
   "pygments_lexer": "ipython3",
   "version": "3.9.13"
  },
  "orig_nbformat": 4,
  "vscode": {
   "interpreter": {
    "hash": "d864e386a55a2cee39c31bc0e2325312cb68f97ec75faaaf5382620c119f58c5"
   }
  }
 },
 "nbformat": 4,
 "nbformat_minor": 2
}
