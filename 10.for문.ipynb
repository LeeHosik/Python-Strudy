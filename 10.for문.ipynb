{
 "cells": [
  {
   "attachments": {},
   "cell_type": "markdown",
   "metadata": {},
   "source": [
    "### range 함수"
   ]
  },
  {
   "cell_type": "code",
   "execution_count": 2,
   "metadata": {},
   "outputs": [
    {
     "data": {
      "text/plain": [
       "[1, 2, 3, 4, 5, 6, 7, 8, 9, 10]"
      ]
     },
     "execution_count": 2,
     "metadata": {},
     "output_type": "execute_result"
    }
   ],
   "source": [
    "var = range(1,11)\n",
    "list(var)"
   ]
  },
  {
   "cell_type": "code",
   "execution_count": 3,
   "metadata": {},
   "outputs": [
    {
     "data": {
      "text/plain": [
       "[0, 2, 4, 6, 8, 10]"
      ]
     },
     "execution_count": 3,
     "metadata": {},
     "output_type": "execute_result"
    }
   ],
   "source": [
    "# 0 ~ 10까지의 짝수\n",
    "list(range(0,10+1, 2))"
   ]
  },
  {
   "cell_type": "code",
   "execution_count": 10,
   "metadata": {},
   "outputs": [
    {
     "data": {
      "text/plain": [
       "[10, 8, 6, 4, 2]"
      ]
     },
     "execution_count": 10,
     "metadata": {},
     "output_type": "execute_result"
    }
   ],
   "source": [
    "# 10 ~ 1 까지의 짝수\n",
    "list(range(10,0,-2))"
   ]
  },
  {
   "cell_type": "code",
   "execution_count": 11,
   "metadata": {},
   "outputs": [
    {
     "data": {
      "text/plain": [
       "[0, 1, 2, 3, 4]"
      ]
     },
     "execution_count": 11,
     "metadata": {},
     "output_type": "execute_result"
    }
   ],
   "source": [
    "list(range(5))"
   ]
  },
  {
   "cell_type": "code",
   "execution_count": 12,
   "metadata": {},
   "outputs": [
    {
     "name": "stdout",
     "output_type": "stream",
     "text": [
      "0\n",
      "1\n",
      "2\n",
      "3\n",
      "4\n"
     ]
    }
   ],
   "source": [
    "for i in range(5):\n",
    "    print(i)"
   ]
  },
  {
   "cell_type": "code",
   "execution_count": 48,
   "metadata": {},
   "outputs": [
    {
     "name": "stdout",
     "output_type": "stream",
     "text": [
      " 1 : 1.00000000 \n",
      " 2 : 1.41421356 \n",
      " 3 : 1.73205081 \n",
      " 4 : 2.00000000 \n",
      " 5 : 2.23606798 \n",
      " 6 : 2.44948974 \n",
      " 7 : 2.64575131 \n",
      " 8 : 2.82842712 \n",
      " 9 : 3.00000000 \n",
      "10 : 3.16227766 \n"
     ]
    }
   ],
   "source": [
    "# 1 ~ 10 까지의 제곱근을 출력하기\n",
    "import math\n",
    "for i in range(1,11):\n",
    "    print(f'{i:>2} : {\"%0.8f\"%(math.sqrt(i)) :>10} ')"
   ]
  },
  {
   "cell_type": "code",
   "execution_count": 45,
   "metadata": {},
   "outputs": [
    {
     "name": "stdout",
     "output_type": "stream",
     "text": [
      " 0 : 0.00000000 \n",
      " 1 : 1.00000000 \n",
      " 2 : 1.41421356 \n",
      " 3 : 1.73205081 \n",
      " 4 : 2.00000000 \n",
      " 5 : 2.23606798 \n",
      " 6 : 2.44948974 \n",
      " 7 : 2.64575131 \n",
      " 8 : 2.82842712 \n",
      " 9 : 3.00000000 \n",
      "10 : 3.16227766 \n"
     ]
    }
   ],
   "source": [
    "def sqrtTest(getInt):\n",
    "    for i in range(0, getInt+1):\n",
    "        var = print(f'{i:>2} : {\"%0.8f\"%(math.sqrt(i)) :>10} ')\n",
    "    return var\n",
    "sqrtTest(10)"
   ]
  },
  {
   "cell_type": "code",
   "execution_count": 49,
   "metadata": {},
   "outputs": [
    {
     "name": "stdout",
     "output_type": "stream",
     "text": [
      " 1 :   00000001 \n",
      " 2 :   00000001 \n",
      " 3 :   00000001 \n",
      " 4 :   00000002 \n",
      " 5 :   00000002 \n",
      " 6 :   00000002 \n",
      " 7 :   00000002 \n",
      " 8 :   00000002 \n",
      " 9 :   00000003 \n",
      "10 :   00000003 \n"
     ]
    }
   ],
   "source": [
    "for i in range(1,11):\n",
    "    print(f'{i:>2} : {\"%0.8d\"%(math.sqrt(i)) :>10} ')"
   ]
  },
  {
   "cell_type": "code",
   "execution_count": 51,
   "metadata": {},
   "outputs": [
    {
     "name": "stdout",
     "output_type": "stream",
     "text": [
      " 1 :        1.0 \n",
      " 2 :   1.414213 \n",
      " 3 :   1.732050 \n",
      " 4 :        2.0 \n",
      " 5 :   2.236067 \n",
      " 6 :   2.449489 \n",
      " 7 :   2.645751 \n",
      " 8 :   2.828427 \n",
      " 9 :        3.0 \n",
      "10 :   3.162277 \n"
     ]
    }
   ],
   "source": [
    "for i in range(1,11):\n",
    "    print(f'{i:>2} : {\"%0.8s\"%(math.sqrt(i)) :>10} ')"
   ]
  },
  {
   "cell_type": "code",
   "execution_count": 58,
   "metadata": {},
   "outputs": [
    {
     "name": "stdout",
     "output_type": "stream",
     "text": [
      " 1 : 1.00000000\n",
      " 2 : 1.41421356\n",
      " 3 : 1.73205081\n",
      " 4 : 2.00000000\n",
      " 5 : 2.23606798\n",
      " 6 : 2.44948974\n",
      " 7 : 2.64575131\n",
      " 8 : 2.82842712\n",
      " 9 : 3.00000000\n",
      "10 : 3.16227766\n",
      "11 : 3.31662479\n",
      "12 : 3.46410162\n",
      "13 : 3.60555128\n",
      "14 : 3.74165739\n",
      "15 : 3.87298335\n",
      "16 : 4.00000000\n",
      "17 : 4.12310563\n",
      "18 : 4.24264069\n",
      "19 : 4.35889894\n",
      "20 : 4.47213595\n",
      "21 : 4.58257569\n",
      "22 : 4.69041576\n",
      "23 : 4.79583152\n",
      "24 : 4.89897949\n",
      "25 : 5.00000000\n",
      "26 : 5.09901951\n",
      "27 : 5.19615242\n",
      "28 : 5.29150262\n",
      "29 : 5.38516481\n",
      "30 : 5.47722558\n",
      "31 : 5.56776436\n",
      "32 : 5.65685425\n",
      "33 : 5.74456265\n",
      "34 : 5.83095189\n",
      "35 : 5.91607978\n",
      "36 : 6.00000000\n",
      "37 : 6.08276253\n",
      "38 : 6.16441400\n",
      "39 : 6.24499800\n",
      "40 : 6.32455532\n",
      "41 : 6.40312424\n",
      "42 : 6.48074070\n",
      "43 : 6.55743852\n",
      "44 : 6.63324958\n",
      "45 : 6.70820393\n",
      "46 : 6.78232998\n",
      "47 : 6.85565460\n",
      "48 : 6.92820323\n",
      "49 : 7.00000000\n",
      "50 : 7.07106781\n",
      "51 : 7.14142843\n",
      "52 : 7.21110255\n",
      "53 : 7.28010989\n",
      "54 : 7.34846923\n",
      "55 : 7.41619849\n",
      "56 : 7.48331477\n",
      "57 : 7.54983444\n",
      "58 : 7.61577311\n",
      "59 : 7.68114575\n",
      "60 : 7.74596669\n",
      "61 : 7.81024968\n",
      "62 : 7.87400787\n",
      "63 : 7.93725393\n",
      "64 : 8.00000000\n",
      "65 : 8.06225775\n",
      "66 : 8.12403840\n",
      "67 : 8.18535277\n",
      "68 : 8.24621125\n",
      "69 : 8.30662386\n",
      "70 : 8.36660027\n",
      "71 : 8.42614977\n",
      "72 : 8.48528137\n",
      "73 : 8.54400375\n",
      "74 : 8.60232527\n",
      "75 : 8.66025404\n",
      "76 : 8.71779789\n",
      "77 : 8.77496439\n",
      "78 : 8.83176087\n",
      "79 : 8.88819442\n",
      "80 : 8.94427191\n",
      "81 : 9.00000000\n",
      "82 : 9.05538514\n",
      "83 : 9.11043358\n",
      "84 : 9.16515139\n",
      "85 : 9.21954446\n",
      "86 : 9.27361850\n",
      "87 : 9.32737905\n",
      "88 : 9.38083152\n",
      "89 : 9.43398113\n",
      "90 : 9.48683298\n",
      "91 : 9.53939201\n",
      "92 : 9.59166305\n",
      "93 : 9.64365076\n",
      "94 : 9.69535971\n",
      "95 : 9.74679434\n",
      "96 : 9.79795897\n",
      "97 : 9.84885780\n",
      "98 : 9.89949494\n",
      "99 : 9.94987437\n",
      "100 : 10.00000000\n",
      "101 : 10.04987562\n",
      "102 : 10.09950494\n",
      "103 : 10.14889157\n",
      "104 : 10.19803903\n",
      "105 : 10.24695077\n",
      "106 : 10.29563014\n",
      "107 : 10.34408043\n",
      "108 : 10.39230485\n",
      "109 : 10.44030651\n"
     ]
    }
   ],
   "source": [
    "for i in range(1,110):\n",
    "    j = math.sqrt(i)\n",
    "    print(\"%2.0f\"%i,\":\",\"%0.8f\"%j)"
   ]
  },
  {
   "cell_type": "code",
   "execution_count": 54,
   "metadata": {},
   "outputs": [
    {
     "name": "stdout",
     "output_type": "stream",
     "text": [
      " 0 : 0.00000000 \n",
      " 1 : 1.00000000 \n",
      " 2 : 1.41421356 \n",
      " 3 : 1.73205081 \n",
      " 4 : 2.00000000 \n",
      " 5 : 2.23606798 \n",
      " 6 : 2.44948974 \n",
      " 7 : 2.64575131 \n",
      " 8 : 2.82842712 \n",
      " 9 : 3.00000000 \n",
      "10 : 3.16227766 \n",
      "11 : 3.31662479 \n",
      "12 : 3.46410162 \n",
      "13 : 3.60555128 \n",
      "14 : 3.74165739 \n",
      "15 : 3.87298335 \n",
      "16 : 4.00000000 \n",
      "17 : 4.12310563 \n",
      "18 : 4.24264069 \n",
      "19 : 4.35889894 \n",
      "20 : 4.47213595 \n",
      "21 : 4.58257569 \n",
      "22 : 4.69041576 \n",
      "23 : 4.79583152 \n",
      "24 : 4.89897949 \n",
      "25 : 5.00000000 \n",
      "26 : 5.09901951 \n",
      "27 : 5.19615242 \n",
      "28 : 5.29150262 \n",
      "29 : 5.38516481 \n",
      "30 : 5.47722558 \n",
      "31 : 5.56776436 \n",
      "32 : 5.65685425 \n",
      "33 : 5.74456265 \n",
      "34 : 5.83095189 \n",
      "35 : 5.91607978 \n",
      "36 : 6.00000000 \n",
      "37 : 6.08276253 \n",
      "38 : 6.16441400 \n",
      "39 : 6.24499800 \n",
      "40 : 6.32455532 \n",
      "41 : 6.40312424 \n",
      "42 : 6.48074070 \n",
      "43 : 6.55743852 \n",
      "44 : 6.63324958 \n",
      "45 : 6.70820393 \n",
      "46 : 6.78232998 \n",
      "47 : 6.85565460 \n",
      "48 : 6.92820323 \n",
      "49 : 7.00000000 \n",
      "50 : 7.07106781 \n",
      "51 : 7.14142843 \n",
      "52 : 7.21110255 \n",
      "53 : 7.28010989 \n",
      "54 : 7.34846923 \n",
      "55 : 7.41619849 \n",
      "56 : 7.48331477 \n",
      "57 : 7.54983444 \n",
      "58 : 7.61577311 \n",
      "59 : 7.68114575 \n",
      "60 : 7.74596669 \n",
      "61 : 7.81024968 \n",
      "62 : 7.87400787 \n",
      "63 : 7.93725393 \n",
      "64 : 8.00000000 \n",
      "65 : 8.06225775 \n",
      "66 : 8.12403840 \n",
      "67 : 8.18535277 \n",
      "68 : 8.24621125 \n",
      "69 : 8.30662386 \n",
      "70 : 8.36660027 \n",
      "71 : 8.42614977 \n",
      "72 : 8.48528137 \n",
      "73 : 8.54400375 \n",
      "74 : 8.60232527 \n",
      "75 : 8.66025404 \n",
      "76 : 8.71779789 \n",
      "77 : 8.77496439 \n",
      "78 : 8.83176087 \n",
      "79 : 8.88819442 \n",
      "80 : 8.94427191 \n",
      "81 : 9.00000000 \n",
      "82 : 9.05538514 \n",
      "83 : 9.11043358 \n",
      "84 : 9.16515139 \n",
      "85 : 9.21954446 \n",
      "86 : 9.27361850 \n",
      "87 : 9.32737905 \n",
      "88 : 9.38083152 \n",
      "89 : 9.43398113 \n",
      "90 : 9.48683298 \n",
      "91 : 9.53939201 \n",
      "92 : 9.59166305 \n",
      "93 : 9.64365076 \n",
      "94 : 9.69535971 \n",
      "95 : 9.74679434 \n",
      "96 : 9.79795897 \n",
      "97 : 9.84885780 \n",
      "98 : 9.89949494 \n",
      "99 : 9.94987437 \n",
      "100 : 10.00000000 \n"
     ]
    }
   ],
   "source": [
    "sqrtTest(100)"
   ]
  },
  {
   "cell_type": "code",
   "execution_count": 70,
   "metadata": {},
   "outputs": [
    {
     "name": "stdout",
     "output_type": "stream",
     "text": [
      "aaaa : bbbb\n"
     ]
    }
   ],
   "source": [
    "print(\"aaaa\" , end= \" : \")\n",
    "print(\"bbbb\")\n"
   ]
  },
  {
   "cell_type": "code",
   "execution_count": 74,
   "metadata": {},
   "outputs": [
    {
     "name": "stdout",
     "output_type": "stream",
     "text": [
      " 2  4  6  8 10 12 14 16 18 \n",
      " 3  6  9 12 15 18 21 24 27 \n",
      " 4  8 12 16 20 24 28 32 36 \n",
      " 5 10 15 20 25 30 35 40 45 \n",
      " 6 12 18 24 30 36 42 48 54 \n",
      " 7 14 21 28 35 42 49 56 63 \n",
      " 8 16 24 32 40 48 56 64 72 \n",
      " 9 18 27 36 45 54 63 72 81 \n"
     ]
    }
   ],
   "source": [
    "\n",
    "for i in range(2,10):\n",
    "    for j in range(1,10):\n",
    "        print(f'{(i * j):>2}', end = \" \" ,)\n",
    "    print(\"\")"
   ]
  },
  {
   "cell_type": "code",
   "execution_count": 75,
   "metadata": {},
   "outputs": [
    {
     "name": "stdout",
     "output_type": "stream",
     "text": [
      "one\n",
      "two\n",
      "three\n"
     ]
    }
   ],
   "source": [
    "# for 문에 List 사용하기\n",
    "lists = ['one','two','three']\n",
    "\n",
    "for list in lists:\n",
    "    print(list)"
   ]
  },
  {
   "cell_type": "code",
   "execution_count": 80,
   "metadata": {},
   "outputs": [
    {
     "name": "stdout",
     "output_type": "stream",
     "text": [
      "1 : 2\n",
      "3 : 4\n",
      "5 : 육\n",
      "(1, 2)\n",
      "(3, 4)\n",
      "(5, '육')\n"
     ]
    }
   ],
   "source": [
    "# use Tuple in for\n",
    "\n",
    "vars = [(1,2),(3,4),(5,'육')]\n",
    "\n",
    "for first, last in vars:\n",
    "    print(first,\":\", last)\n",
    "\n",
    "for var in vars:\n",
    "    print(var)"
   ]
  },
  {
   "cell_type": "code",
   "execution_count": 97,
   "metadata": {},
   "outputs": [
    {
     "name": "stdout",
     "output_type": "stream",
     "text": [
      "1의 학생은 합격 입니다\n",
      "2의 학생은 불합격 입니다\n",
      "3의 학생은 합격 입니다\n",
      "4의 학생은 불합격 입니다\n",
      "5의 학생은 합격 입니다\n"
     ]
    }
   ],
   "source": [
    "scores = [90, 25, 67, 45, 80]\n",
    "student = 1\n",
    "\n",
    "while scores:\n",
    "    score = scores.pop(0)\n",
    "    result = \"합격\" if score >= 60 else \"불합격\"\n",
    "    print(f'{student}의 학생은 {result} 입니다')\n",
    "    student += 1\n",
    "    "
   ]
  },
  {
   "cell_type": "code",
   "execution_count": 107,
   "metadata": {},
   "outputs": [
    {
     "name": "stdout",
     "output_type": "stream",
     "text": [
      "1의 학생은 점수가 90이므로 합격 입니다\n",
      "2의 학생은 점수가 25이어서 불합격 입니다\n",
      "3의 학생은 점수가 67이므로 합격 입니다\n",
      "4의 학생은 점수가 45이어서 불합격 입니다\n",
      "5의 학생은 점수가 80이므로 합격 입니다\n"
     ]
    }
   ],
   "source": [
    "scores = [90, 25, 67, 45, 80]\n",
    "student = 1\n",
    "\n",
    "for score in scores:\n",
    "    print(f'{student}의 학생은 점수가 {score}{\"이므로 합격\" if score >= 60 else \"이어서 불합격\"} 입니다');student += 1"
   ]
  },
  {
   "cell_type": "code",
   "execution_count": 114,
   "metadata": {},
   "outputs": [],
   "source": [
    "import numpy as np"
   ]
  },
  {
   "cell_type": "code",
   "execution_count": 120,
   "metadata": {},
   "outputs": [
    {
     "name": "stdout",
     "output_type": "stream",
     "text": [
      "학급의 평균 점수는 61.40 입니다\n",
      "1의 학생은 점수가 90이므로 합격 입니다\n",
      "2의 학생은 점수가 25이어서 불합격 입니다\n",
      "3의 학생은 점수가 67이므로 합격 입니다\n",
      "4의 학생은 점수가 45이어서 불합격 입니다\n",
      "5의 학생은 점수가 80이므로 합격 입니다\n"
     ]
    }
   ],
   "source": [
    "scores = [90, 25, 67, 45, 80]\n",
    "student = 1\n",
    "\n",
    "print(f'학급의 평균 점수는 {\"%0.2f\"%np.mean(scores)} 입니다')\n",
    "\n",
    "for score in scores:\n",
    "    print(f'{student}의 학생은 점수가 {score}{\"이므로 합격\" if score >= np.mean(scores) else \"이어서 불합격\"} 입니다');student += 1\n"
   ]
  },
  {
   "cell_type": "code",
   "execution_count": 121,
   "metadata": {},
   "outputs": [
    {
     "name": "stdout",
     "output_type": "stream",
     "text": [
      "[5, 10, 15, 20]\n"
     ]
    }
   ],
   "source": [
    "# 리스트를 읽어서 리스트 값에 5를 곱한 새로운 리스트 만들기\n",
    "\n",
    "var01 = [1,2,3,4]\n",
    "var02 = []\n",
    "for i in var01:\n",
    "    var02.append(i*5)\n",
    "\n",
    "\n",
    "print(var02)"
   ]
  },
  {
   "cell_type": "code",
   "execution_count": 129,
   "metadata": {},
   "outputs": [
    {
     "name": "stdout",
     "output_type": "stream",
     "text": [
      "[1, 3, 5]\n"
     ]
    }
   ],
   "source": [
    "# 총 5명의 학생이 시험을 보았는데 시험점수가 60점을 넘으면 합격이고 그렇지 않으면 불합격이다.\n",
    "# 합격인 학생들의 번호만 새로운 list를 생성하여 출력하기\n",
    "scores = [90, 25, 67, 45, 80]\n",
    "student = 1\n",
    "studentList = []\n",
    "\n",
    "for score in scores:\n",
    "    if score >= 60:studentList.append(student)\n",
    "    student += 1\n",
    "print(studentList)\n",
    "\n"
   ]
  },
  {
   "attachments": {},
   "cell_type": "markdown",
   "metadata": {},
   "source": [
    "---\n",
    "### 문장과 단어 추출"
   ]
  },
  {
   "cell_type": "code",
   "execution_count": 140,
   "metadata": {},
   "outputs": [],
   "source": [
    "string = \"\"\"나는 이호식 입니다.\n",
    "주소는 서울시 입니다.\n",
    "나이는 33세 입니다.\"\"\""
   ]
  },
  {
   "cell_type": "code",
   "execution_count": 141,
   "metadata": {},
   "outputs": [],
   "source": [
    "sents = [] # 문장들어갈\n",
    "words = [] # 단어 들어갈"
   ]
  },
  {
   "cell_type": "code",
   "execution_count": 142,
   "metadata": {},
   "outputs": [
    {
     "name": "stdout",
     "output_type": "stream",
     "text": [
      "['나는 이호식 입니다.', '주소는 서울시 입니다.', '나이는 33세 입니다.']\n",
      "['나는', '이호식', '입니다.', '주소는', '서울시', '입니다.', '나이는', '33세', '입니다.']\n"
     ]
    }
   ],
   "source": [
    "# 문단 -> 문장\n",
    "for sen in string.split(sep=\"\\n\"):\n",
    "    sents.append(sen)\n",
    "    # 문장 -> 단어\n",
    "    for word in sen.split():\n",
    "        words.append(word)\n",
    "\n",
    "print(sents)\n",
    "print(words)"
   ]
  },
  {
   "cell_type": "code",
   "execution_count": 143,
   "metadata": {},
   "outputs": [
    {
     "name": "stdout",
     "output_type": "stream",
     "text": [
      "문장 : ['나는 이호식 입니다.', '주소는 서울시 입니다.', '나이는 33세 입니다.']\n",
      "문장 수 : 3\n",
      "단어 :  ['나는', '이호식', '입니다.', '주소는', '서울시', '입니다.', '나이는', '33세', '입니다.']\n",
      "단어 수 :  9\n"
     ]
    }
   ],
   "source": [
    "print('문장 :',sents)\n",
    "print('문장 수 :', len(sents))\n",
    "\n",
    "print('단어 : ', words)\n",
    "print('단어 수 : ', len(words))\n"
   ]
  },
  {
   "attachments": {},
   "cell_type": "markdown",
   "metadata": {},
   "source": [
    "---\n",
    "### Python의 Listed For 문"
   ]
  },
  {
   "cell_type": "code",
   "execution_count": 144,
   "metadata": {},
   "outputs": [
    {
     "name": "stdout",
     "output_type": "stream",
     "text": [
      "[5, 10, 15, 20]\n"
     ]
    }
   ],
   "source": [
    "var01 = [1,2,3,4]\n",
    "var02 = [i * 5 for i in var01]\n",
    "print(var02)"
   ]
  },
  {
   "cell_type": "code",
   "execution_count": 145,
   "metadata": {},
   "outputs": [
    {
     "name": "stdout",
     "output_type": "stream",
     "text": [
      "[10, 20]\n"
     ]
    }
   ],
   "source": [
    "var02 = [i * 5 for i in var01 if i % 2 == 0]\n",
    "print(var02)"
   ]
  },
  {
   "cell_type": "code",
   "execution_count": 148,
   "metadata": {},
   "outputs": [
    {
     "name": "stdout",
     "output_type": "stream",
     "text": [
      "[2, 4, 6, 8, 10, 12, 14, 16, 18, 3, 6, 9, 12, 15, 18, 21, 24, 27, 4, 8, 12, 16, 20, 24, 28, 32, 36, 5, 10, 15, 20, 25, 30, 35, 40, 45, 6, 12, 18, 24, 30, 36, 42, 48, 54, 7, 14, 21, 28, 35, 42, 49, 56, 63, 8, 16, 24, 32, 40, 48, 56, 64, 72, 9, 18, 27, 36, 45, 54, 63, 72, 81]\n"
     ]
    }
   ],
   "source": [
    "# 구구단 결과만 리스트로 만들기\n",
    "var = [i * j for i in range(2,10) for j in range(1,10)]\n",
    "print(var)"
   ]
  },
  {
   "cell_type": "code",
   "execution_count": 151,
   "metadata": {},
   "outputs": [],
   "source": [
    "import numpy as np"
   ]
  },
  {
   "cell_type": "code",
   "execution_count": 152,
   "metadata": {},
   "outputs": [
    {
     "name": "stdout",
     "output_type": "stream",
     "text": [
      "[90, 67, 80]\n",
      "79.0\n"
     ]
    }
   ],
   "source": [
    "# 60점 이상의 학생 점수만 List로 만들어 평균 구하기\n",
    "scores = [90, 25, 67, 45, 80]\n",
    "var = [i for i in scores if i >= 60]\n",
    "\n",
    "print(var)\n",
    "print(np.mean(var))"
   ]
  },
  {
   "cell_type": "code",
   "execution_count": null,
   "metadata": {},
   "outputs": [],
   "source": []
  }
 ],
 "metadata": {
  "kernelspec": {
   "display_name": "tensorflow",
   "language": "python",
   "name": "python3"
  },
  "language_info": {
   "codemirror_mode": {
    "name": "ipython",
    "version": 3
   },
   "file_extension": ".py",
   "mimetype": "text/x-python",
   "name": "python",
   "nbconvert_exporter": "python",
   "pygments_lexer": "ipython3",
   "version": "3.9.13"
  },
  "orig_nbformat": 4,
  "vscode": {
   "interpreter": {
    "hash": "d864e386a55a2cee39c31bc0e2325312cb68f97ec75faaaf5382620c119f58c5"
   }
  }
 },
 "nbformat": 4,
 "nbformat_minor": 2
}
