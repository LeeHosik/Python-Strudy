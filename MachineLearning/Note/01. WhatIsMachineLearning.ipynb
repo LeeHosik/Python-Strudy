{
 "cells": [
  {
   "attachments": {},
   "cell_type": "markdown",
   "metadata": {},
   "source": [
    "# What is Machine Learning ?\n",
    "수 많은 데이터를 학습시켜 거기에 있는 Pattern(Y=aX +b) 을 찾아내고 이를 기반으로 데이터를 분류하거나 예측.   \n",
    "- nomal software (결정론적 software)는 언제나 똑같은 과정을 거쳐 똑같은 결과를 낸다.   \n",
    "- machine learning(비결정론적 software)기반 software는 데이터와 알고리즘(ex, randomForest)에 따라 때로는 다른 결과를 추론해 낸다.   \n",
    "(추론 : 이미 알고 있는 것으로 부터 논리적 결론을 도출하는 과정)   \n"
   ]
  },
  {
   "attachments": {},
   "cell_type": "markdown",
   "metadata": {},
   "source": [
    "## Machine Learning 개요\n",
    "machine learning이란 인공지능 연구 과제 중의 하나로 인간의 뇌가 지연스럽게 수행하는 학습이 나는 능력을 컴퓨터로 구현하는 방법\n",
    "- 어느 정도 규모가 있는 (양질의) 샘플 데이터를 입력으로 넣어 분석 시킨다.\n",
    "- 그리고 이때 데이터에서 일정한 규칙을 찾아 낸다.\n",
    "- 찾아낸 규칙을 기반으로 다른 데이터로 분류(Classification)하거나 예측(Regression) 하는 것."
   ]
  },
  {
   "attachments": {},
   "cell_type": "markdown",
   "metadata": {},
   "source": [
    "## Machine Learning의 종류    \n",
    "1) 지도학습(Supervised Learning)   \n",
    ": 학습시 데이터와 답을 같이 학습한 후 다른 데이터의 값을 예측(데이터가 무조건 많아야 함).    \n",
    "    딥러닝과의 차이점 : 분석가가 관여하므로 결과가 달라짐.    \n",
    "   \n",
    "2) 비지도학습(Unsupervised Learning)   \n",
    ": 학습시 데이터만 학습한 후(답이 없으므로) 다른 데이터의 규칙성을 찾는다.   \n",
    "본질적인 구조를 확인할 때 사용.(like K-means)    \n",
    "(ex, 데이터가 너무 많거나 컬럼이 너무 많은 경우 줄이기 위해 사용(R에서 주성분 분석(Principal Component Analysis, PCA))        \n",
    "   \n",
    "3) 강화학습(Reinforcement Learning)   \n",
    ": 부분적으로 답을 입력한 후 데이터를 기반으로 최적의 답을 찾아 냄. (수많은 시행착오를 거쳐 답을 찾아냄)    \n",
    "   \n",
    "4) 딥러닝 (Deep Learning)   \n",
    ": 지도학습과 비지도학습의 관련이 있으나 특이성은 학습자료에 대한 인간의 개입을 받지 않는다.   "
   ]
  },
  {
   "attachments": {},
   "cell_type": "markdown",
   "metadata": {},
   "source": [
    "### Machine Learning 작업 흐름\n",
    "(1) 데이터 수집   \n",
    "(2) 데이터 가공    \n",
    "(3) 데이터 학습    \n",
    "    - 학습 방법 선택   \n",
    "    - 매개 변수 조정(HyperParameter)   \n",
    "    - 모델 학습      \n",
    "    \n",
    "(4) 모델 평가(예측력)      \n",
    "(5) 예측력이 좋은 경우 다음 단계 진행하고, 아니면 (3) 부터 다시 시작    \n",
    "(6) 성공!"
   ]
  },
  {
   "attachments": {},
   "cell_type": "markdown",
   "metadata": {},
   "source": [
    "## Machine Learning 응용 분야\n",
    "#### 클래스 분류(Classification)\n",
    "- 특정 데이터에 레이블(정답)을 붙여 분류할 수 있다.(있으면 지도, 없으면 비지도)     \n",
    "- 스팸 메일 분류, 필기인식, 증권 사기 방지 등   \n",
    "        \n",
    "#### 클러스터링(Clustering)      \n",
    "- 값의 유사성을 기반으로 데이터를 여러 그룹으로 나눌 수 있음.    \n",
    "- 사용자의 취향을 그룹으로 묶어 사용자 취향에 맞는 광고를 제공.    \n",
    "\n",
    "#### 추천(Recommandation)      \n",
    "- 특정 데이터를 기반으로 다른 데이터를 추천하는 것    \n",
    "- 인터넷 서점에서 구매한 책들을 기반으로 다른 책을 추천\n",
    "\n",
    "#### 회귀(Regression)   \n",
    "- 과거의 데이터를 기반으로 미래를 예측   \n",
    "- 판매 예측, 주가 변동\n",
    "\n",
    "#### 차원축소(Dimensionality Reduction)\n",
    "- 데이터의 트성을 유지하면서 데이터의 양을 줄이는 것\n",
    "- 데이터를 시각화 하거나 구조를 추출해서 용량을 줄여 계산을 빠르게 하거나 메모리를 절약할 때 사용"
   ]
  },
  {
   "attachments": {},
   "cell_type": "markdown",
   "metadata": {},
   "source": [
    "## 프로젝트 과정\n",
    "머신러닝 프로젝트는 크게 문제정의, 데이터 획득, 모델 구현, 검증, 테스트의 단계로 구현\n",
    "\n",
    "#### 문제정의\n",
    "- 프로젝트의 목표를 정의하고 그에 따른 계획을 세우는 단계   \n",
    "- 대략적으로 어떤 데이터를 수집해서 어떤 머신러닝 알고리즘으로 문제를 해결할지 결정하는 단계\n",
    "\n",
    "#### 데이터 획득\n",
    "- 머신러닝 모델 학습에 필요한 데이터를 수집하는 단계   \n",
    "- 성공적인 머신러닝 프로젝트는 뛰어난 머신러닝 실력보다도 얼마나 충분히 (양질의)데이터를 획득했느냐에 의해 결정됨\n",
    "- 획득한 데이터는 학습데이터, 검증데이터, 테스트데이터로 구분되어 사용 됨   \n",
    "\n",
    "#### 모델 구현\n",
    "- 학습데이터를 기반으로한 한개 이상의 머신러닝 모델을 구현   \n",
    "\n",
    "#### 검증\n",
    "- 검증 데이터를 사용해 구현된 머신러닝 모델들의 성능을 검증\n",
    "- 최종적으로 검증 결과가 가장 높은 모델 하나를 선택\n",
    "\n",
    "#### 테스트\n",
    "- 검증 결과를 통해 선택된 모델의 성능을 테스트 데이터로 측정 (일반화 성능 측정))"
   ]
  },
  {
   "cell_type": "markdown",
   "metadata": {},
   "source": []
  }
 ],
 "metadata": {
  "kernelspec": {
   "display_name": "tensorflow",
   "language": "python",
   "name": "python3"
  },
  "language_info": {
   "name": "python",
   "version": "3.9.13 | packaged by conda-forge | (main, May 27 2022, 17:01:00) \n[Clang 13.0.1 ]"
  },
  "orig_nbformat": 4,
  "vscode": {
   "interpreter": {
    "hash": "d864e386a55a2cee39c31bc0e2325312cb68f97ec75faaaf5382620c119f58c5"
   }
  }
 },
 "nbformat": 4,
 "nbformat_minor": 2
}
