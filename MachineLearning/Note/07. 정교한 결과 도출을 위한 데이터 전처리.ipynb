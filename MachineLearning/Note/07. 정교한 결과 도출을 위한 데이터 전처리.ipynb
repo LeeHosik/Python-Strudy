{
 "cells": [
  {
   "cell_type": "code",
   "execution_count": 1,
   "metadata": {},
   "outputs": [],
   "source": [
    "# import from\n",
    "\n",
    "import pandas as pd\n",
    "import numpy as np\n",
    "import seaborn as sns\n",
    "import matplotlib.pyplot as plt\n",
    "import json\n",
    "import folium\n",
    "import warnings\n",
    "warnings.filterwarnings(\"ignore\")\n",
    "\n",
    "# 한글 폰트 문제 해결 \n",
    "# matplotlib은 한글 폰트를 지원하지 않음\n",
    "# os정보\n",
    "import platform\n",
    "\n",
    "# font_manager : 폰트 관리 모듈\n",
    "# rc : 폰트 변경 모듈\n",
    "from matplotlib import font_manager, rc\n",
    "# unicode 설정\n",
    "plt.rcParams['axes.unicode_minus'] = False\n",
    "\n",
    "if platform.system() == 'Darwin':\n",
    "    rc('font', family='AppleGothic') # os가 macos\n",
    "elif platform.system() == 'Windows':\n",
    "    path = 'c:/Windows/Fonts/malgun.ttf' # os가 windows\n",
    "    font_name = font_manager.FontProperties(fname=path).get_name()\n",
    "    rc('font', family=font_name)\n",
    "else:\n",
    "    print(\"Unknown System\")"
   ]
  },
  {
   "cell_type": "code",
   "execution_count": 2,
   "metadata": {},
   "outputs": [],
   "source": [
    "fruits = pd.read_csv('../Data/fruites.csv')"
   ]
  },
  {
   "attachments": {},
   "cell_type": "markdown",
   "metadata": {},
   "source": [
    "### Feature Set과 Target Set을 Numpy Array로 변경"
   ]
  },
  {
   "cell_type": "code",
   "execution_count": 3,
   "metadata": {},
   "outputs": [],
   "source": [
    "testA = np.array([1,2,3,4])\n",
    "testB = np.array([10,20,30,40])"
   ]
  },
  {
   "cell_type": "code",
   "execution_count": 4,
   "metadata": {},
   "outputs": [
    {
     "data": {
      "text/plain": [
       "array([[ 1, 10],\n",
       "       [ 2, 20],\n",
       "       [ 3, 30],\n",
       "       [ 4, 40]])"
      ]
     },
     "execution_count": 4,
     "metadata": {},
     "output_type": "execute_result"
    }
   ],
   "source": [
    "# 2개의 Array를 묶어서 Column기반의 하나의 array로 만들기\n",
    "combineA = [[i,j] for i, j in zip(testA, testB)]\n",
    "np.array(combineA)"
   ]
  },
  {
   "cell_type": "code",
   "execution_count": 5,
   "metadata": {},
   "outputs": [
    {
     "data": {
      "text/plain": [
       "array([[ 1, 10],\n",
       "       [ 2, 20],\n",
       "       [ 3, 30],\n",
       "       [ 4, 40]])"
      ]
     },
     "execution_count": 5,
     "metadata": {},
     "output_type": "execute_result"
    }
   ],
   "source": [
    "combineB = np.column_stack((testA,testB))\n",
    "combineB"
   ]
  },
  {
   "cell_type": "code",
   "execution_count": 6,
   "metadata": {},
   "outputs": [
    {
     "data": {
      "text/plain": [
       "array([[ 1,  2,  3,  4],\n",
       "       [10, 20, 30, 40]])"
      ]
     },
     "execution_count": 6,
     "metadata": {},
     "output_type": "execute_result"
    }
   ],
   "source": [
    "combineC = np.row_stack((testA,testB))\n",
    "combineC"
   ]
  },
  {
   "cell_type": "code",
   "execution_count": 10,
   "metadata": {},
   "outputs": [
    {
     "data": {
      "text/plain": [
       "array([[ 25.4, 242. ],\n",
       "       [ 26.3, 290. ],\n",
       "       [ 26.5, 340. ],\n",
       "       [ 29. , 363. ],\n",
       "       [ 29. , 430. ]])"
      ]
     },
     "execution_count": 10,
     "metadata": {},
     "output_type": "execute_result"
    }
   ],
   "source": [
    "fruits_data = np.column_stack((fruits.length,fruits.weight))\n",
    "fruits_data[:5]"
   ]
  },
  {
   "cell_type": "code",
   "execution_count": 11,
   "metadata": {},
   "outputs": [
    {
     "data": {
      "text/plain": [
       "array(['apple', 'apple', 'apple', 'apple', 'apple', 'apple', 'apple',\n",
       "       'apple', 'apple', 'apple', 'apple', 'apple', 'apple', 'apple',\n",
       "       'apple', 'apple', 'apple', 'apple', 'apple', 'apple', 'apple',\n",
       "       'apple', 'apple', 'apple', 'apple', 'apple', 'apple', 'apple',\n",
       "       'apple', 'apple', 'apple', 'apple', 'apple', 'apple', 'apple',\n",
       "       'berry', 'berry', 'berry', 'berry', 'berry', 'berry', 'berry',\n",
       "       'berry', 'berry', 'berry', 'berry', 'berry', 'berry', 'berry'],\n",
       "      dtype=object)"
      ]
     },
     "execution_count": 11,
     "metadata": {},
     "output_type": "execute_result"
    }
   ],
   "source": [
    "fruits_target = np.array(fruits.name)\n",
    "fruits_target"
   ]
  },
  {
   "cell_type": "code",
   "execution_count": 12,
   "metadata": {},
   "outputs": [],
   "source": [
    "# train과 test 분리\n",
    "from sklearn.model_selection import train_test_split"
   ]
  },
  {
   "cell_type": "code",
   "execution_count": 13,
   "metadata": {},
   "outputs": [],
   "source": [
    "train_input, test_input, train_target, test_target = train_test_split( ## 이거 순서 맞춰줘야 함 앞에 input2개가 fruits_data, 뒤에 target2개가 \n",
    "    fruits_data,\n",
    "    fruits_target,\n",
    "    stratify=fruits_target,\n",
    "    random_state=42\n",
    ")"
   ]
  },
  {
   "cell_type": "code",
   "execution_count": 14,
   "metadata": {},
   "outputs": [
    {
     "data": {
      "text/plain": [
       "1.0"
      ]
     },
     "execution_count": 14,
     "metadata": {},
     "output_type": "execute_result"
    }
   ],
   "source": [
    "# KNN\n",
    "from sklearn.neighbors import KNeighborsClassifier\n",
    "kn = KNeighborsClassifier()\n",
    "kn.fit(train_input, train_target)\n",
    "kn.score(test_input,test_target)"
   ]
  },
  {
   "attachments": {},
   "cell_type": "markdown",
   "metadata": {},
   "source": [
    "---\n",
    "### 수상한 과일?"
   ]
  },
  {
   "cell_type": "code",
   "execution_count": 17,
   "metadata": {},
   "outputs": [
    {
     "data": {
      "text/plain": [
       "array(['berry'], dtype=object)"
      ]
     },
     "execution_count": 17,
     "metadata": {},
     "output_type": "execute_result"
    }
   ],
   "source": [
    "kn.predict([[25,150]])"
   ]
  },
  {
   "cell_type": "code",
   "execution_count": 20,
   "metadata": {},
   "outputs": [
    {
     "data": {
      "image/png": "[encoded data removed]",
      "text/plain": [
       "<Figure size 640x480 with 1 Axes>"
      ]
     },
     "metadata": {},
     "output_type": "display_data"
    }
   ],
   "source": [
    "#오... 25 150이 berry야 ..? 그래프로 함 봐보자\n",
    "plt.scatter(train_input[:,0],train_input[:,1])\n",
    "plt.scatter(25,150, marker='^',c='red')\n",
    "plt.show()"
   ]
  },
  {
   "attachments": {},
   "cell_type": "markdown",
   "metadata": {},
   "source": [
    "### 이웃을 출력해보자"
   ]
  },
  {
   "cell_type": "code",
   "execution_count": 23,
   "metadata": {},
   "outputs": [
    {
     "name": "stdout",
     "output_type": "stream",
     "text": [
      "[[11 20 13 22 15]]\n"
     ]
    }
   ],
   "source": [
    "distances, indexes = kn.kneighbors([[25,150]])\n",
    "# print(distances)\n",
    "print(indexes)"
   ]
  },
  {
   "cell_type": "code",
   "execution_count": 24,
   "metadata": {},
   "outputs": [
    {
     "data": {
      "text/plain": [
       "array([[[ 25.4, 242. ],\n",
       "        [ 14.3,  19.7],\n",
       "        [ 12.4,  13.4],\n",
       "        [ 12.2,  12.2],\n",
       "        [ 26.3, 290. ]]])"
      ]
     },
     "execution_count": 24,
     "metadata": {},
     "output_type": "execute_result"
    }
   ],
   "source": [
    "train_input[indexes]"
   ]
  },
  {
   "cell_type": "code",
   "execution_count": 26,
   "metadata": {},
   "outputs": [
    {
     "data": {
      "text/plain": [
       "array([['apple', 'berry', 'berry', 'berry', 'apple']], dtype=object)"
      ]
     },
     "execution_count": 26,
     "metadata": {},
     "output_type": "execute_result"
    }
   ],
   "source": [
    "train_target[indexes]"
   ]
  },
  {
   "cell_type": "code",
   "execution_count": 29,
   "metadata": {},
   "outputs": [
    {
     "data": {
      "image/png": "[encoded data removed]",
      "text/plain": [
       "<Figure size 640x480 with 1 Axes>"
      ]
     },
     "metadata": {},
     "output_type": "display_data"
    }
   ],
   "source": [
    "#오... 25 150이 berry야 ..? 그래프로 함 봐보자\n",
    "plt.scatter(train_input[:,0],train_input[:,1])\n",
    "plt.scatter(25,150, marker='^',c='red')\n",
    "plt.scatter(train_input[indexes,0],train_input[indexes,1], marker='d',c='yellow')\n",
    "plt.show()"
   ]
  },
  {
   "attachments": {},
   "cell_type": "markdown",
   "metadata": {},
   "source": [
    "그림으로 보면 apple 같은데 berry가 이웃이 3 apple이 2 이네..?\n",
    "### 기준을 맞춰보자"
   ]
  },
  {
   "cell_type": "code",
   "execution_count": 30,
   "metadata": {},
   "outputs": [
    {
     "data": {
      "image/png": "[encoded data removed]",
      "text/plain": [
       "<Figure size 640x480 with 1 Axes>"
      ]
     },
     "metadata": {},
     "output_type": "display_data"
    }
   ],
   "source": [
    "#오... 25 150이 berry야 ..? 그래프로 함 봐보자\n",
    "plt.scatter(train_input[:,0],train_input[:,1])\n",
    "plt.scatter(25,150, marker='^',c='red')\n",
    "plt.scatter(train_input[indexes,0],train_input[indexes,1], marker='d',c='yellow')\n",
    "plt.xlim(0,1000)\n",
    "\n",
    "plt.show()"
   ]
  },
  {
   "attachments": {},
   "cell_type": "markdown",
   "metadata": {},
   "source": [
    "오 .... 이렇게 보면 또 맞는거 같기도 하고 ..?\n",
    "이렇게 x,y축을 같은 값으로 넣고 보면 lentgh엔 영향이 거의 없고 weight의 영향을 크게 받나보구나!\n",
    "라고 끝내면 말이 안됨!!\n",
    "\n",
    "아무리 생각해봐도 berry는 아닌거 같아, 근데 berry래 그래서 정교한 결과가 나오도록 해야댐"
   ]
  },
  {
   "cell_type": "code",
   "execution_count": 31,
   "metadata": {},
   "outputs": [
    {
     "name": "stdout",
     "output_type": "stream",
     "text": [
      "[ 26.93333333 441.98333333] [ 10.09141549 325.61300692]\n"
     ]
    }
   ],
   "source": [
    "# length와 weight의 평균과 표준편차를 구해서 비교해보자\n",
    "\n",
    "mean = np.mean(train_input, axis=0)\n",
    "std = np.std(train_input, axis=0)\n",
    "print(mean,std)"
   ]
  },
  {
   "attachments": {},
   "cell_type": "markdown",
   "metadata": {},
   "source": [
    "--- \n",
    "### train_data 를 표준점수(Z점수) 로 변경하자\n",
    "표준점수 = (Feature - 평균) / 표준편차   \n",
    "(변동계수)"
   ]
  },
  {
   "cell_type": "code",
   "execution_count": 32,
   "metadata": {},
   "outputs": [
    {
     "data": {
      "text/plain": [
       "array([[ 0.79935928,  0.85382543],\n",
       "       [ 0.20479453, -0.24256812],\n",
       "       [-1.54917151, -1.33066961],\n",
       "       [ 0.37325454,  0.17817675],\n",
       "       [-1.55908092, -1.32729137],\n",
       "       [ 1.14618873,  1.46805151],\n",
       "       [-1.49962444, -1.32698425],\n",
       "       [ 0.50207691,  0.48528979],\n",
       "       [-1.47980562, -1.32729137],\n",
       "       [ 0.89845341,  0.83539865],\n",
       "       [ 0.60117103,  0.79240283],\n",
       "       [-0.15194433, -0.61417489],\n",
       "       [ 0.99754754,  1.71374194],\n",
       "       [-1.44016797, -1.3162353 ],\n",
       "       [-1.69781269, -1.33681187],\n",
       "       [-0.06275961, -0.46676063],\n",
       "       [ 0.79935928,  0.73098022],\n",
       "       [ 0.40298278,  0.17817675],\n",
       "       [-1.57889974, -1.32759848],\n",
       "       [ 0.27416042,  0.02462023],\n",
       "       [-1.25188913, -1.29688718],\n",
       "       [ 0.79935928,  0.79240283],\n",
       "       [-1.45998679, -1.31992065],\n",
       "       [ 0.45252984,  0.17817675],\n",
       "       [ 1.39392404,  1.63696368],\n",
       "       [ 0.6507181 ,  0.63884631],\n",
       "       [ 0.60117103,  0.79240283],\n",
       "       [-1.62844681, -1.33435497],\n",
       "       [-0.04294079, -0.31320411],\n",
       "       [ 0.50207691, -0.31320411],\n",
       "       [ 1.24528285,  1.48340716],\n",
       "       [ 0.40298278,  0.10139849],\n",
       "       [ 0.30388865,  0.02462023],\n",
       "       [ 0.20479453, -0.03680238],\n",
       "       [ 1.14618873,  1.57554107],\n",
       "       [ 0.70026516,  0.74633587]])"
      ]
     },
     "execution_count": 32,
     "metadata": {},
     "output_type": "execute_result"
    }
   ],
   "source": [
    "train_scaled = (train_input - mean) / std\n",
    "train_scaled"
   ]
  },
  {
   "cell_type": "code",
   "execution_count": 34,
   "metadata": {},
   "outputs": [],
   "source": [
    "# sklean 함수\n",
    "from sklearn.preprocessing import StandardScaler\n",
    "scaler = StandardScaler()"
   ]
  },
  {
   "cell_type": "code",
   "execution_count": 35,
   "metadata": {},
   "outputs": [
    {
     "data": {
      "text/plain": [
       "array([[ 0.79935928,  0.85382543],\n",
       "       [ 0.20479453, -0.24256812],\n",
       "       [-1.54917151, -1.33066961],\n",
       "       [ 0.37325454,  0.17817675],\n",
       "       [-1.55908092, -1.32729137],\n",
       "       [ 1.14618873,  1.46805151],\n",
       "       [-1.49962444, -1.32698425],\n",
       "       [ 0.50207691,  0.48528979],\n",
       "       [-1.47980562, -1.32729137],\n",
       "       [ 0.89845341,  0.83539865],\n",
       "       [ 0.60117103,  0.79240283],\n",
       "       [-0.15194433, -0.61417489],\n",
       "       [ 0.99754754,  1.71374194],\n",
       "       [-1.44016797, -1.3162353 ],\n",
       "       [-1.69781269, -1.33681187],\n",
       "       [-0.06275961, -0.46676063],\n",
       "       [ 0.79935928,  0.73098022],\n",
       "       [ 0.40298278,  0.17817675],\n",
       "       [-1.57889974, -1.32759848],\n",
       "       [ 0.27416042,  0.02462023],\n",
       "       [-1.25188913, -1.29688718],\n",
       "       [ 0.79935928,  0.79240283],\n",
       "       [-1.45998679, -1.31992065],\n",
       "       [ 0.45252984,  0.17817675],\n",
       "       [ 1.39392404,  1.63696368],\n",
       "       [ 0.6507181 ,  0.63884631],\n",
       "       [ 0.60117103,  0.79240283],\n",
       "       [-1.62844681, -1.33435497],\n",
       "       [-0.04294079, -0.31320411],\n",
       "       [ 0.50207691, -0.31320411],\n",
       "       [ 1.24528285,  1.48340716],\n",
       "       [ 0.40298278,  0.10139849],\n",
       "       [ 0.30388865,  0.02462023],\n",
       "       [ 0.20479453, -0.03680238],\n",
       "       [ 1.14618873,  1.57554107],\n",
       "       [ 0.70026516,  0.74633587]])"
      ]
     },
     "execution_count": 35,
     "metadata": {},
     "output_type": "execute_result"
    }
   ],
   "source": [
    "scaler.fit(train_input)\n",
    "train_scaled = scaler.transform(train_input)\n",
    "train_scaled"
   ]
  },
  {
   "attachments": {},
   "cell_type": "markdown",
   "metadata": {},
   "source": [
    "### 전처리 데이터로 모델 훈련하기"
   ]
  },
  {
   "cell_type": "code",
   "execution_count": 36,
   "metadata": {},
   "outputs": [
    {
     "data": {
      "image/png": "[encoded data removed]",
      "text/plain": [
       "<Figure size 640x480 with 1 Axes>"
      ]
     },
     "metadata": {},
     "output_type": "display_data"
    }
   ],
   "source": [
    "plt.scatter(train_scaled[:,0], train_scaled[:,1])\n",
    "plt.scatter(25,150, marker='^', c='red') # << 그냥은 못쓰지! 얘도 표준점수로 바꿔야 겠고만\n",
    "plt.show()"
   ]
  },
  {
   "cell_type": "code",
   "execution_count": 52,
   "metadata": {},
   "outputs": [
    {
     "data": {
      "text/plain": [
       "array([-0.19158198, -0.89671889])"
      ]
     },
     "execution_count": 52,
     "metadata": {},
     "output_type": "execute_result"
    }
   ],
   "source": [
    "# 예측할 데이터도 표준점수로 변경\n",
    "new = ([25,150]-mean)/std\n",
    "new"
   ]
  },
  {
   "cell_type": "code",
   "execution_count": 53,
   "metadata": {},
   "outputs": [
    {
     "data": {
      "image/png": "[encoded data removed]",
      "text/plain": [
       "<Figure size 640x480 with 1 Axes>"
      ]
     },
     "metadata": {},
     "output_type": "display_data"
    }
   ],
   "source": [
    "plt.scatter(train_scaled[:,0], train_scaled[:,1])\n",
    "plt.scatter(new[0],new[1], marker='^', c='red') # << 그냥은 못쓰지! 얘도 표준점수로 바꿔야 겠고만\n",
    "plt.show()"
   ]
  },
  {
   "attachments": {},
   "cell_type": "markdown",
   "metadata": {},
   "source": [
    "###\n",
    "KNN"
   ]
  },
  {
   "cell_type": "code",
   "execution_count": 43,
   "metadata": {},
   "outputs": [],
   "source": [
    "kn.fit(train_scaled, train_target)\n",
    "\n",
    "test_scaled = (test_input - mean) / std # << 여기 mean 과 std를 test에서 따로 구해서 해버리면 데이터 A,B로 걍 나뉘어져버림\n",
    "#>>> *** !!!! train의 mean 과 std로 그대로 test에서 사용해야함!!!! ***** <<<"
   ]
  },
  {
   "cell_type": "code",
   "execution_count": 45,
   "metadata": {},
   "outputs": [
    {
     "data": {
      "text/plain": [
       "1.0"
      ]
     },
     "execution_count": 45,
     "metadata": {},
     "output_type": "execute_result"
    }
   ],
   "source": [
    "kn.score(test_scaled, test_target)"
   ]
  },
  {
   "cell_type": "code",
   "execution_count": 47,
   "metadata": {},
   "outputs": [
    {
     "data": {
      "text/plain": [
       "array(['apple'], dtype=object)"
      ]
     },
     "execution_count": 47,
     "metadata": {},
     "output_type": "execute_result"
    }
   ],
   "source": [
    "kn.predict([new]) # 오 답이 바뀌었어 "
   ]
  },
  {
   "cell_type": "code",
   "execution_count": 54,
   "metadata": {},
   "outputs": [
    {
     "data": {
      "image/png": "[encoded data removed]",
      "text/plain": [
       "<Figure size 640x480 with 1 Axes>"
      ]
     },
     "metadata": {},
     "output_type": "display_data"
    }
   ],
   "source": [
    "# 확인을 위해 이웃을 출력하자\n",
    "distances, indexes = kn.kneighbors([new])\n",
    "\n",
    "plt.scatter(train_scaled[:,0],train_scaled[:,1])\n",
    "plt.scatter(new[0],new[1], marker='^',c='red')\n",
    "plt.scatter(train_scaled[indexes,0],train_scaled[indexes,1], marker='d', c='green')\n",
    "plt.show()"
   ]
  },
  {
   "cell_type": "code",
   "execution_count": null,
   "metadata": {},
   "outputs": [],
   "source": []
  }
 ],
 "metadata": {
  "kernelspec": {
   "display_name": "tensorflow",
   "language": "python",
   "name": "python3"
  },
  "language_info": {
   "codemirror_mode": {
    "name": "ipython",
    "version": 3
   },
   "file_extension": ".py",
   "mimetype": "text/x-python",
   "name": "python",
   "nbconvert_exporter": "python",
   "pygments_lexer": "ipython3",
   "version": "3.9.13"
  },
  "orig_nbformat": 4,
  "vscode": {
   "interpreter": {
    "hash": "d864e386a55a2cee39c31bc0e2325312cb68f97ec75faaaf5382620c119f58c5"
   }
  }
 },
 "nbformat": 4,
 "nbformat_minor": 2
}
