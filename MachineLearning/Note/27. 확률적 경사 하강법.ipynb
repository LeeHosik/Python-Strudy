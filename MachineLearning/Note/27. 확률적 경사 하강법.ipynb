{
 "cells": [
  {
   "attachments": {},
   "cell_type": "markdown",
   "metadata": {},
   "source": [
    "### 확률적 경사 하강법(SGD: Sochasctic Gradient Descent)\n",
    " - 머신러닝에도 많이 사용하지만 실질적으로 많이 사용한다.\n",
    " - 데이터가 추가 되었을 경우의 머신러닝 처리 방법\n",
    "\n",
    " 1. 새로운 데이터로 모델을 추가하여 새롭게 학습하여 처리한다\n",
    " 2. 추가 된 갯수만큼 기존의 데이터를 버리고 사용한다.\n",
    " 3. 기존 모델을 수정하면서 사용한다. (점진적 학습방법)"
   ]
  },
  {
   "attachments": {},
   "cell_type": "markdown",
   "metadata": {},
   "source": [
    "- Epoch : 훈련 세트를 다 사용했을 경우의 단계\n",
    "- mini batch 경사하강법중 mini batch의 갯수 : Hyper Parameter, 보통 2의 배수"
   ]
  },
  {
   "attachments": {},
   "cell_type": "markdown",
   "metadata": {},
   "source": [
    "### 손실함수\n",
    "- 머신러닝 알고리즘이 에러율을 측정하는 함수\n",
    "- 손실함수 값이 적은것이 정확도가 높은 것 "
   ]
  },
  {
   "cell_type": "code",
   "execution_count": null,
   "metadata": {},
   "outputs": [],
   "source": []
  }
 ],
 "metadata": {
  "kernelspec": {
   "display_name": "tensorflow",
   "language": "python",
   "name": "python3"
  },
  "language_info": {
   "name": "python",
   "version": "3.9.13 | packaged by conda-forge | (main, May 27 2022, 17:01:00) \n[Clang 13.0.1 ]"
  },
  "orig_nbformat": 4,
  "vscode": {
   "interpreter": {
    "hash": "d864e386a55a2cee39c31bc0e2325312cb68f97ec75faaaf5382620c119f58c5"
   }
  }
 },
 "nbformat": 4,
 "nbformat_minor": 2
}
