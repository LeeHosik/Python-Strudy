{
 "cells": [
  {
   "cell_type": "code",
   "execution_count": 1,
   "metadata": {},
   "outputs": [],
   "source": [
    "# import from\n",
    "\n",
    "import pandas as pd\n",
    "import numpy as np\n",
    "import seaborn as sns\n",
    "import matplotlib.pyplot as plt\n",
    "import json\n",
    "import folium\n",
    "import warnings\n",
    "warnings.filterwarnings(\"ignore\")\n",
    "\n",
    "# 한글 폰트 문제 해결 \n",
    "# matplotlib은 한글 폰트를 지원하지 않음\n",
    "# os정보\n",
    "import platform\n",
    "\n",
    "# font_manager : 폰트 관리 모듈\n",
    "# rc : 폰트 변경 모듈\n",
    "from matplotlib import font_manager, rc\n",
    "# unicode 설정\n",
    "plt.rcParams['axes.unicode_minus'] = False\n",
    "\n",
    "if platform.system() == 'Darwin':\n",
    "    rc('font', family='AppleGothic') # os가 macos\n",
    "elif platform.system() == 'Windows':\n",
    "    path = 'c:/Windows/Fonts/malgun.ttf' # os가 windows\n",
    "    font_name = font_manager.FontProperties(fname=path).get_name()\n",
    "    rc('font', family=font_name)\n",
    "else:\n",
    "    print(\"Unknown System\")"
   ]
  },
  {
   "attachments": {},
   "cell_type": "markdown",
   "metadata": {},
   "source": [
    "### SVM을 활용한 비만도(BMI) 측정 예측\n",
    "- BMI = 몸무게(Kg) / (키(m) **2)\n",
    "- BMI가 18.5 이상 25미만 일때가 표준 몸무게"
   ]
  },
  {
   "attachments": {},
   "cell_type": "markdown",
   "metadata": {},
   "source": [
    "create training sampling "
   ]
  },
  {
   "cell_type": "code",
   "execution_count": 4,
   "metadata": {},
   "outputs": [
    {
     "name": "stdout",
     "output_type": "stream",
     "text": [
      "ok {'thin': 6481, 'normal': 5950, 'fat': 7569}\n"
     ]
    }
   ],
   "source": [
    "# 키(cm), 몸무게(kg), Label : thin, normal, fat\n",
    "\n",
    "import random\n",
    "\n",
    "def calc_bmi(h,w):\n",
    "    bmi = w / (h/100)**2\n",
    "    if bmi < 18.5: return \"thin\"\n",
    "    if bmi < 25: return \"normal\"\n",
    "    return \"fat\"\n",
    "\n",
    "\n",
    "# 출력 파일 준비\n",
    "fp = open(\"../Data/bmi.csv\",\"w\",encoding='utf-8')\n",
    "fp.write(\"height,weight,label\\r\\n\")\n",
    "\n",
    "# 무작위로 데이터 생성하기\n",
    "cnt = {'thin':0 , \"normal\":0, \"fat\":0}\n",
    "\n",
    "for i in range(20000):\n",
    "    h = random.randint(120,200)\n",
    "    w = random.randint(35,80)\n",
    "    label = calc_bmi(h,w)\n",
    "    cnt[label] += 1\n",
    "    fp.write(\"{0},{1},{2}\\r\\n\".format(h,w,label))\n",
    "fp.close()\n",
    "print('ok',cnt)\n"
   ]
  },
  {
   "cell_type": "code",
   "execution_count": 3,
   "metadata": {},
   "outputs": [
    {
     "ename": "TypeError",
     "evalue": "unsupported operand type(s) for /: 'tuple' and 'int'",
     "output_type": "error",
     "traceback": [
      "\u001b[0;31m---------------------------------------------------------------------------\u001b[0m",
      "\u001b[0;31mTypeError\u001b[0m                                 Traceback (most recent call last)",
      "Cell \u001b[0;32mIn[3], line 21\u001b[0m\n\u001b[1;32m     19\u001b[0m h \u001b[39m=\u001b[39m random\u001b[39m.\u001b[39mrandint(\u001b[39m120\u001b[39m, \u001b[39m200\u001b[39m),\u001b[39m# cm 120~200\u001b[39;00m\n\u001b[1;32m     20\u001b[0m w \u001b[39m=\u001b[39m random\u001b[39m.\u001b[39mrandint(\u001b[39m35\u001b[39m, \u001b[39m95\u001b[39m), \u001b[39m# kg 35~95\u001b[39;00m\n\u001b[0;32m---> 21\u001b[0m label \u001b[39m=\u001b[39m calc_bmi(h,w)\n\u001b[1;32m     22\u001b[0m cnt[label] \u001b[39m+\u001b[39m\u001b[39m=\u001b[39m \u001b[39m1\u001b[39m\n\u001b[1;32m     23\u001b[0m fp\u001b[39m.\u001b[39mwrite(\u001b[39m\"\u001b[39m\u001b[39m{0}\u001b[39;00m\u001b[39m,\u001b[39m\u001b[39m{1}\u001b[39;00m\u001b[39m,\u001b[39m\u001b[39m{2}\u001b[39;00m\u001b[39m\\r\u001b[39;00m\u001b[39m\\n\u001b[39;00m\u001b[39m\"\u001b[39m\u001b[39m.\u001b[39mformat(h,w,label))\n",
      "Cell \u001b[0;32mIn[3], line 6\u001b[0m, in \u001b[0;36mcalc_bmi\u001b[0;34m(h, w)\u001b[0m\n\u001b[1;32m      5\u001b[0m \u001b[39mdef\u001b[39;00m \u001b[39mcalc_bmi\u001b[39m(h,w):\n\u001b[0;32m----> 6\u001b[0m     bmi \u001b[39m=\u001b[39m w \u001b[39m/\u001b[39m (h\u001b[39m/\u001b[39;49m\u001b[39m100\u001b[39;49m)\u001b[39m*\u001b[39m\u001b[39m*\u001b[39m\u001b[39m2\u001b[39m\n\u001b[1;32m      7\u001b[0m     \u001b[39mif\u001b[39;00m bmi \u001b[39m<\u001b[39m\u001b[39m18.5\u001b[39m: \u001b[39mreturn\u001b[39;00m \u001b[39m\"\u001b[39m\u001b[39mthin\u001b[39m\u001b[39m\"\u001b[39m\n\u001b[1;32m      8\u001b[0m     \u001b[39mif\u001b[39;00m bmi \u001b[39m<\u001b[39m \u001b[39m25\u001b[39m: \u001b[39mreturn\u001b[39;00m \u001b[39m'\u001b[39m\u001b[39mnormal\u001b[39m\u001b[39m'\u001b[39m\n",
      "\u001b[0;31mTypeError\u001b[0m: unsupported operand type(s) for /: 'tuple' and 'int'"
     ]
    }
   ],
   "source": [
    "# # 키(cm), 몸무게(Kg), Label :thin, normal, fat\n",
    "\n",
    "# import random\n",
    "\n",
    "# def calc_bmi(h,w):\n",
    "#     bmi = w / (h/100)**2\n",
    "#     if bmi <18.5: return \"thin\"\n",
    "#     if bmi < 25: return 'normal'\n",
    "#     return 'fat'\n",
    "\n",
    "# # 출력 파일 준비\n",
    "# fp = open('../Data/bmi.csv', 'w', encoding='utf-8')\n",
    "# fp.write('height,weight,label\\r\\n')\n",
    "\n",
    "# # 무작위로 데이터 생성하기\n",
    "# cnt = {'thin':0,'normal':0,'fat':0} # 갯수볼려고 만든 딕셔너리\n",
    "\n",
    "# for i in range(20000):\n",
    "#     h = random.randint(120, 200),# cm 120~200\n",
    "#     w = random.randint(35, 95), # kg 35~95\n",
    "#     label = calc_bmi(h,w)\n",
    "#     cnt[label] += 1\n",
    "#     fp.write(\"{0},{1},{2}\\r\\n\".format(h,w,label))\n",
    "# fp.close()\n",
    "# print('ok', cnt)"
   ]
  },
  {
   "attachments": {},
   "cell_type": "markdown",
   "metadata": {},
   "source": [
    "---\n",
    "### BMI공식을 사용하지 않고 BMI 예측"
   ]
  },
  {
   "cell_type": "code",
   "execution_count": 5,
   "metadata": {},
   "outputs": [],
   "source": [
    "tbl = pd.read_csv('../Data/bmi.csv')\n",
    "\n",
    "label = tbl.label\n",
    "w = tbl.weight\n",
    "h = tbl.height\n",
    "wh = pd.concat([w,h],axis=1)"
   ]
  },
  {
   "cell_type": "code",
   "execution_count": 6,
   "metadata": {},
   "outputs": [],
   "source": [
    "from sklearn.model_selection import train_test_split\n",
    "data_train, data_test, label_train, label_test = train_test_split(wh, label, stratify=label)"
   ]
  },
  {
   "cell_type": "code",
   "execution_count": 7,
   "metadata": {},
   "outputs": [
    {
     "data": {
      "text/plain": [
       "0.99"
      ]
     },
     "execution_count": 7,
     "metadata": {},
     "output_type": "execute_result"
    }
   ],
   "source": [
    "from sklearn import svm\n",
    "clf = svm.SVC()\n",
    "clf.fit(data_train, label_train)\n",
    "clf.score(data_test, label_test)"
   ]
  },
  {
   "cell_type": "code",
   "execution_count": null,
   "metadata": {},
   "outputs": [],
   "source": []
  }
 ],
 "metadata": {
  "kernelspec": {
   "display_name": "tensorflow",
   "language": "python",
   "name": "python3"
  },
  "language_info": {
   "codemirror_mode": {
    "name": "ipython",
    "version": 3
   },
   "file_extension": ".py",
   "mimetype": "text/x-python",
   "name": "python",
   "nbconvert_exporter": "python",
   "pygments_lexer": "ipython3",
   "version": "3.9.13"
  },
  "orig_nbformat": 4,
  "vscode": {
   "interpreter": {
    "hash": "d864e386a55a2cee39c31bc0e2325312cb68f97ec75faaaf5382620c119f58c5"
   }
  }
 },
 "nbformat": 4,
 "nbformat_minor": 2
}
