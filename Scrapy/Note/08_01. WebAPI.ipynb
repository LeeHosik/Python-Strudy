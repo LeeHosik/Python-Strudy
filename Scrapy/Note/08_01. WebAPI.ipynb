{
 "cells": [
  {
   "attachments": {},
   "cell_type": "markdown",
   "metadata": {},
   "source": [
    "### OpenWeatherMap\n",
    "https://openweathermap.org/   \n",
    "기본적으로 유료이지만, 현재 날씨와 5일까지의 날씨는 무료로 사용 가능"
   ]
  },
  {
   "cell_type": "code",
   "execution_count": 1,
   "metadata": {},
   "outputs": [],
   "source": [
    "import requests\n",
    "import json"
   ]
  },
  {
   "cell_type": "code",
   "execution_count": 16,
   "metadata": {},
   "outputs": [],
   "source": [
    "# 날씨를 확인할 도시 지정하기\n",
    "apikey =\"557e17aa21fb0b5289eca79aebc56447\"\n",
    "cities=[\"Seoul,KR\",\"Tokyo,JP\",\"New York,US\",\"Beijing,CN\"]\n",
    "api=\"http://api.openweathermap.org/data/2.5/weather?q={city}&APPID={key}\""
   ]
  },
  {
   "cell_type": "code",
   "execution_count": 2,
   "metadata": {},
   "outputs": [],
   "source": [
    "# 켈빈 온도를 섭씨 온도로 변환\n",
    "k2c = lambda k: k-273.15"
   ]
  },
  {
   "cell_type": "code",
   "execution_count": 18,
   "metadata": {},
   "outputs": [
    {
     "name": "stdout",
     "output_type": "stream",
     "text": [
      "<Response [401]>\n"
     ]
    }
   ],
   "source": [
    "url = api.format(city=cities[0], key=apikey)\n",
    "r = requests.get(url)\n",
    "print(r)"
   ]
  },
  {
   "cell_type": "code",
   "execution_count": 15,
   "metadata": {},
   "outputs": [
    {
     "name": "stdout",
     "output_type": "stream",
     "text": [
      "{'cod': 401, 'message': 'Invalid API key. Please see https://openweathermap.org/faq#error401 for more info.'}\n"
     ]
    },
    {
     "ename": "KeyError",
     "evalue": "'name'",
     "output_type": "error",
     "traceback": [
      "\u001b[0;31m---------------------------------------------------------------------------\u001b[0m",
      "\u001b[0;31mKeyError\u001b[0m                                  Traceback (most recent call last)",
      "Cell \u001b[0;32mIn[15], line 3\u001b[0m\n\u001b[1;32m      1\u001b[0m data \u001b[39m=\u001b[39m json\u001b[39m.\u001b[39mloads(r\u001b[39m.\u001b[39mtext)\n\u001b[1;32m      2\u001b[0m \u001b[39mprint\u001b[39m(data)\n\u001b[0;32m----> 3\u001b[0m \u001b[39mprint\u001b[39m(\u001b[39m\"\u001b[39m\u001b[39m +도시 = \u001b[39m\u001b[39m\"\u001b[39m,data[\u001b[39m'\u001b[39;49m\u001b[39mname\u001b[39;49m\u001b[39m'\u001b[39;49m])\n\u001b[1;32m      4\u001b[0m \u001b[39mprint\u001b[39m(\u001b[39m\"\u001b[39m\u001b[39m |날씨 = \u001b[39m\u001b[39m\"\u001b[39m,data[\u001b[39m'\u001b[39m\u001b[39mweather\u001b[39m\u001b[39m'\u001b[39m][\u001b[39m0\u001b[39m][\u001b[39m'\u001b[39m\u001b[39mdescription\u001b[39m\u001b[39m'\u001b[39m])\n\u001b[1;32m      5\u001b[0m \u001b[39mprint\u001b[39m(\u001b[39m\"\u001b[39m\u001b[39m |최저기온 = \u001b[39m\u001b[39m\"\u001b[39m,k2c(data[\u001b[39m'\u001b[39m\u001b[39mmain\u001b[39m\u001b[39m'\u001b[39m][\u001b[39m'\u001b[39m\u001b[39mtemp_min\u001b[39m\u001b[39m'\u001b[39m]))\n",
      "\u001b[0;31mKeyError\u001b[0m: 'name'"
     ]
    }
   ],
   "source": [
    "data = json.loads(r.text)\n",
    "print(data)\n",
    "print(\" +도시 = \",data['name'])\n",
    "print(\" |날씨 = \",data['weather'][0]['description'])\n",
    "print(\" |최저기온 = \",k2c(data['main']['temp_min']))"
   ]
  },
  {
   "attachments": {},
   "cell_type": "markdown",
   "metadata": {},
   "source": [
    "---\n",
    "api 활성화가 안되서 못하고 넘어감 "
   ]
  },
  {
   "attachments": {},
   "cell_type": "markdown",
   "metadata": {},
   "source": [
    "---\n",
    "### Naver API로 위도 경도 가져오기"
   ]
  },
  {
   "cell_type": "code",
   "execution_count": 19,
   "metadata": {},
   "outputs": [
    {
     "name": "stdout",
     "output_type": "stream",
     "text": [
      "{'status': 'OK', 'meta': {'totalCount': 1, 'page': 1, 'count': 1}, 'addresses': [{'roadAddress': '서울특별시 영등포구 국회대로 608 영등포경찰서', 'jibunAddress': '서울특별시 영등포구 당산동3가 2-11 영등포경찰서', 'englishAddress': '608, Gukhoe-daero, Yeongdeungpo-gu, Seoul, Republic of Korea', 'addressElements': [{'types': ['SIDO'], 'longName': '서울특별시', 'shortName': '서울특별시', 'code': ''}, {'types': ['SIGUGUN'], 'longName': '영등포구', 'shortName': '영등포구', 'code': ''}, {'types': ['DONGMYUN'], 'longName': '당산동3가', 'shortName': '당산동3가', 'code': ''}, {'types': ['RI'], 'longName': '', 'shortName': '', 'code': ''}, {'types': ['ROAD_NAME'], 'longName': '국회대로', 'shortName': '국회대로', 'code': ''}, {'types': ['BUILDING_NUMBER'], 'longName': '608', 'shortName': '608', 'code': ''}, {'types': ['BUILDING_NAME'], 'longName': '영등포경찰서', 'shortName': '영등포경찰서', 'code': ''}, {'types': ['LAND_NUMBER'], 'longName': '2-11', 'shortName': '2-11', 'code': ''}, {'types': ['POSTAL_CODE'], 'longName': '07258', 'shortName': '07258', 'code': ''}], 'x': '126.9009426', 'y': '37.5258476', 'distance': 0.0}], 'errorMessage': ''}\n"
     ]
    }
   ],
   "source": [
    "import urllib.request\n",
    "\n",
    "client_id = \"t04w353lqg\"\n",
    "client_secret = \"p7vRKX2OWhlZ7P352E2JR8NGirsle1Qak36cXm0P\"\n",
    "\n",
    "\n",
    "encText = urllib.parse.quote(\"서울시 영등포구 국회대로 608\")\n",
    "url = \"https://naveropenapi.apigw.ntruss.com/map-geocode/v2/geocode?query=\" + encText # json 결과\n",
    "request = urllib.request.Request(url)\n",
    "request.add_header(\"X-NCP-APIGW-API-KEY-ID\",client_id)\n",
    "request.add_header(\"X-NCP-APIGW-API-KEY\",client_secret)\n",
    "response = urllib.request.urlopen(request)\n",
    "rescode = response.getcode()\n",
    "if(rescode==200):\n",
    "    response_body = response.read()\n",
    "    entext = response_body.decode('utf-8')\n",
    "else:\n",
    "    print(\"Error Code:\" + rescode)\n",
    "\n",
    "import json    \n",
    "data1 = json.loads(entext)\n",
    "print(data1)"
   ]
  },
  {
   "cell_type": "code",
   "execution_count": 22,
   "metadata": {},
   "outputs": [],
   "source": [
    "# 경도 동서\n",
    "lng = data1['addresses'][0]['x']\n",
    "# 위도 북남\n",
    "lat = data1['addresses'][0]['y']"
   ]
  },
  {
   "cell_type": "code",
   "execution_count": 23,
   "metadata": {},
   "outputs": [
    {
     "name": "stdout",
     "output_type": "stream",
     "text": [
      "126.9009426 37.5258476\n"
     ]
    }
   ],
   "source": [
    "print(lng,lat)"
   ]
  },
  {
   "cell_type": "code",
   "execution_count": null,
   "metadata": {},
   "outputs": [],
   "source": []
  }
 ],
 "metadata": {
  "kernelspec": {
   "display_name": "tensorflow",
   "language": "python",
   "name": "python3"
  },
  "language_info": {
   "codemirror_mode": {
    "name": "ipython",
    "version": 3
   },
   "file_extension": ".py",
   "mimetype": "text/x-python",
   "name": "python",
   "nbconvert_exporter": "python",
   "pygments_lexer": "ipython3",
   "version": "3.9.13 | packaged by conda-forge | (main, May 27 2022, 17:01:00) \n[Clang 13.0.1 ]"
  },
  "orig_nbformat": 4,
  "vscode": {
   "interpreter": {
    "hash": "d864e386a55a2cee39c31bc0e2325312cb68f97ec75faaaf5382620c119f58c5"
   }
  }
 },
 "nbformat": 4,
 "nbformat_minor": 2
}
