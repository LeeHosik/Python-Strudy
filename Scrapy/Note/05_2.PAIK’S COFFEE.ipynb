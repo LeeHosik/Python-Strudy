{
 "cells": [
  {
   "cell_type": "code",
   "execution_count": 1,
   "metadata": {},
   "outputs": [],
   "source": [
    "from selenium import webdriver\n",
    "from selenium.webdriver.chrome.service import Service\n",
    "from webdriver_manager.chrome import ChromeDriverManager\n",
    "from selenium.webdriver.common.by import By\n",
    "\n",
    "from bs4 import BeautifulSoup\n",
    "from urllib import parse\n",
    "import urllib.request as req\n",
    "import time\n",
    "import pandas as pd\n",
    "\n",
    "\n",
    "import math"
   ]
  },
  {
   "cell_type": "code",
   "execution_count": 2,
   "metadata": {},
   "outputs": [],
   "source": [
    "# Chrome Browser 와 Chrome Driver Version 확인하기\n",
    "chrome_options = webdriver.ChromeOptions()\n",
    "driver = webdriver.Chrome(service=Service(ChromeDriverManager().install()), options=chrome_options)\n",
    "driver.get('https://paikdabang.com/store/')\n"
   ]
  },
  {
   "attachments": {},
   "cell_type": "markdown",
   "metadata": {},
   "source": [
    "<!-- 시도 클릭-> i 클릭 -> 구군 클릭 -> j 클릭 -> next버튼 체크, 있으면 계속  -->\n",
    "전체-전체로 검색, 총 1256개의 매장 확인, 10으로 나눠서 125번 넥스트 버튼, 6개만 따로 "
   ]
  },
  {
   "cell_type": "code",
   "execution_count": 3,
   "metadata": {},
   "outputs": [
    {
     "name": "stdout",
     "output_type": "stream",
     "text": [
      "126\n"
     ]
    }
   ],
   "source": [
    "#max_count\n",
    "html = driver.page_source\n",
    "soup = BeautifulSoup(html,'html.parser')\n",
    "maxCount = soup.select_one('#max_count')\n",
    "maxCount = maxCount.string\n",
    "\n",
    "maxCount = int(maxCount)\n",
    "maxPage = math.ceil(maxCount/10)\n",
    "print(maxPage)\n"
   ]
  },
  {
   "cell_type": "code",
   "execution_count": 13,
   "metadata": {},
   "outputs": [],
   "source": [
    "html = driver.page_source\n",
    "soup = BeautifulSoup(html,'html.parser')\n",
    "shopName = []\n",
    "shopAddress=[]\n",
    "shopArea=[]\n",
    "errorList =[]\n",
    "count = 2\n",
    "shops = soup.select('.tr_list')\n",
    "# shops\n",
    "\n",
    "for i in range(0,maxPage):\n",
    "# for i in range(1,10):\n",
    "    html = driver.page_source\n",
    "    soup = BeautifulSoup(html,'html.parser')\n",
    "    shops = soup.select('.tr_list')\n",
    "    for shop in shops:\n",
    "        # print(shop.select_one('.td_area').text)\n",
    "        # print(shop.select_one('.td_shop').text)\n",
    "        # print(shop.select_one('.td_addr').text)\n",
    "        shopName.append(shop.select_one('.td_shop').text)\n",
    "        shopArea.append(shop.select_one('.td_area').text)\n",
    "        shopAddress.append(shop.select_one('.td_addr').text.replace(\",\",\"\"))\n",
    "    try: driver.find_element(By.XPATH, '//*[@id=\"pagination\"]/li['+ str(count) +']').click()\n",
    "    except: errorList.append('Error number : '+ i)\n",
    "    else:\n",
    "        time.sleep(1)\n",
    "        if count < 6:\n",
    "            count += 2\n",
    "        else:\n",
    "            count = 6\n",
    "    \n"
   ]
  },
  {
   "cell_type": "code",
   "execution_count": 5,
   "metadata": {},
   "outputs": [
    {
     "data": {
      "text/plain": [
       "[]"
      ]
     },
     "execution_count": 5,
     "metadata": {},
     "output_type": "execute_result"
    }
   ],
   "source": [
    "errorList"
   ]
  },
  {
   "cell_type": "code",
   "execution_count": 12,
   "metadata": {},
   "outputs": [],
   "source": [
    "shopName = shopArea = shopAddress = []\n"
   ]
  },
  {
   "attachments": {},
   "cell_type": "markdown",
   "metadata": {},
   "source": [
    "---\n",
    "# Save the CSV"
   ]
  },
  {
   "cell_type": "code",
   "execution_count": 14,
   "metadata": {},
   "outputs": [],
   "source": [
    "df = pd.DataFrame(data=shopArea, columns=['Area']) #< columns는 [] 로 작성해야댐 \n",
    "df['ShopName'] = pd.Series(shopName)\n",
    "df['Address'] = pd.Series(shopAddress)"
   ]
  },
  {
   "cell_type": "code",
   "execution_count": 10,
   "metadata": {},
   "outputs": [
    {
     "data": {
      "text/html": [
       "<div>\n",
       "<style scoped>\n",
       "    .dataframe tbody tr th:only-of-type {\n",
       "        vertical-align: middle;\n",
       "    }\n",
       "\n",
       "    .dataframe tbody tr th {\n",
       "        vertical-align: top;\n",
       "    }\n",
       "\n",
       "    .dataframe thead th {\n",
       "        text-align: right;\n",
       "    }\n",
       "</style>\n",
       "<table border=\"1\" class=\"dataframe\">\n",
       "  <thead>\n",
       "    <tr style=\"text-align: right;\">\n",
       "      <th></th>\n",
       "      <th>Area</th>\n",
       "      <th>ShopName</th>\n",
       "      <th>Address</th>\n",
       "    </tr>\n",
       "  </thead>\n",
       "  <tbody>\n",
       "    <tr>\n",
       "      <th>0</th>\n",
       "      <td>경기도</td>\n",
       "      <td>화성남양시장점</td>\n",
       "      <td>경기 화성시 남양읍 남양성지로 139-1</td>\n",
       "    </tr>\n",
       "    <tr>\n",
       "      <th>1</th>\n",
       "      <td>대구광역시</td>\n",
       "      <td>대구수성3가점</td>\n",
       "      <td>대구 수성구 수성동3가 72-1</td>\n",
       "    </tr>\n",
       "    <tr>\n",
       "      <th>2</th>\n",
       "      <td>전라북도</td>\n",
       "      <td>전주대자인병원점</td>\n",
       "      <td>전주시 덕진구 우아동3가749-63</td>\n",
       "    </tr>\n",
       "    <tr>\n",
       "      <th>3</th>\n",
       "      <td>인천광역시</td>\n",
       "      <td>인천아인여성병원점</td>\n",
       "      <td>인천광역시 미추홀구 주안동 포레나미추홀 201동 1층 1032호</td>\n",
       "    </tr>\n",
       "    <tr>\n",
       "      <th>4</th>\n",
       "      <td>서울특별시</td>\n",
       "      <td>월곡두산위브점</td>\n",
       "      <td>서울시 성북구 오패산로 46</td>\n",
       "    </tr>\n",
       "    <tr>\n",
       "      <th>...</th>\n",
       "      <td>...</td>\n",
       "      <td>...</td>\n",
       "      <td>...</td>\n",
       "    </tr>\n",
       "    <tr>\n",
       "      <th>1255</th>\n",
       "      <td>울산광역시</td>\n",
       "      <td>울산남목초교점</td>\n",
       "      <td>울산시 동구 동해안로 28, 1층</td>\n",
       "    </tr>\n",
       "    <tr>\n",
       "      <th>1256</th>\n",
       "      <td>경기도</td>\n",
       "      <td>용인동백쥬네브점</td>\n",
       "      <td>경기도 용인시 기흥구 동백중앙로 283, 골드프라자 D121호</td>\n",
       "    </tr>\n",
       "    <tr>\n",
       "      <th>1257</th>\n",
       "      <td>서울특별시</td>\n",
       "      <td>신림역2호점</td>\n",
       "      <td>서울시 관악구 신림동 1641-12</td>\n",
       "    </tr>\n",
       "    <tr>\n",
       "      <th>1258</th>\n",
       "      <td>서울특별시</td>\n",
       "      <td>청량리역점</td>\n",
       "      <td>서울시 동대문구 왕산로 209, 1층</td>\n",
       "    </tr>\n",
       "    <tr>\n",
       "      <th>1259</th>\n",
       "      <td>서울특별시</td>\n",
       "      <td>총신대입구역점</td>\n",
       "      <td>서울시 서초구 동작대로 128, 1층</td>\n",
       "    </tr>\n",
       "  </tbody>\n",
       "</table>\n",
       "<p>1260 rows × 3 columns</p>\n",
       "</div>"
      ],
      "text/plain": [
       "       Area   ShopName                              Address\n",
       "0       경기도    화성남양시장점               경기 화성시 남양읍 남양성지로 139-1\n",
       "1     대구광역시    대구수성3가점                    대구 수성구 수성동3가 72-1\n",
       "2      전라북도   전주대자인병원점                  전주시 덕진구 우아동3가749-63\n",
       "3     인천광역시  인천아인여성병원점  인천광역시 미추홀구 주안동 포레나미추홀 201동 1층 1032호\n",
       "4     서울특별시    월곡두산위브점                      서울시 성북구 오패산로 46\n",
       "...     ...        ...                                  ...\n",
       "1255  울산광역시    울산남목초교점                   울산시 동구 동해안로 28, 1층\n",
       "1256    경기도   용인동백쥬네브점   경기도 용인시 기흥구 동백중앙로 283, 골드프라자 D121호\n",
       "1257  서울특별시     신림역2호점                  서울시 관악구 신림동 1641-12\n",
       "1258  서울특별시      청량리역점                 서울시 동대문구 왕산로 209, 1층\n",
       "1259  서울특별시    총신대입구역점                 서울시 서초구 동작대로 128, 1층\n",
       "\n",
       "[1260 rows x 3 columns]"
      ]
     },
     "execution_count": 10,
     "metadata": {},
     "output_type": "execute_result"
    }
   ],
   "source": [
    "df"
   ]
  },
  {
   "cell_type": "code",
   "execution_count": 15,
   "metadata": {},
   "outputs": [],
   "source": [
    "df.to_csv('../Data/PaiksCoffee.csv', encoding='utf-8', index=False)"
   ]
  },
  {
   "cell_type": "code",
   "execution_count": null,
   "metadata": {},
   "outputs": [],
   "source": []
  }
 ],
 "metadata": {
  "kernelspec": {
   "display_name": "tensorflow",
   "language": "python",
   "name": "python3"
  },
  "language_info": {
   "codemirror_mode": {
    "name": "ipython",
    "version": 3
   },
   "file_extension": ".py",
   "mimetype": "text/x-python",
   "name": "python",
   "nbconvert_exporter": "python",
   "pygments_lexer": "ipython3",
   "version": "3.9.13 | packaged by conda-forge | (main, May 27 2022, 17:01:00) \n[Clang 13.0.1 ]"
  },
  "orig_nbformat": 4,
  "vscode": {
   "interpreter": {
    "hash": "d864e386a55a2cee39c31bc0e2325312cb68f97ec75faaaf5382620c119f58c5"
   }
  }
 },
 "nbformat": 4,
 "nbformat_minor": 2
}
