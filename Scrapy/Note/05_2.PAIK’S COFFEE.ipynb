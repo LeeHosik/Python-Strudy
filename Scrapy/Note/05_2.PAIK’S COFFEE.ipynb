{
 "cells": [
  {
   "cell_type": "code",
   "execution_count": 1,
   "metadata": {},
   "outputs": [],
   "source": [
    "from selenium import webdriver\n",
    "from selenium.webdriver.chrome.service import Service\n",
    "from webdriver_manager.chrome import ChromeDriverManager\n",
    "from selenium.webdriver.common.by import By\n",
    "\n",
    "from bs4 import BeautifulSoup\n",
    "from urllib import parse\n",
    "import urllib.request as req\n",
    "import time\n",
    "import pandas as pd\n",
    "\n",
    "\n",
    "import math"
   ]
  },
  {
   "cell_type": "code",
   "execution_count": 2,
   "metadata": {},
   "outputs": [],
   "source": [
    "# Chrome Browser 와 Chrome Driver Version 확인하기\n",
    "chrome_options = webdriver.ChromeOptions()\n",
    "driver = webdriver.Chrome(service=Service(ChromeDriverManager().install()), options=chrome_options)\n",
    "driver.get('https://paikdabang.com/store/')\n"
   ]
  },
  {
   "attachments": {},
   "cell_type": "markdown",
   "metadata": {},
   "source": [
    "<!-- 시도 클릭-> i 클릭 -> 구군 클릭 -> j 클릭 -> next버튼 체크, 있으면 계속  -->\n",
    "전체-전체로 검색, 총 1260개의 매장 확인, 10으로 나눠서 126번"
   ]
  },
  {
   "cell_type": "code",
   "execution_count": 3,
   "metadata": {},
   "outputs": [
    {
     "name": "stdout",
     "output_type": "stream",
     "text": [
      "126\n"
     ]
    }
   ],
   "source": [
    "#max_count\n",
    "html = driver.page_source\n",
    "soup = BeautifulSoup(html,'html.parser')\n",
    "maxCount = soup.select_one('#max_count')\n",
    "maxCount = maxCount.string\n",
    "\n",
    "maxCount = int(maxCount)\n",
    "maxPage = math.ceil(maxCount/10)\n",
    "print(maxPage)\n"
   ]
  },
  {
   "cell_type": "code",
   "execution_count": 4,
   "metadata": {},
   "outputs": [],
   "source": [
    "html = driver.page_source\n",
    "soup = BeautifulSoup(html,'html.parser')\n",
    "shopName = []\n",
    "shopAddress=[]\n",
    "shopArea=[]\n",
    "errorList =[]\n",
    "count = 2\n",
    "shops = soup.select('.tr_list')\n",
    "# shops\n",
    "\n",
    "for i in range(0,maxPage):\n",
    "    html = driver.page_source\n",
    "    soup = BeautifulSoup(html,'html.parser')\n",
    "    shops = soup.select('.tr_list')\n",
    "    for shop in shops:\n",
    "        shopName.append(shop.select_one('.td_shop').text)\n",
    "        shopArea.append(shop.select_one('.td_area').text)\n",
    "        shopAddress.append(shop.select_one('.td_addr').text.replace(\",\",\"\"))\n",
    "    try: driver.find_element(By.XPATH, '//*[@id=\"pagination\"]/li['+ str(count) +']').click()\n",
    "    except: errorList.append(f'Error number : {str(i)} 매장명 :{shop.select_one(\".td_shop\").text}')\n",
    "    else:\n",
    "        time.sleep(1)\n",
    "        if count < 6:\n",
    "            count += 2\n",
    "        else:\n",
    "            count = 6\n",
    "    \n"
   ]
  },
  {
   "cell_type": "code",
   "execution_count": 5,
   "metadata": {},
   "outputs": [
    {
     "data": {
      "text/plain": [
       "[]"
      ]
     },
     "execution_count": 5,
     "metadata": {},
     "output_type": "execute_result"
    }
   ],
   "source": [
    "errorList"
   ]
  },
  {
   "cell_type": "code",
   "execution_count": 7,
   "metadata": {},
   "outputs": [
    {
     "data": {
      "text/plain": [
       "1260"
      ]
     },
     "execution_count": 7,
     "metadata": {},
     "output_type": "execute_result"
    }
   ],
   "source": [
    "len(shopName)"
   ]
  },
  {
   "attachments": {},
   "cell_type": "markdown",
   "metadata": {},
   "source": [
    "---\n",
    "# Save the CSV"
   ]
  },
  {
   "cell_type": "code",
   "execution_count": 19,
   "metadata": {},
   "outputs": [
    {
     "name": "stderr",
     "output_type": "stream",
     "text": [
      "/var/folders/j9/zr30dj9x51x0cxznxz0064t80000gn/T/ipykernel_73792/3210349423.py:2: FutureWarning: The default dtype for empty Series will be 'object' instead of 'float64' in a future version. Specify a dtype explicitly to silence this warning.\n",
      "  df['ShopName'] = pd.Series(shopName)\n",
      "/var/folders/j9/zr30dj9x51x0cxznxz0064t80000gn/T/ipykernel_73792/3210349423.py:3: FutureWarning: The default dtype for empty Series will be 'object' instead of 'float64' in a future version. Specify a dtype explicitly to silence this warning.\n",
      "  df['Address'] = pd.Series(shopAddress)\n"
     ]
    }
   ],
   "source": [
    "df = pd.DataFrame(data=shopArea, columns=['Area']) #< columns는 [] 로 작성해야댐 \n",
    "df['ShopName'] = pd.Series(shopName)\n",
    "df['Address'] = pd.Series(shopAddress)"
   ]
  },
  {
   "cell_type": "code",
   "execution_count": 15,
   "metadata": {},
   "outputs": [],
   "source": [
    "df.to_csv('../Data/PaiksCoffee.csv', encoding='utf-8', index=False)"
   ]
  },
  {
   "cell_type": "code",
   "execution_count": null,
   "metadata": {},
   "outputs": [],
   "source": []
  }
 ],
 "metadata": {
  "kernelspec": {
   "display_name": "tensorflow",
   "language": "python",
   "name": "python3"
  },
  "language_info": {
   "codemirror_mode": {
    "name": "ipython",
    "version": 3
   },
   "file_extension": ".py",
   "mimetype": "text/x-python",
   "name": "python",
   "nbconvert_exporter": "python",
   "pygments_lexer": "ipython3",
   "version": "3.9.13 | packaged by conda-forge | (main, May 27 2022, 17:01:00) \n[Clang 13.0.1 ]"
  },
  "orig_nbformat": 4,
  "vscode": {
   "interpreter": {
    "hash": "d864e386a55a2cee39c31bc0e2325312cb68f97ec75faaaf5382620c119f58c5"
   }
  }
 },
 "nbformat": 4,
 "nbformat_minor": 2
}
