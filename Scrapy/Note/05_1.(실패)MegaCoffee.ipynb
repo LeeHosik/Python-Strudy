{
 "cells": [
  {
   "cell_type": "code",
   "execution_count": 90,
   "metadata": {},
   "outputs": [],
   "source": [
    "from selenium import webdriver\n",
    "from selenium.webdriver.chrome.service import Service\n",
    "from webdriver_manager.chrome import ChromeDriverManager\n",
    "from selenium.webdriver.common.by import By\n",
    "\n",
    "from bs4 import BeautifulSoup\n",
    "from urllib import parse\n",
    "import urllib.request as req\n",
    "import time\n",
    "import pandas as pd"
   ]
  },
  {
   "attachments": {},
   "cell_type": "markdown",
   "metadata": {},
   "source": [
    "---\n",
    "# 포기 \n",
    "### 사유 : 반복문을 사용해야 하는데 반복이 안됨\n",
    " - 지도에서 이미지를 클릭 한뒤 나오는 div에서 불러와야 되는데 매번까지는 아니나 많아봐야 연속 3개 이상을 못넘기고 Xpath가 바뀜\n",
    "---"
   ]
  },
  {
   "cell_type": "code",
   "execution_count": 294,
   "metadata": {},
   "outputs": [],
   "source": [
    "# Chrome Browser 와 Chrome Driver Version 확인하기\n",
    "chrome_options = webdriver.ChromeOptions()\n",
    "driver = webdriver.Chrome(service=Service(ChromeDriverManager().install()), options=chrome_options)\n",
    "driver.get('https://www.mega-mgccoffee.com/store/find/')"
   ]
  },
  {
   "attachments": {},
   "cell_type": "markdown",
   "metadata": {},
   "source": [
    "---\n",
    "### TEST"
   ]
  },
  {
   "cell_type": "code",
   "execution_count": 295,
   "metadata": {},
   "outputs": [],
   "source": [
    "# 지역검색 먼저 클릭하기 : /html/body/div[3]/div[3]/div/div[2]/div[1]/div/div[1]/div/ul/li[2]\n",
    "xpath = 'html/body/div[3]/div[3]/div/div[2]/div[1]/div/div[1]/div/ul/li[2]'\n",
    "#button = \n",
    "driver.find_element(By.XPATH, xpath).click()"
   ]
  },
  {
   "attachments": {},
   "cell_type": "markdown",
   "metadata": {},
   "source": [
    "지역이름 리스트로 만들기"
   ]
  },
  {
   "cell_type": "code",
   "execution_count": 296,
   "metadata": {},
   "outputs": [
    {
     "name": "stdout",
     "output_type": "stream",
     "text": [
      "['서울', '경기', '인천', '강원', '광주', '대전', '대구', '부산', '울산', '세종', '경남', '경북', '전남', '전북', '충남', '충북', '제주']\n",
      "17\n"
     ]
    }
   ],
   "source": [
    "xpath = '//*[@id=\"store_area_search_list\"]'\n",
    "do_list_raw = driver.find_element(By.XPATH, xpath)\n",
    "do_list = do_list_raw.find_elements(By.TAG_NAME, 'li')\n",
    "do_names = [option.get_attribute('data-store-area-name') for option in do_list]\n",
    "\n",
    "print(do_names)\n",
    "print(len(do_names))"
   ]
  },
  {
   "attachments": {},
   "cell_type": "markdown",
   "metadata": {},
   "source": [
    "해당 도 를 누르면 하위로 넘어감"
   ]
  },
  {
   "cell_type": "code",
   "execution_count": 297,
   "metadata": {},
   "outputs": [],
   "source": [
    "# 조회버튼 click을 위해 Xpath 가져오기 : //*[@id=\"searRgSelect\"]/span  # << \n",
    "xpath = '//*[@id=\"store_area_search_list\"]/li[1]' # 1 ~ 17 도 에서만 이렇게 클릭이 됨    # 1은 서울 클릭 \n",
    "driver.find_element(By.XPATH, xpath).click()"
   ]
  },
  {
   "cell_type": "code",
   "execution_count": 100,
   "metadata": {},
   "outputs": [
    {
     "data": {
      "text/plain": [
       "['강남구',\n",
       " '강동구',\n",
       " '강북구',\n",
       " '강서구',\n",
       " '관악구',\n",
       " '광진구',\n",
       " '구로구',\n",
       " '금천구',\n",
       " '노원구',\n",
       " '도봉구',\n",
       " '동대문구',\n",
       " '동작구',\n",
       " '마포구',\n",
       " '서대문구',\n",
       " '서초구',\n",
       " '성동구',\n",
       " '성북구',\n",
       " '송파구',\n",
       " '시흥시',\n",
       " '양천구',\n",
       " '영등포구',\n",
       " '용산구',\n",
       " '은평구',\n",
       " '종로구',\n",
       " '중구',\n",
       " '중랑구']"
      ]
     },
     "execution_count": 100,
     "metadata": {},
     "output_type": "execute_result"
    }
   ],
   "source": [
    "# 시군구 Xpath :  //*[@id=\"store_area_search_list_result\"]\n",
    "xpath = '//*[@id=\"store_area_search_list_result\"]' # 1 ~ 17 도 에서만 이렇게 클릭이 됨 \n",
    "gu_list_raw = driver.find_element(By.XPATH, xpath)\n",
    "gu_list = gu_list_raw.find_elements(By.TAG_NAME, 'li')\n",
    "gu_names = [option.get_attribute('data-sigungu') for option in gu_list]\n",
    "gu_names.remove(None)\n",
    "\n",
    "gu_names\n",
    "#print(len(do_names))"
   ]
  },
  {
   "attachments": {},
   "cell_type": "markdown",
   "metadata": {},
   "source": [
    "gu 클릭해서 지도에서 gu 에 있는 매장정보 가져오기 전에\n",
    "gu 클릭하는거 먼저 "
   ]
  },
  {
   "cell_type": "code",
   "execution_count": 298,
   "metadata": {},
   "outputs": [],
   "source": [
    "# 조회버튼 click을 위해 Xpath 가져오기 : //*[@id=\"store_area_search_list_result\"]/li[2]  # << \n",
    "xpath = '//*[@id=\"store_area_search_list_result\"]/li[2]' # 1클릭은 뒤로가기, 2부터 끝까지가 xx구\n",
    "driver.find_element(By.XPATH, xpath).click()"
   ]
  },
  {
   "attachments": {},
   "cell_type": "markdown",
   "metadata": {},
   "source": [
    "지도 에 나오는 이미지를 클릭하면 주소가 나오는데 이미지를 클릭하는걸 만들어야 댐 \n",
    "\n",
    "div id=\"map\" 에서 role=\"presentation\" 인거 ?"
   ]
  },
  {
   "cell_type": "code",
   "execution_count": 299,
   "metadata": {},
   "outputs": [],
   "source": [
    "html = driver.page_source\n",
    "soup = BeautifulSoup(html, 'html.parser') "
   ]
  },
  {
   "attachments": {},
   "cell_type": "markdown",
   "metadata": {},
   "source": [
    "#map > div:nth-child(1) > div > div:nth-child(6) > div:nth-child(21) > div:nth-child(2) > div > div > div.cont_text.map_point_info_title_wrap > div:nth-child(2)\n",
    "\n",
    "#map > div:nth-child(1) > div > div:nth-child(6) > div:nth-child(21) > div:nth-child(2) > div > div > div.cont_text.map_point_info_title_wrap > div:nth-child(2)"
   ]
  },
  {
   "cell_type": "code",
   "execution_count": 207,
   "metadata": {},
   "outputs": [
    {
     "ename": "AttributeError",
     "evalue": "'NoneType' object has no attribute 'find_elements'",
     "output_type": "error",
     "traceback": [
      "\u001b[0;31m---------------------------------------------------------------------------\u001b[0m",
      "\u001b[0;31mAttributeError\u001b[0m                            Traceback (most recent call last)",
      "Cell \u001b[0;32mIn[207], line 22\u001b[0m\n\u001b[1;32m     14\u001b[0m \u001b[39m# for i in range(1,count):\u001b[39;00m\n\u001b[1;32m     15\u001b[0m \u001b[39m#     xpath = '//*[@id=\"map\"]/div[1]/div/div[6]/div['+ str(i) + ']/img'   \u001b[39;00m\n\u001b[1;32m     16\u001b[0m \u001b[39m#     print(xpath)\u001b[39;00m\n\u001b[0;32m   (...)\u001b[0m\n\u001b[1;32m     19\u001b[0m     \u001b[39m# detailXpath = '//*[@id=\"map\"]/div[1]/div/div[6]/div[22]/div[2]/div/div/div[1]'\u001b[39;00m\n\u001b[1;32m     20\u001b[0m     \u001b[39m# detailAddress = driver.find_element(By.XPATH, detailXpath)\u001b[39;00m\n\u001b[1;32m     21\u001b[0m soup \u001b[39m=\u001b[39m BeautifulSoup(html, \u001b[39m'\u001b[39m\u001b[39mhtml.parser\u001b[39m\u001b[39m'\u001b[39m)\n\u001b[0;32m---> 22\u001b[0m detailName \u001b[39m=\u001b[39m detailAddress\u001b[39m.\u001b[39;49mfind_elements(By\u001b[39m.\u001b[39mCLASS_NAME, \u001b[39m'\u001b[39m\u001b[39mcont_text_inner\u001b[39m\u001b[39m'\u001b[39m)\n\u001b[1;32m     23\u001b[0m detailAddressTitle\u001b[39m.\u001b[39mappend(detailName[\u001b[39m0\u001b[39m]\u001b[39m.\u001b[39mtext)\n\u001b[1;32m     24\u001b[0m     \u001b[39m# detailAddressAd.append(detailName[1].text)\u001b[39;00m\n\u001b[1;32m     25\u001b[0m     \u001b[39m# detailAddressNum.append(detailName[2].text)\u001b[39;00m\n",
      "\u001b[0;31mAttributeError\u001b[0m: 'NoneType' object has no attribute 'find_elements'"
     ]
    }
   ],
   "source": [
    "megaImg = 'https://img.79plus.co.kr/megahp/common/img/map/marker.png'\n",
    "\n",
    "detailAddressTitle=[]\n",
    "detailAddressAd=[]\n",
    "detailAddressNum=[]\n",
    "count = 0\n",
    "tests = soup.find(id=\"map\").select(\"img\")\n",
    "for test in tests:\n",
    "    if(test.attrs['src'] == megaImg):\n",
    "        count += 1\n",
    "\n",
    "    # print(count)\n",
    "detailAddress = driver.find_element(By.XPATH, '//*[@id=\"map\"]/div[1]/div/div[6]/div[4]/img').click()\n",
    "# for i in range(1,count):\n",
    "#     xpath = '//*[@id=\"map\"]/div[1]/div/div[6]/div['+ str(i) + ']/img'   \n",
    "#     print(xpath)\n",
    "#     driver.find_element(By.XPATH, xpath).click()\n",
    "#     time.sleep(1)\n",
    "    # detailXpath = '//*[@id=\"map\"]/div[1]/div/div[6]/div[22]/div[2]/div/div/div[1]'\n",
    "    # detailAddress = driver.find_element(By.XPATH, detailXpath)\n",
    "soup = BeautifulSoup(html, 'html.parser')\n",
    "detailName = detailAddress.find_elements(By.CLASS_NAME, 'cont_text_inner')\n",
    "detailAddressTitle.append(detailName[0].text)\n",
    "    # detailAddressAd.append(detailName[1].text)\n",
    "    # detailAddressNum.append(detailName[2].text)\n",
    "    "
   ]
  },
  {
   "cell_type": "code",
   "execution_count": 208,
   "metadata": {},
   "outputs": [
    {
     "name": "stdout",
     "output_type": "stream",
     "text": [
      "[]\n"
     ]
    }
   ],
   "source": [
    "print(detailAddressTitle)"
   ]
  },
  {
   "cell_type": "code",
   "execution_count": null,
   "metadata": {},
   "outputs": [],
   "source": [
    "megaImg = 'https://img.79plus.co.kr/megahp/common/img/map/marker.png'\n",
    "\n",
    "detailAddressTitle=[]\n",
    "detailAddressAd=[]\n",
    "detailAddressNum=[]\n",
    "count = 0\n",
    "tests = soup.find(id=\"map\").select(\"img\")\n",
    "for test in tests:\n",
    "    if(test.attrs['src'] == megaImg):\n",
    "        count += 1"
   ]
  },
  {
   "cell_type": "code",
   "execution_count": 228,
   "metadata": {},
   "outputs": [
    {
     "name": "stdout",
     "output_type": "stream",
     "text": [
      "삼성중앙역점\n",
      "서울특별시 강남구 봉은사로 4781층 102호(삼성동)\n",
      "02-566-1070\n"
     ]
    }
   ],
   "source": [
    "\n",
    "driver.find_element(By.XPATH, '//*[@id=\"map\"]/div[1]/div/div[6]/div[4]/img').click()\n",
    "soup = BeautifulSoup(html, 'html.parser')\n",
    "detailtest1 = driver.find_element(By.XPATH, '//*[@id=\"map\"]/div[1]/div/div[6]/div[21]/div[2]/div/div/div[1]')\n",
    "detailtest2 = detailtest1.find_elements(By.CLASS_NAME, 'cont_text_inner')\n",
    "print(detailtest2[0].text)\n",
    "print(detailtest2[1].text)\n",
    "print(detailtest2[2].text)\n",
    "\n",
    "    "
   ]
  },
  {
   "cell_type": "code",
   "execution_count": 292,
   "metadata": {},
   "outputs": [
    {
     "name": "stdout",
     "output_type": "stream",
     "text": [
      "[1, 2, 3, 4, 5, 6, 7, 8, 9, 10, 11, 12, 13, 14, 15, 16, 17, 18, 19, 20]\n",
      "[]\n"
     ]
    }
   ],
   "source": [
    "megaImg = 'https://img.79plus.co.kr/megahp/common/img/map/marker.png'\n",
    "errorList=[]\n",
    "testestList=[]\n",
    "detailAddressTitle=[]\n",
    "detailAddressAd=[]\n",
    "detailAddressNum=[]\n",
    "count = 0\n",
    "tests = soup.find(id=\"map\").select(\"img\")\n",
    "for test in tests:\n",
    "    if(test.attrs['src'] == megaImg):\n",
    "        count += 1\n",
    "\n",
    "for i in range(1,count):\n",
    "    # print(i)\n",
    "    # driver.find_element(By.XPATH, '//*[@id=\"map\"]/div[1]/div/div[6]/div['+ str(i) +']/img').click()\n",
    "        # trytestXpath = '//*[@id=\"map\"]/div[1]/div/div[4]/div['+ str(i) +']/img'\n",
    "        for j in range(1,11):\n",
    "            trytestXpath = '//*[@id=\"map\"]/div[1]/div/div['+str(j)+']/div['+ str(i) +']/img'\n",
    "        # trytestXpath = '//*[@id=\"map\"]/div/div/div/div['+ str(i) +']/img' # 안댐 \n",
    "        \n",
    "        # print(trytestXpath)\n",
    "        soup = BeautifulSoup(html, 'html.parser')\n",
    "        try:\n",
    "            linkText='https://img.79plus.co.kr/megahp/common/img/map/marker.png'\n",
    "            driver.find_element(By.LINK_TEXT, linkText).click()\n",
    "            # driver.find_element(By.XPATH, '//*[@id=\"map\"]/div[1]/div/div[6]/div[7]/img').click()\n",
    "        except:\n",
    "            errorList.append(i)\n",
    "        else:\n",
    "        \n",
    "            detailtest1 = driver.find_element(By.XPATH, trytestXpath)\n",
    "            detailtest2 = detailtest1.find_elements(By.CLASS_NAME, 'cont_text_inner')\n",
    "            print(detailtest2)\n",
    "        # print(detailtest2[0])\n",
    "        # testestList.append(detailtest2[1].text)\n",
    "        # print(detailtest2[0].text)\n",
    "        # print(detailtest2[1].text)\n",
    "        # print(detailtest2[2].text)\n",
    "\n",
    "print(errorList)\n",
    "print(testestList)"
   ]
  },
  {
   "cell_type": "code",
   "execution_count": null,
   "metadata": {},
   "outputs": [],
   "source": []
  },
  {
   "attachments": {},
   "cell_type": "markdown",
   "metadata": {},
   "source": [
    "//*[@id=\"map\"]/div[1]/div/div[5]/div[1]/img\n",
    "//*[@id=\"map\"]/div/div/div/div[1]/img\n",
    "//*[@id=\"map\"]/div[1]/div/div[5]/div[2]/img\n",
    "//*[@id=\"map\"]/div[1]/div/div[5]/div[3]\n",
    "//*[@id=\"map\"]/div[1]/div/div[5]/div[4]/img\n",
    "//*[@id=\"map\"]/div[1]/div/div[5]/div[18]/img\n",
    "//*[@id=\"map\"]/div[1]/div/div[5]/div[19]/img\n",
    "//*[@id=\"map\"]/div[1]/div/div[6]/div[21]/img\n",
    "//*[@id=\"map\"]/div[1]/div/div[5]/div[20]/img\n",
    "//*[@id=\"map\"]/div[1]/div/div[5]/div[21]/img"
   ]
  },
  {
   "cell_type": "code",
   "execution_count": 328,
   "metadata": {},
   "outputs": [
    {
     "name": "stdout",
     "output_type": "stream",
     "text": [
      "<selenium.webdriver.remote.webelement.WebElement (session=\"dfcd1e8fa5e8333692336e02569211a6\", element=\"6a99c8bc-d0e4-4855-852f-9f6b45494c83\")>\n",
      "['강남로데오점']\n"
     ]
    }
   ],
   "source": [
    "# megaImg = 'https://img.79plus.co.kr/megahp/common/img/map/marker.png'\n",
    "# errorList=[]\n",
    "# testestList=[]\n",
    "detailAddressTitle=[]\n",
    "# detailAddressAd=[]\n",
    "# detailAddressNum=[]\n",
    "# count = 0\n",
    "# tests = soup.find(id=\"map\").select(\"img\")\n",
    "# for test in tests:\n",
    "#     if(test.attrs['src'] == megaImg):\n",
    "#         count += 1\n",
    "\n",
    "        # for i in range(1,count):\n",
    "    # print(i)\n",
    "    # driver.find_element(By.XPATH, '//*[@id=\"map\"]/div[1]/div/div[6]/div['+ str(i) +']/img').click()\n",
    "        # trytestXpath = '//*[@id=\"map\"]/div[1]/div/div[4]/div['+ str(i) +']/img'\n",
    "            # trytestXpath = '//*[@id=\"map\"]/div[1]/div/div[6]/div['+ str(i) +']/img'\n",
    "# trytestXpath = '//*[@id=\"map\"]/div[1]/div/div[6]/div[3]/img'  # list index out of range\n",
    "# trytestXpath = '//*[@id=\"map\"]/div[2]'  # list index out of range\n",
    "# trytestXpath = '//*[@id=\"map\"]/div[1]/div/div[6]/div[11]/img' # < X\n",
    "# trytestXpath = '//*[@id=\"map\"]/div[1]/div/div[6]/div[9]/img' # < X\n",
    "# trytestXpath = '//*[@id=\"map\"]/div[1]/div/div[6]/div[12]/img' # < list index out of range\n",
    "# trytestXpath = '//*[@id=\"map\"]/div[1]/div/div[6]/div[4]/img' #< X\n",
    "            # //*[@id=\"map\"]/div[1]/div/div[6]/div[21]/img\n",
    "        # for j in range(1,11):\n",
    "            # trytestXpath = '//*[@id=\"map\"]/div[1]/div/div['+str(j)+']/div['+ str(i) +']/img'\n",
    "        # trytestXpath = '//*[@id=\"map\"]/div/div/div/div['+ str(i) +']/img' # 안댐 \n",
    "        \n",
    "        # print(trytestXpath)\n",
    "soup = BeautifulSoup(html, 'html.parser')\n",
    "        # try:\n",
    "        # linkText='https://img.79plus.co.kr/megahp/common/img/map/marker.png'\n",
    "        # driver.find_element(By.LINK_TEXT, linkText).click()\n",
    "driver.find_element(By.XPATH, trytestXpath).click()\n",
    "            # driver.find_element(By.XPATH, '//*[@id=\"map\"]/div[1]/div/div[6]/div[7]/img').click()\n",
    "        # except:\n",
    "        # errorList.append(i)\n",
    "        # else:\n",
    "testryXpathAddress = '//*[@id=\"map\"]/div[1]/div/div[6]/div[22]/div[2]/div/div/div[1]'\n",
    "# testryXpathAddress = '//*[@id=\"map\"]/div[1]/div/div[6]/div[9]'\n",
    "detailtest1 = driver.find_element(By.XPATH, testryXpathAddress)\n",
    "detailtest2 = detailtest1.find_elements(By.CLASS_NAME, 'cont_text_inner')\n",
    "print(detailtest2[0])\n",
    "detailAddressTitle.append(detailtest2[0].text)\n",
    "        # print(detailtest2[0])\n",
    "        # testestList.append(detailtest2[1].text)\n",
    "        # print(detailtest2[0].text)\n",
    "        # print(detailtest2[1].text)\n",
    "        # print(detailtest2[2].text)\n",
    "\n",
    "# print(errorList)\n",
    "print(detailAddressTitle)"
   ]
  },
  {
   "cell_type": "code",
   "execution_count": null,
   "metadata": {},
   "outputs": [],
   "source": []
  }
 ],
 "metadata": {
  "kernelspec": {
   "display_name": "tensorflow",
   "language": "python",
   "name": "python3"
  },
  "language_info": {
   "codemirror_mode": {
    "name": "ipython",
    "version": 3
   },
   "file_extension": ".py",
   "mimetype": "text/x-python",
   "name": "python",
   "nbconvert_exporter": "python",
   "pygments_lexer": "ipython3",
   "version": "3.9.13 | packaged by conda-forge | (main, May 27 2022, 17:01:00) \n[Clang 13.0.1 ]"
  },
  "orig_nbformat": 4,
  "vscode": {
   "interpreter": {
    "hash": "d864e386a55a2cee39c31bc0e2325312cb68f97ec75faaaf5382620c119f58c5"
   }
  }
 },
 "nbformat": 4,
 "nbformat_minor": 2
}
