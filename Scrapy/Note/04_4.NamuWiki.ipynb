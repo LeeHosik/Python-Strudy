{
 "cells": [
  {
   "attachments": {},
   "cell_type": "markdown",
   "metadata": {},
   "source": [
    "나무위키 사이트 같은곳은 URL을 크롤링할시 HTTP 403에러가 발생하므로\n",
    "다음 코드와 같이 header를 지정해주어서 권한을 얻게끔 개선하였습니다.\n",
    "\n",
    "#URL을 읽어서 BeacutifulSoup로 크롤링 가능하게 만들어놓음\n",
    "def readURLandParse(URL):\n",
    "    hdr = {'User-Agent': 'Mozilla/5.0' }\n",
    "    req = urllib.request.Request(url, headers = hdr);\n",
    "    response = urllib.request.urlopen(req)\n",
    "    html=response.read()\n",
    "    #Beautifulsoup 함수로 뷰티플스프 처리된 html파일을 clean에 저장\n",
    "    return BeautifulSoup(html,'html.parser',from_encoding='utf-8')"
   ]
  },
  {
   "cell_type": "code",
   "execution_count": 1,
   "metadata": {},
   "outputs": [],
   "source": [
    "from bs4 import BeautifulSoup\n",
    "from urllib import parse\n",
    "import urllib.request as req\n",
    "import time\n",
    "import pandas as pd"
   ]
  },
  {
   "cell_type": "code",
   "execution_count": 3,
   "metadata": {},
   "outputs": [
    {
     "name": "stdout",
     "output_type": "stream",
     "text": [
      "https://namu.wiki/w/%EB%B6%84%EB%A5%98:%EC%9A%B0%EB%A7%88%EB%AC%B4%EC%8A%A4%EB%A9%94%20%ED%94%84%EB%A6%AC%ED%8B%B0%20%EB%8D%94%EB%B9%84/%EB%93%B1%EC%9E%A5%EC%9D%B8%EB%AC%BC\n"
     ]
    }
   ],
   "source": [
    "url2 = \"https://namu.wiki/w/\"\n",
    "auth2 = \"분류\"\n",
    "# name20 = \"우마무스메%20프리티%20더비/등장인물\"\n",
    "name20 = \"우마무스메\"\n",
    "name21 = \"프리티\"\n",
    "name22 = \"더비\"\n",
    "name23 = \"등장인물\"\n",
    "URL = url2 + parse.quote(auth2) + \":\" + parse.quote(name20) + \"%20\" + parse.quote(name21)+ \"%20\" + parse.quote(name22) +\"/\"+parse.quote(name23) \n",
    "print(URL)"
   ]
  },
  {
   "cell_type": "code",
   "execution_count": null,
   "metadata": {},
   "outputs": [],
   "source": [
    "#res = req.urlopen(url2)\n",
    "print(url2)\n",
    "req.urlopen(url2)\n",
    "# BeautifulSoup으로 분석하기\n",
    "soup = BeautifulSoup(res, \"html.parser\")\n",
    "#print(soup)"
   ]
  },
  {
   "cell_type": "code",
   "execution_count": 7,
   "metadata": {},
   "outputs": [],
   "source": [
    "# #URL을 읽어서 BeacutifulSoup로 크롤링 가능하게 만들어놓음\n",
    "\n",
    "# def readURLandParse(URL):\n",
    "#     hdr = {'User-Agent': 'Mozilla/5.0' }\n",
    "#     req = urllib.request.Request(url, headers = hdr)\n",
    "#     response = urllib.request.urlopen(req)\n",
    "#     html=response.read()\n",
    "#     #Beautifulsoup 함수로 뷰티플스프 처리된 html파일을 clean에 저장\n",
    "#     return BeautifulSoup(html,'html.parser',from_encoding='utf-8')\n",
    "\n"
   ]
  },
  {
   "cell_type": "code",
   "execution_count": 8,
   "metadata": {},
   "outputs": [
    {
     "ename": "NameError",
     "evalue": "name 'urllib' is not defined",
     "output_type": "error",
     "traceback": [
      "\u001b[0;31m---------------------------------------------------------------------------\u001b[0m",
      "\u001b[0;31mNameError\u001b[0m                                 Traceback (most recent call last)",
      "Cell \u001b[0;32mIn[8], line 1\u001b[0m\n\u001b[0;32m----> 1\u001b[0m readURLandParse(URL)\n",
      "Cell \u001b[0;32mIn[7], line 5\u001b[0m, in \u001b[0;36mreadURLandParse\u001b[0;34m(URL)\u001b[0m\n\u001b[1;32m      3\u001b[0m \u001b[39mdef\u001b[39;00m \u001b[39mreadURLandParse\u001b[39m(URL):\n\u001b[1;32m      4\u001b[0m     hdr \u001b[39m=\u001b[39m {\u001b[39m'\u001b[39m\u001b[39mUser-Agent\u001b[39m\u001b[39m'\u001b[39m: \u001b[39m'\u001b[39m\u001b[39mMozilla/5.0\u001b[39m\u001b[39m'\u001b[39m }\n\u001b[0;32m----> 5\u001b[0m     req \u001b[39m=\u001b[39m urllib\u001b[39m.\u001b[39mrequest\u001b[39m.\u001b[39mRequest(url, headers \u001b[39m=\u001b[39m hdr);\n\u001b[1;32m      6\u001b[0m     response \u001b[39m=\u001b[39m urllib\u001b[39m.\u001b[39mrequest\u001b[39m.\u001b[39murlopen(req)\n\u001b[1;32m      7\u001b[0m     html\u001b[39m=\u001b[39mresponse\u001b[39m.\u001b[39mread()\n",
      "\u001b[0;31mNameError\u001b[0m: name 'urllib' is not defined"
     ]
    }
   ],
   "source": [
    "????????????????"
   ]
  },
  {
   "cell_type": "code",
   "execution_count": null,
   "metadata": {},
   "outputs": [],
   "source": []
  }
 ],
 "metadata": {
  "kernelspec": {
   "display_name": "tensorflow",
   "language": "python",
   "name": "python3"
  },
  "language_info": {
   "codemirror_mode": {
    "name": "ipython",
    "version": 3
   },
   "file_extension": ".py",
   "mimetype": "text/x-python",
   "name": "python",
   "nbconvert_exporter": "python",
   "pygments_lexer": "ipython3",
   "version": "3.9.13"
  },
  "orig_nbformat": 4,
  "vscode": {
   "interpreter": {
    "hash": "d864e386a55a2cee39c31bc0e2325312cb68f97ec75faaaf5382620c119f58c5"
   }
  }
 },
 "nbformat": 4,
 "nbformat_minor": 2
}
