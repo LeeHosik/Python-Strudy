{
 "cells": [
  {
   "attachments": {},
   "cell_type": "markdown",
   "metadata": {},
   "source": [
    "### CSS 선택자 사용하기\n",
    "- BeautifulSoup은 JavaScript Library인 JQuery처럼 CSS 선택자를 지정해서 원하는 요소를 추출 가능"
   ]
  },
  {
   "cell_type": "code",
   "execution_count": 2,
   "metadata": {},
   "outputs": [],
   "source": [
    "from bs4 import BeautifulSoup\n",
    "import urllib.request as req"
   ]
  },
  {
   "cell_type": "code",
   "execution_count": 3,
   "metadata": {},
   "outputs": [
    {
     "name": "stdout",
     "output_type": "stream",
     "text": [
      "<html>\n",
      "<head>\n",
      "</head>\n",
      "<body>\n",
      "<div id=\"meigen\">\n",
      "<h1>위키북스 도서</h1>\n",
      "<ul class=\"items\">\n",
      "<li>유니티 게임 이펙트 입문</li>\n",
      "<li>스위프트로 시작하는 아이폰 앱 개발 교과서</li>\n",
      "<li>모던 웹사이트 디자인의 정석</li>\n",
      "</ul>\n",
      "</div>\n",
      "</body>\n",
      "</html>\n"
     ]
    }
   ],
   "source": [
    "url = 'https://zeushahn.github.io/Test/python/bs_exam04.html'\n",
    "res = req.urlopen(url)\n",
    "\n",
    "# BeautifulSoup으로 분석하기\n",
    "\n",
    "soup = BeautifulSoup(res, \"html.parser\")\n",
    "print(soup)"
   ]
  },
  {
   "cell_type": "code",
   "execution_count": 11,
   "metadata": {},
   "outputs": [
    {
     "name": "stdout",
     "output_type": "stream",
     "text": [
      "위키북스 도서\n",
      "li = 유니티 게임 이펙트 입문\n",
      "li = 스위프트로 시작하는 아이폰 앱 개발 교과서\n",
      "li = 모던 웹사이트 디자인의 정석\n"
     ]
    }
   ],
   "source": [
    "# 필요한 부분을 CSS Query로 추출하기 (#: id, .:class, >: 자식, 빈칸: 후손)\n",
    "h1 = soup.select_one(\"div#meigen > h1\").string\n",
    "print(h1)\n",
    "\n",
    "li_list = soup.select(\"div#meigen > ul.items > li\")\n",
    "\n",
    "for li in li_list:\n",
    "    print(f'li = {li.string}')"
   ]
  },
  {
   "cell_type": "code",
   "execution_count": 12,
   "metadata": {},
   "outputs": [
    {
     "name": "stdout",
     "output_type": "stream",
     "text": [
      "li = 유니티 게임 이펙트 입문\n",
      "li = 스위프트로 시작하는 아이폰 앱 개발 교과서\n",
      "li = 모던 웹사이트 디자인의 정석\n"
     ]
    }
   ],
   "source": [
    "\n",
    "li_list = soup.select(\"div#meigen li\") # << div#meigen 후손중에 li 다 가지고 오겠다는거 \n",
    "\n",
    "for li in li_list:\n",
    "    print(f'li = {li.string}')"
   ]
  },
  {
   "cell_type": "code",
   "execution_count": 13,
   "metadata": {},
   "outputs": [],
   "source": [
    "url = 'https://finance.naver.com/marketindex/'\n",
    "res = req.urlopen(url)\n",
    "\n",
    "# BeautifulSoup으로 분석하기\n",
    "\n",
    "soup = BeautifulSoup(res, \"html.parser\")\n"
   ]
  },
  {
   "cell_type": "code",
   "execution_count": null,
   "metadata": {},
   "outputs": [],
   "source": [
    "#exchangeList > li.on > a.head.usd > div > span.value"
   ]
  },
  {
   "cell_type": "code",
   "execution_count": 18,
   "metadata": {},
   "outputs": [
    {
     "name": "stdout",
     "output_type": "stream",
     "text": [
      "$/KRW : 1,239.00\n"
     ]
    }
   ],
   "source": [
    "price = soup.select_one('#exchangeList > li.on > a.head.usd > div > span.value').string\n",
    "print('$/KRW : '+price)"
   ]
  },
  {
   "attachments": {},
   "cell_type": "markdown",
   "metadata": {},
   "source": [
    "미화 환율 : #exchangeList > li.on > a.head.usd > div > span.value\n",
    "일본 환율 : #exchangeList > li.on > a.head.jpy > div > span.value\n",
    "EU  환율 : #exchangeList > li.on > a.head.eur > div > span.value\n",
    "중국 환율 : #exchangeList > li.on > a.head.cny > div > span.value"
   ]
  },
  {
   "cell_type": "code",
   "execution_count": 19,
   "metadata": {},
   "outputs": [],
   "source": [
    "country={\n",
    "    '미국':'usd',\n",
    "    '일본':'jpy',\n",
    "    'EU' :'eur',\n",
    "    '중국':'cny'\n",
    "}\n"
   ]
  },
  {
   "cell_type": "code",
   "execution_count": 112,
   "metadata": {},
   "outputs": [],
   "source": [
    "country={\n",
    "    '미국':'usd',\n",
    "    '일본':'jpy',\n",
    "    'EU':'eur',\n",
    "    '중국':'cny'\n",
    "}\n",
    "\n",
    "def countryExchangeRate(countyName):\n",
    "    i=0\n",
    "    for i in range(0,len(country)):\n",
    "        if list(country.keys())[i] == countyName :\n",
    "            # link = \"#exchangeList > li.on > a.head.\"+ list(country.values())[i] +\"> div > span.value\"\n",
    "            link = \"#exchangeList > li.on > a.head.jpy > div > span.value\"\n",
    "            ExchangeRate = soup.select_one(link).string\n",
    "            print(f'{list(country.keys())[i]} : {ExchangeRate}')\n",
    "            break\n",
    "        else: i += 1\n",
    "\n",
    "\n"
   ]
  },
  {
   "cell_type": "code",
   "execution_count": 113,
   "metadata": {},
   "outputs": [
    {
     "ename": "AttributeError",
     "evalue": "'NoneType' object has no attribute 'string'",
     "output_type": "error",
     "traceback": [
      "\u001b[0;31m---------------------------------------------------------------------------\u001b[0m",
      "\u001b[0;31mAttributeError\u001b[0m                            Traceback (most recent call last)",
      "Cell \u001b[0;32mIn[113], line 1\u001b[0m\n\u001b[0;32m----> 1\u001b[0m countryExchangeRate(\u001b[39m'\u001b[39;49m\u001b[39m일본\u001b[39;49m\u001b[39m'\u001b[39;49m)\n",
      "Cell \u001b[0;32mIn[112], line 14\u001b[0m, in \u001b[0;36mcountryExchangeRate\u001b[0;34m(countyName)\u001b[0m\n\u001b[1;32m     11\u001b[0m \u001b[39mif\u001b[39;00m \u001b[39mlist\u001b[39m(country\u001b[39m.\u001b[39mkeys())[i] \u001b[39m==\u001b[39m countyName :\n\u001b[1;32m     12\u001b[0m     \u001b[39m# link = \"#exchangeList > li.on > a.head.\"+ list(country.values())[i] +\"> div > span.value\"\u001b[39;00m\n\u001b[1;32m     13\u001b[0m     link \u001b[39m=\u001b[39m \u001b[39m\"\u001b[39m\u001b[39m#exchangeList > li.on > a.head.jpy > div > span.value\u001b[39m\u001b[39m\"\u001b[39m\n\u001b[0;32m---> 14\u001b[0m     ExchangeRate \u001b[39m=\u001b[39m soup\u001b[39m.\u001b[39;49mselect_one(link)\u001b[39m.\u001b[39;49mstring\n\u001b[1;32m     15\u001b[0m     \u001b[39mprint\u001b[39m(\u001b[39mf\u001b[39m\u001b[39m'\u001b[39m\u001b[39m{\u001b[39;00m\u001b[39mlist\u001b[39m(country\u001b[39m.\u001b[39mkeys())[i]\u001b[39m}\u001b[39;00m\u001b[39m : \u001b[39m\u001b[39m{\u001b[39;00mExchangeRate\u001b[39m}\u001b[39;00m\u001b[39m'\u001b[39m)\n\u001b[1;32m     16\u001b[0m     \u001b[39mbreak\u001b[39;00m\n",
      "\u001b[0;31mAttributeError\u001b[0m: 'NoneType' object has no attribute 'string'"
     ]
    }
   ],
   "source": [
    "countryExchangeRate('일본')\n"
   ]
  },
  {
   "cell_type": "code",
   "execution_count": null,
   "metadata": {},
   "outputs": [],
   "source": []
  }
 ],
 "metadata": {
  "kernelspec": {
   "display_name": "tensorflow",
   "language": "python",
   "name": "python3"
  },
  "language_info": {
   "codemirror_mode": {
    "name": "ipython",
    "version": 3
   },
   "file_extension": ".py",
   "mimetype": "text/x-python",
   "name": "python",
   "nbconvert_exporter": "python",
   "pygments_lexer": "ipython3",
   "version": "3.9.13"
  },
  "orig_nbformat": 4,
  "vscode": {
   "interpreter": {
    "hash": "d864e386a55a2cee39c31bc0e2325312cb68f97ec75faaaf5382620c119f58c5"
   }
  }
 },
 "nbformat": 4,
 "nbformat_minor": 2
}
