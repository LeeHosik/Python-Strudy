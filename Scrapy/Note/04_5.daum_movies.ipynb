{
 "cells": [
  {
   "cell_type": "code",
   "execution_count": 4,
   "metadata": {},
   "outputs": [],
   "source": [
    "# parse를 이용한 인코딩\n",
    "\n",
    "from bs4 import BeautifulSoup\n",
    "from urllib import parse\n",
    "import urllib.request as req\n",
    "import time"
   ]
  },
  {
   "cell_type": "code",
   "execution_count": 5,
   "metadata": {},
   "outputs": [],
   "source": [
    "url = \"https://movie.daum.net/ranking/boxoffice/weekly\"\n",
    "res = req.urlopen(url)\n",
    "# BeautifulSoup으로 분석하기\n",
    "soup = BeautifulSoup(res, \"html.parser\")"
   ]
  },
  {
   "cell_type": "code",
   "execution_count": null,
   "metadata": {},
   "outputs": [],
   "source": [
    "제목 #mainContent > div > div.box_boxoffice > ol > li:nth-child(1) > div > div.thumb_cont > strong > a\n",
    "이미지 #mainContent > div > div.box_boxoffice > ol > li:nth-child(1) > div > div.thumb_item > div.poster_movie > img\n",
    "랭킹 #mainContent > div > div.box_boxoffice > ol > li:nth-child(1) > div > div.thumb_item > div.poster_movie > span.rank_num\n",
    "개봉일 #mainContent > div > div.box_boxoffice > ol > li:nth-child(1) > div > div.thumb_cont > span > span:nth-child(1)\n",
    "연령등급 #mainContent > div > div.box_boxoffice > ol > li:nth-child(1) > div > div.thumb_item > div.poster_movie > span.txt_tag"
   ]
  },
  {
   "cell_type": "code",
   "execution_count": 21,
   "metadata": {},
   "outputs": [
    {
     "name": "stdout",
     "output_type": "stream",
     "text": [
      "['아바타: 물의 길', '더 퍼스트 슬램덩크', '영웅', '장화신은 고양이: 끝내주는 모험', '스위치', '오늘 밤, 세계에서 이 사랑이 사라진다 해도', '올빼미', '신비아파트 극장판 차원도깨비와 7개의 세계', '프린스 챠밍', '유령', '3000년의 기다림', '문맨', '젠틀맨', '시간을 꿈꾸는 소녀', '웃는남자 감독판']\n"
     ]
    }
   ],
   "source": [
    "movies = soup.select(\".thumb_cont a\")\n",
    "movie=[]\n",
    "\n",
    "for mo in movies:\n",
    "    movie.append(mo.text)\n",
    "\n",
    "print(movie)\n"
   ]
  },
  {
   "attachments": {},
   "cell_type": "markdown",
   "metadata": {},
   "source": [
    "---\n",
    "# Test"
   ]
  },
  {
   "cell_type": "code",
   "execution_count": 27,
   "metadata": {},
   "outputs": [
    {
     "data": {
      "text/plain": [
       "'아바타: 물의 길'"
      ]
     },
     "execution_count": 27,
     "metadata": {},
     "output_type": "execute_result"
    }
   ],
   "source": [
    "soup.select('.tit_item')[0].string"
   ]
  },
  {
   "cell_type": "code",
   "execution_count": 28,
   "metadata": {},
   "outputs": [
    {
     "data": {
      "text/plain": [
       "'아바타: 물의 길'"
      ]
     },
     "execution_count": 28,
     "metadata": {},
     "output_type": "execute_result"
    }
   ],
   "source": [
    "soup.select('.link_txt')[0].string"
   ]
  },
  {
   "attachments": {},
   "cell_type": "markdown",
   "metadata": {},
   "source": [
    "---\n",
    "### 적용"
   ]
  },
  {
   "cell_type": "code",
   "execution_count": 29,
   "metadata": {},
   "outputs": [
    {
     "name": "stdout",
     "output_type": "stream",
     "text": [
      "[<a class=\"link_txt\" href=\"/moviedb/main?movieId=62708\">아바타: 물의 길</a>, <a class=\"link_txt\" href=\"/moviedb/main?movieId=164918\">더 퍼스트 슬램덩크</a>, <a class=\"link_txt\" href=\"/moviedb/main?movieId=115401\">영웅</a>, <a class=\"link_txt\" href=\"/moviedb/main?movieId=158407\">장화신은 고양이: 끝내주는 모험</a>, <a class=\"link_txt\" href=\"/moviedb/main?movieId=147599\">스위치</a>, <a class=\"link_txt\" href=\"/moviedb/main?movieId=162710\">오늘 밤, 세계에서 이 사랑이 사라진다 해도</a>, <a class=\"link_txt\" href=\"/moviedb/main?movieId=149380\">올빼미</a>, <a class=\"link_txt\" href=\"/moviedb/main?movieId=165377\">신비아파트 극장판 차원도깨비와 7개의 세계</a>, <a class=\"link_txt\" href=\"/moviedb/main?movieId=133319\">프린스 챠밍</a>, <a class=\"link_txt\" href=\"/moviedb/main?movieId=147261\">유령</a>, <a class=\"link_txt\" href=\"/moviedb/main?movieId=141775\">3000년의 기다림</a>, <a class=\"link_txt\" href=\"/moviedb/main?movieId=163283\">문맨</a>, <a class=\"link_txt\" href=\"/moviedb/main?movieId=152196\">젠틀맨</a>, <a class=\"link_txt\" href=\"/moviedb/main?movieId=159254\">시간을 꿈꾸는 소녀</a>, <a class=\"link_txt\" href=\"/moviedb/main?movieId=126989\">웃는남자 감독판</a>, <a class=\"link_txt\" data-tiara-layer=\"home\" href=\"/main\">홈</a>, <a class=\"link_txt\" data-tiara-layer=\"ranking\" href=\"/ranking/reservation\">랭킹</a>, <a class=\"link_txt\" data-tiara-layer=\"premovie\" href=\"/premovie/theater\">상영예정작</a>, <a class=\"link_txt\" data-tiara-layer=\"contents\" href=\"/contents/news\">콘텐츠</a>]\n"
     ]
    }
   ],
   "source": [
    "li_lists = soup.select('.link_txt')\n",
    "print(li_list)"
   ]
  },
  {
   "attachments": {},
   "cell_type": "markdown",
   "metadata": {},
   "source": [
    "<a class=\"link_txt\" data-tiara-layer=\"home\" href=\"/main\">홈</a>, <a class=\"link_txt\" data-tiara-layer=\"ranking\" href=\"/ranking/reservation\">랭킹</a>, <a class=\"link_txt\" data-tiara-layer=\"premovie\" href=\"/premovie/theater\">상영예정작</a>, <a class=\"link_txt\" data-tiara-layer=\"contents\" href=\"/contents/news\">콘텐츠</a>]\n",
    "\n",
    "필요없는것도 나오네 ? 영화링크는 15개"
   ]
  },
  {
   "cell_type": "code",
   "execution_count": 30,
   "metadata": {},
   "outputs": [
    {
     "name": "stdout",
     "output_type": "stream",
     "text": [
      "[<a class=\"link_txt\" href=\"/moviedb/main?movieId=62708\">아바타: 물의 길</a>, <a class=\"link_txt\" href=\"/moviedb/main?movieId=164918\">더 퍼스트 슬램덩크</a>, <a class=\"link_txt\" href=\"/moviedb/main?movieId=115401\">영웅</a>, <a class=\"link_txt\" href=\"/moviedb/main?movieId=158407\">장화신은 고양이: 끝내주는 모험</a>, <a class=\"link_txt\" href=\"/moviedb/main?movieId=147599\">스위치</a>, <a class=\"link_txt\" href=\"/moviedb/main?movieId=162710\">오늘 밤, 세계에서 이 사랑이 사라진다 해도</a>, <a class=\"link_txt\" href=\"/moviedb/main?movieId=149380\">올빼미</a>, <a class=\"link_txt\" href=\"/moviedb/main?movieId=165377\">신비아파트 극장판 차원도깨비와 7개의 세계</a>, <a class=\"link_txt\" href=\"/moviedb/main?movieId=133319\">프린스 챠밍</a>, <a class=\"link_txt\" href=\"/moviedb/main?movieId=147261\">유령</a>, <a class=\"link_txt\" href=\"/moviedb/main?movieId=141775\">3000년의 기다림</a>, <a class=\"link_txt\" href=\"/moviedb/main?movieId=163283\">문맨</a>, <a class=\"link_txt\" href=\"/moviedb/main?movieId=152196\">젠틀맨</a>, <a class=\"link_txt\" href=\"/moviedb/main?movieId=159254\">시간을 꿈꾸는 소녀</a>, <a class=\"link_txt\" href=\"/moviedb/main?movieId=126989\">웃는남자 감독판</a>]\n"
     ]
    }
   ],
   "source": [
    "li_lists = soup.select('.link_txt')[0:15]\n",
    "print(li_list)"
   ]
  },
  {
   "cell_type": "code",
   "execution_count": 39,
   "metadata": {},
   "outputs": [
    {
     "name": "stdout",
     "output_type": "stream",
     "text": [
      "1 아바타: 물의 길\n",
      "2 더 퍼스트 슬램덩크\n",
      "3 영웅\n",
      "4 장화신은 고양이: 끝내주는 모험\n",
      "5 스위치\n",
      "6 오늘 밤, 세계에서 이 사랑이 사라진다 해도\n",
      "7 올빼미\n",
      "8 신비아파트 극장판 차원도깨비와 7개의 세계\n",
      "9 프린스 챠밍\n",
      "10 유령\n",
      "11 3000년의 기다림\n",
      "12 문맨\n",
      "13 젠틀맨\n",
      "14 시간을 꿈꾸는 소녀\n",
      "15 웃는남자 감독판\n"
     ]
    }
   ],
   "source": [
    "li_lists = soup.select('.link_txt')[0:15]\n",
    "count = 0\n",
    "titleLists = []\n",
    "countLists = []\n",
    "for li in li_lists:\n",
    "    count += 1\n",
    "    print(count, li.string)\n",
    "    countLists.append(count)\n",
    "    titleLists.append(li.string.strip())"
   ]
  },
  {
   "cell_type": "code",
   "execution_count": 40,
   "metadata": {},
   "outputs": [
    {
     "data": {
      "text/plain": [
       "['아바타: 물의 길',\n",
       " '더 퍼스트 슬램덩크',\n",
       " '영웅',\n",
       " '장화신은 고양이: 끝내주는 모험',\n",
       " '스위치',\n",
       " '오늘 밤, 세계에서 이 사랑이 사라진다 해도',\n",
       " '올빼미',\n",
       " '신비아파트 극장판 차원도깨비와 7개의 세계',\n",
       " '프린스 챠밍',\n",
       " '유령',\n",
       " '3000년의 기다림',\n",
       " '문맨',\n",
       " '젠틀맨',\n",
       " '시간을 꿈꾸는 소녀',\n",
       " '웃는남자 감독판']"
      ]
     },
     "execution_count": 40,
     "metadata": {},
     "output_type": "execute_result"
    }
   ],
   "source": [
    "titleLists"
   ]
  },
  {
   "cell_type": "code",
   "execution_count": 41,
   "metadata": {},
   "outputs": [],
   "source": [
    "import pandas as pd"
   ]
  },
  {
   "cell_type": "code",
   "execution_count": 44,
   "metadata": {},
   "outputs": [
    {
     "data": {
      "text/html": [
       "<div>\n",
       "<style scoped>\n",
       "    .dataframe tbody tr th:only-of-type {\n",
       "        vertical-align: middle;\n",
       "    }\n",
       "\n",
       "    .dataframe tbody tr th {\n",
       "        vertical-align: top;\n",
       "    }\n",
       "\n",
       "    .dataframe thead th {\n",
       "        text-align: right;\n",
       "    }\n",
       "</style>\n",
       "<table border=\"1\" class=\"dataframe\">\n",
       "  <thead>\n",
       "    <tr style=\"text-align: right;\">\n",
       "      <th></th>\n",
       "      <th>Index</th>\n",
       "    </tr>\n",
       "  </thead>\n",
       "  <tbody>\n",
       "    <tr>\n",
       "      <th>0</th>\n",
       "      <td>1</td>\n",
       "    </tr>\n",
       "    <tr>\n",
       "      <th>1</th>\n",
       "      <td>2</td>\n",
       "    </tr>\n",
       "    <tr>\n",
       "      <th>2</th>\n",
       "      <td>3</td>\n",
       "    </tr>\n",
       "    <tr>\n",
       "      <th>3</th>\n",
       "      <td>4</td>\n",
       "    </tr>\n",
       "    <tr>\n",
       "      <th>4</th>\n",
       "      <td>5</td>\n",
       "    </tr>\n",
       "    <tr>\n",
       "      <th>5</th>\n",
       "      <td>6</td>\n",
       "    </tr>\n",
       "    <tr>\n",
       "      <th>6</th>\n",
       "      <td>7</td>\n",
       "    </tr>\n",
       "    <tr>\n",
       "      <th>7</th>\n",
       "      <td>8</td>\n",
       "    </tr>\n",
       "    <tr>\n",
       "      <th>8</th>\n",
       "      <td>9</td>\n",
       "    </tr>\n",
       "    <tr>\n",
       "      <th>9</th>\n",
       "      <td>10</td>\n",
       "    </tr>\n",
       "    <tr>\n",
       "      <th>10</th>\n",
       "      <td>11</td>\n",
       "    </tr>\n",
       "    <tr>\n",
       "      <th>11</th>\n",
       "      <td>12</td>\n",
       "    </tr>\n",
       "    <tr>\n",
       "      <th>12</th>\n",
       "      <td>13</td>\n",
       "    </tr>\n",
       "    <tr>\n",
       "      <th>13</th>\n",
       "      <td>14</td>\n",
       "    </tr>\n",
       "    <tr>\n",
       "      <th>14</th>\n",
       "      <td>15</td>\n",
       "    </tr>\n",
       "  </tbody>\n",
       "</table>\n",
       "</div>"
      ],
      "text/plain": [
       "    Index\n",
       "0       1\n",
       "1       2\n",
       "2       3\n",
       "3       4\n",
       "4       5\n",
       "5       6\n",
       "6       7\n",
       "7       8\n",
       "8       9\n",
       "9      10\n",
       "10     11\n",
       "11     12\n",
       "12     13\n",
       "13     14\n",
       "14     15"
      ]
     },
     "execution_count": 44,
     "metadata": {},
     "output_type": "execute_result"
    }
   ],
   "source": [
    "# countLists 만으로 DataFrame 생성\n",
    "df = pd.DataFrame(data=countLists, columns=['Index']) #< columns는 [] 로 작성해야댐 \n",
    "df"
   ]
  },
  {
   "cell_type": "code",
   "execution_count": 45,
   "metadata": {},
   "outputs": [],
   "source": [
    "# df Dataframe에 Column 추가\n",
    "df['Titles'] = pd.Series(titleLists)"
   ]
  },
  {
   "cell_type": "code",
   "execution_count": 46,
   "metadata": {},
   "outputs": [
    {
     "data": {
      "text/html": [
       "<div>\n",
       "<style scoped>\n",
       "    .dataframe tbody tr th:only-of-type {\n",
       "        vertical-align: middle;\n",
       "    }\n",
       "\n",
       "    .dataframe tbody tr th {\n",
       "        vertical-align: top;\n",
       "    }\n",
       "\n",
       "    .dataframe thead th {\n",
       "        text-align: right;\n",
       "    }\n",
       "</style>\n",
       "<table border=\"1\" class=\"dataframe\">\n",
       "  <thead>\n",
       "    <tr style=\"text-align: right;\">\n",
       "      <th></th>\n",
       "      <th>Index</th>\n",
       "      <th>Titles</th>\n",
       "    </tr>\n",
       "  </thead>\n",
       "  <tbody>\n",
       "    <tr>\n",
       "      <th>0</th>\n",
       "      <td>1</td>\n",
       "      <td>아바타: 물의 길</td>\n",
       "    </tr>\n",
       "    <tr>\n",
       "      <th>1</th>\n",
       "      <td>2</td>\n",
       "      <td>더 퍼스트 슬램덩크</td>\n",
       "    </tr>\n",
       "    <tr>\n",
       "      <th>2</th>\n",
       "      <td>3</td>\n",
       "      <td>영웅</td>\n",
       "    </tr>\n",
       "    <tr>\n",
       "      <th>3</th>\n",
       "      <td>4</td>\n",
       "      <td>장화신은 고양이: 끝내주는 모험</td>\n",
       "    </tr>\n",
       "    <tr>\n",
       "      <th>4</th>\n",
       "      <td>5</td>\n",
       "      <td>스위치</td>\n",
       "    </tr>\n",
       "    <tr>\n",
       "      <th>5</th>\n",
       "      <td>6</td>\n",
       "      <td>오늘 밤, 세계에서 이 사랑이 사라진다 해도</td>\n",
       "    </tr>\n",
       "    <tr>\n",
       "      <th>6</th>\n",
       "      <td>7</td>\n",
       "      <td>올빼미</td>\n",
       "    </tr>\n",
       "    <tr>\n",
       "      <th>7</th>\n",
       "      <td>8</td>\n",
       "      <td>신비아파트 극장판 차원도깨비와 7개의 세계</td>\n",
       "    </tr>\n",
       "    <tr>\n",
       "      <th>8</th>\n",
       "      <td>9</td>\n",
       "      <td>프린스 챠밍</td>\n",
       "    </tr>\n",
       "    <tr>\n",
       "      <th>9</th>\n",
       "      <td>10</td>\n",
       "      <td>유령</td>\n",
       "    </tr>\n",
       "    <tr>\n",
       "      <th>10</th>\n",
       "      <td>11</td>\n",
       "      <td>3000년의 기다림</td>\n",
       "    </tr>\n",
       "    <tr>\n",
       "      <th>11</th>\n",
       "      <td>12</td>\n",
       "      <td>문맨</td>\n",
       "    </tr>\n",
       "    <tr>\n",
       "      <th>12</th>\n",
       "      <td>13</td>\n",
       "      <td>젠틀맨</td>\n",
       "    </tr>\n",
       "    <tr>\n",
       "      <th>13</th>\n",
       "      <td>14</td>\n",
       "      <td>시간을 꿈꾸는 소녀</td>\n",
       "    </tr>\n",
       "    <tr>\n",
       "      <th>14</th>\n",
       "      <td>15</td>\n",
       "      <td>웃는남자 감독판</td>\n",
       "    </tr>\n",
       "  </tbody>\n",
       "</table>\n",
       "</div>"
      ],
      "text/plain": [
       "    Index                    Titles\n",
       "0       1                 아바타: 물의 길\n",
       "1       2                더 퍼스트 슬램덩크\n",
       "2       3                        영웅\n",
       "3       4         장화신은 고양이: 끝내주는 모험\n",
       "4       5                       스위치\n",
       "5       6  오늘 밤, 세계에서 이 사랑이 사라진다 해도\n",
       "6       7                       올빼미\n",
       "7       8   신비아파트 극장판 차원도깨비와 7개의 세계\n",
       "8       9                    프린스 챠밍\n",
       "9      10                        유령\n",
       "10     11                3000년의 기다림\n",
       "11     12                        문맨\n",
       "12     13                       젠틀맨\n",
       "13     14                시간을 꿈꾸는 소녀\n",
       "14     15                  웃는남자 감독판"
      ]
     },
     "execution_count": 46,
     "metadata": {},
     "output_type": "execute_result"
    }
   ],
   "source": [
    "df"
   ]
  },
  {
   "cell_type": "code",
   "execution_count": 47,
   "metadata": {},
   "outputs": [
    {
     "data": {
      "text/html": [
       "<div>\n",
       "<style scoped>\n",
       "    .dataframe tbody tr th:only-of-type {\n",
       "        vertical-align: middle;\n",
       "    }\n",
       "\n",
       "    .dataframe tbody tr th {\n",
       "        vertical-align: top;\n",
       "    }\n",
       "\n",
       "    .dataframe thead th {\n",
       "        text-align: right;\n",
       "    }\n",
       "</style>\n",
       "<table border=\"1\" class=\"dataframe\">\n",
       "  <thead>\n",
       "    <tr style=\"text-align: right;\">\n",
       "      <th></th>\n",
       "      <th>0</th>\n",
       "      <th>1</th>\n",
       "      <th>2</th>\n",
       "      <th>3</th>\n",
       "      <th>4</th>\n",
       "      <th>5</th>\n",
       "      <th>6</th>\n",
       "      <th>7</th>\n",
       "      <th>8</th>\n",
       "      <th>9</th>\n",
       "      <th>10</th>\n",
       "      <th>11</th>\n",
       "      <th>12</th>\n",
       "      <th>13</th>\n",
       "      <th>14</th>\n",
       "    </tr>\n",
       "  </thead>\n",
       "  <tbody>\n",
       "    <tr>\n",
       "      <th>0</th>\n",
       "      <td>1</td>\n",
       "      <td>2</td>\n",
       "      <td>3</td>\n",
       "      <td>4</td>\n",
       "      <td>5</td>\n",
       "      <td>6</td>\n",
       "      <td>7</td>\n",
       "      <td>8</td>\n",
       "      <td>9</td>\n",
       "      <td>10</td>\n",
       "      <td>11</td>\n",
       "      <td>12</td>\n",
       "      <td>13</td>\n",
       "      <td>14</td>\n",
       "      <td>15</td>\n",
       "    </tr>\n",
       "    <tr>\n",
       "      <th>1</th>\n",
       "      <td>아바타: 물의 길</td>\n",
       "      <td>더 퍼스트 슬램덩크</td>\n",
       "      <td>영웅</td>\n",
       "      <td>장화신은 고양이: 끝내주는 모험</td>\n",
       "      <td>스위치</td>\n",
       "      <td>오늘 밤, 세계에서 이 사랑이 사라진다 해도</td>\n",
       "      <td>올빼미</td>\n",
       "      <td>신비아파트 극장판 차원도깨비와 7개의 세계</td>\n",
       "      <td>프린스 챠밍</td>\n",
       "      <td>유령</td>\n",
       "      <td>3000년의 기다림</td>\n",
       "      <td>문맨</td>\n",
       "      <td>젠틀맨</td>\n",
       "      <td>시간을 꿈꾸는 소녀</td>\n",
       "      <td>웃는남자 감독판</td>\n",
       "    </tr>\n",
       "  </tbody>\n",
       "</table>\n",
       "</div>"
      ],
      "text/plain": [
       "          0           1   2                  3    4   \\\n",
       "0          1           2   3                  4    5   \n",
       "1  아바타: 물의 길  더 퍼스트 슬램덩크  영웅  장화신은 고양이: 끝내주는 모험  스위치   \n",
       "\n",
       "                         5    6                        7       8   9   \\\n",
       "0                         6    7                        8       9  10   \n",
       "1  오늘 밤, 세계에서 이 사랑이 사라진다 해도  올빼미  신비아파트 극장판 차원도깨비와 7개의 세계  프린스 챠밍  유령   \n",
       "\n",
       "           10  11   12          13        14  \n",
       "0          11  12   13          14        15  \n",
       "1  3000년의 기다림  문맨  젠틀맨  시간을 꿈꾸는 소녀  웃는남자 감독판  "
      ]
     },
     "execution_count": 47,
     "metadata": {},
     "output_type": "execute_result"
    }
   ],
   "source": [
    "# 한번에 넣어볼까?\n",
    "df2 = pd.DataFrame(data=[countLists,titleLists])\n",
    "df2"
   ]
  },
  {
   "cell_type": "code",
   "execution_count": 48,
   "metadata": {},
   "outputs": [
    {
     "data": {
      "text/html": [
       "<div>\n",
       "<style scoped>\n",
       "    .dataframe tbody tr th:only-of-type {\n",
       "        vertical-align: middle;\n",
       "    }\n",
       "\n",
       "    .dataframe tbody tr th {\n",
       "        vertical-align: top;\n",
       "    }\n",
       "\n",
       "    .dataframe thead th {\n",
       "        text-align: right;\n",
       "    }\n",
       "</style>\n",
       "<table border=\"1\" class=\"dataframe\">\n",
       "  <thead>\n",
       "    <tr style=\"text-align: right;\">\n",
       "      <th></th>\n",
       "      <th>0</th>\n",
       "    </tr>\n",
       "  </thead>\n",
       "  <tbody>\n",
       "    <tr>\n",
       "      <th>0</th>\n",
       "      <td>[1, 2, 3, 4, 5, 6, 7, 8, 9, 10, 11, 12, 13, 14...</td>\n",
       "    </tr>\n",
       "    <tr>\n",
       "      <th>1</th>\n",
       "      <td>[아바타: 물의 길, 더 퍼스트 슬램덩크, 영웅, 장화신은 고양이: 끝내주는 모험,...</td>\n",
       "    </tr>\n",
       "  </tbody>\n",
       "</table>\n",
       "</div>"
      ],
      "text/plain": [
       "                                                   0\n",
       "0  [1, 2, 3, 4, 5, 6, 7, 8, 9, 10, 11, 12, 13, 14...\n",
       "1  [아바타: 물의 길, 더 퍼스트 슬램덩크, 영웅, 장화신은 고양이: 끝내주는 모험,..."
      ]
     },
     "execution_count": 48,
     "metadata": {},
     "output_type": "execute_result"
    }
   ],
   "source": [
    "# ????\n",
    "df2 = pd.DataFrame(data=[[countLists],[titleLists]])\n",
    "df2"
   ]
  },
  {
   "cell_type": "code",
   "execution_count": 49,
   "metadata": {},
   "outputs": [
    {
     "data": {
      "text/html": [
       "<div>\n",
       "<style scoped>\n",
       "    .dataframe tbody tr th:only-of-type {\n",
       "        vertical-align: middle;\n",
       "    }\n",
       "\n",
       "    .dataframe tbody tr th {\n",
       "        vertical-align: top;\n",
       "    }\n",
       "\n",
       "    .dataframe thead th {\n",
       "        text-align: right;\n",
       "    }\n",
       "</style>\n",
       "<table border=\"1\" class=\"dataframe\">\n",
       "  <thead>\n",
       "    <tr style=\"text-align: right;\">\n",
       "      <th></th>\n",
       "      <th>0</th>\n",
       "      <th>1</th>\n",
       "    </tr>\n",
       "  </thead>\n",
       "  <tbody>\n",
       "    <tr>\n",
       "      <th>0</th>\n",
       "      <td>1</td>\n",
       "      <td>아바타: 물의 길</td>\n",
       "    </tr>\n",
       "    <tr>\n",
       "      <th>1</th>\n",
       "      <td>2</td>\n",
       "      <td>더 퍼스트 슬램덩크</td>\n",
       "    </tr>\n",
       "    <tr>\n",
       "      <th>2</th>\n",
       "      <td>3</td>\n",
       "      <td>영웅</td>\n",
       "    </tr>\n",
       "    <tr>\n",
       "      <th>3</th>\n",
       "      <td>4</td>\n",
       "      <td>장화신은 고양이: 끝내주는 모험</td>\n",
       "    </tr>\n",
       "    <tr>\n",
       "      <th>4</th>\n",
       "      <td>5</td>\n",
       "      <td>스위치</td>\n",
       "    </tr>\n",
       "    <tr>\n",
       "      <th>5</th>\n",
       "      <td>6</td>\n",
       "      <td>오늘 밤, 세계에서 이 사랑이 사라진다 해도</td>\n",
       "    </tr>\n",
       "    <tr>\n",
       "      <th>6</th>\n",
       "      <td>7</td>\n",
       "      <td>올빼미</td>\n",
       "    </tr>\n",
       "    <tr>\n",
       "      <th>7</th>\n",
       "      <td>8</td>\n",
       "      <td>신비아파트 극장판 차원도깨비와 7개의 세계</td>\n",
       "    </tr>\n",
       "    <tr>\n",
       "      <th>8</th>\n",
       "      <td>9</td>\n",
       "      <td>프린스 챠밍</td>\n",
       "    </tr>\n",
       "    <tr>\n",
       "      <th>9</th>\n",
       "      <td>10</td>\n",
       "      <td>유령</td>\n",
       "    </tr>\n",
       "    <tr>\n",
       "      <th>10</th>\n",
       "      <td>11</td>\n",
       "      <td>3000년의 기다림</td>\n",
       "    </tr>\n",
       "    <tr>\n",
       "      <th>11</th>\n",
       "      <td>12</td>\n",
       "      <td>문맨</td>\n",
       "    </tr>\n",
       "    <tr>\n",
       "      <th>12</th>\n",
       "      <td>13</td>\n",
       "      <td>젠틀맨</td>\n",
       "    </tr>\n",
       "    <tr>\n",
       "      <th>13</th>\n",
       "      <td>14</td>\n",
       "      <td>시간을 꿈꾸는 소녀</td>\n",
       "    </tr>\n",
       "    <tr>\n",
       "      <th>14</th>\n",
       "      <td>15</td>\n",
       "      <td>웃는남자 감독판</td>\n",
       "    </tr>\n",
       "  </tbody>\n",
       "</table>\n",
       "</div>"
      ],
      "text/plain": [
       "     0                         1\n",
       "0    1                 아바타: 물의 길\n",
       "1    2                더 퍼스트 슬램덩크\n",
       "2    3                        영웅\n",
       "3    4         장화신은 고양이: 끝내주는 모험\n",
       "4    5                       스위치\n",
       "5    6  오늘 밤, 세계에서 이 사랑이 사라진다 해도\n",
       "6    7                       올빼미\n",
       "7    8   신비아파트 극장판 차원도깨비와 7개의 세계\n",
       "8    9                    프린스 챠밍\n",
       "9   10                        유령\n",
       "10  11                3000년의 기다림\n",
       "11  12                        문맨\n",
       "12  13                       젠틀맨\n",
       "13  14                시간을 꿈꾸는 소녀\n",
       "14  15                  웃는남자 감독판"
      ]
     },
     "execution_count": 49,
     "metadata": {},
     "output_type": "execute_result"
    }
   ],
   "source": [
    "# zip을 사용해서 해보자?\n",
    "df2 = pd.DataFrame(data=zip(countLists,titleLists))\n",
    "df2\n",
    "#이렇게군 그럼 컬럼을 넣자  "
   ]
  },
  {
   "cell_type": "code",
   "execution_count": 50,
   "metadata": {},
   "outputs": [
    {
     "data": {
      "text/html": [
       "<div>\n",
       "<style scoped>\n",
       "    .dataframe tbody tr th:only-of-type {\n",
       "        vertical-align: middle;\n",
       "    }\n",
       "\n",
       "    .dataframe tbody tr th {\n",
       "        vertical-align: top;\n",
       "    }\n",
       "\n",
       "    .dataframe thead th {\n",
       "        text-align: right;\n",
       "    }\n",
       "</style>\n",
       "<table border=\"1\" class=\"dataframe\">\n",
       "  <thead>\n",
       "    <tr style=\"text-align: right;\">\n",
       "      <th></th>\n",
       "      <th>Index</th>\n",
       "      <th>Title</th>\n",
       "    </tr>\n",
       "  </thead>\n",
       "  <tbody>\n",
       "    <tr>\n",
       "      <th>0</th>\n",
       "      <td>1</td>\n",
       "      <td>아바타: 물의 길</td>\n",
       "    </tr>\n",
       "    <tr>\n",
       "      <th>1</th>\n",
       "      <td>2</td>\n",
       "      <td>더 퍼스트 슬램덩크</td>\n",
       "    </tr>\n",
       "    <tr>\n",
       "      <th>2</th>\n",
       "      <td>3</td>\n",
       "      <td>영웅</td>\n",
       "    </tr>\n",
       "    <tr>\n",
       "      <th>3</th>\n",
       "      <td>4</td>\n",
       "      <td>장화신은 고양이: 끝내주는 모험</td>\n",
       "    </tr>\n",
       "    <tr>\n",
       "      <th>4</th>\n",
       "      <td>5</td>\n",
       "      <td>스위치</td>\n",
       "    </tr>\n",
       "    <tr>\n",
       "      <th>5</th>\n",
       "      <td>6</td>\n",
       "      <td>오늘 밤, 세계에서 이 사랑이 사라진다 해도</td>\n",
       "    </tr>\n",
       "    <tr>\n",
       "      <th>6</th>\n",
       "      <td>7</td>\n",
       "      <td>올빼미</td>\n",
       "    </tr>\n",
       "    <tr>\n",
       "      <th>7</th>\n",
       "      <td>8</td>\n",
       "      <td>신비아파트 극장판 차원도깨비와 7개의 세계</td>\n",
       "    </tr>\n",
       "    <tr>\n",
       "      <th>8</th>\n",
       "      <td>9</td>\n",
       "      <td>프린스 챠밍</td>\n",
       "    </tr>\n",
       "    <tr>\n",
       "      <th>9</th>\n",
       "      <td>10</td>\n",
       "      <td>유령</td>\n",
       "    </tr>\n",
       "    <tr>\n",
       "      <th>10</th>\n",
       "      <td>11</td>\n",
       "      <td>3000년의 기다림</td>\n",
       "    </tr>\n",
       "    <tr>\n",
       "      <th>11</th>\n",
       "      <td>12</td>\n",
       "      <td>문맨</td>\n",
       "    </tr>\n",
       "    <tr>\n",
       "      <th>12</th>\n",
       "      <td>13</td>\n",
       "      <td>젠틀맨</td>\n",
       "    </tr>\n",
       "    <tr>\n",
       "      <th>13</th>\n",
       "      <td>14</td>\n",
       "      <td>시간을 꿈꾸는 소녀</td>\n",
       "    </tr>\n",
       "    <tr>\n",
       "      <th>14</th>\n",
       "      <td>15</td>\n",
       "      <td>웃는남자 감독판</td>\n",
       "    </tr>\n",
       "  </tbody>\n",
       "</table>\n",
       "</div>"
      ],
      "text/plain": [
       "    Index                     Title\n",
       "0       1                 아바타: 물의 길\n",
       "1       2                더 퍼스트 슬램덩크\n",
       "2       3                        영웅\n",
       "3       4         장화신은 고양이: 끝내주는 모험\n",
       "4       5                       스위치\n",
       "5       6  오늘 밤, 세계에서 이 사랑이 사라진다 해도\n",
       "6       7                       올빼미\n",
       "7       8   신비아파트 극장판 차원도깨비와 7개의 세계\n",
       "8       9                    프린스 챠밍\n",
       "9      10                        유령\n",
       "10     11                3000년의 기다림\n",
       "11     12                        문맨\n",
       "12     13                       젠틀맨\n",
       "13     14                시간을 꿈꾸는 소녀\n",
       "14     15                  웃는남자 감독판"
      ]
     },
     "execution_count": 50,
     "metadata": {},
     "output_type": "execute_result"
    }
   ],
   "source": [
    "#zip 사용해서 컬럼까지 넣기 ?\n",
    "df2 = pd.DataFrame(data=zip(countLists,titleLists), columns=['Index','Title'])\n",
    "df2\n",
    "# 만약 zip을 안쓰려고 한다면 dictionary 로 해도 되는데\n",
    "# 한번에 넣기 어려우면 걍 위에 추가하는 식으로 하는게 더 쉽긴 할듯 확실히 "
   ]
  },
  {
   "attachments": {},
   "cell_type": "markdown",
   "metadata": {},
   "source": [
    "---\n",
    "### CSV로 저장하기"
   ]
  },
  {
   "cell_type": "code",
   "execution_count": 51,
   "metadata": {},
   "outputs": [],
   "source": [
    "df.to_csv('../Data/DaumMoivesRankingList.csv', encoding='utf-8', index=False)"
   ]
  },
  {
   "cell_type": "code",
   "execution_count": null,
   "metadata": {},
   "outputs": [],
   "source": []
  }
 ],
 "metadata": {
  "kernelspec": {
   "display_name": "tensorflow",
   "language": "python",
   "name": "python3"
  },
  "language_info": {
   "codemirror_mode": {
    "name": "ipython",
    "version": 3
   },
   "file_extension": ".py",
   "mimetype": "text/x-python",
   "name": "python",
   "nbconvert_exporter": "python",
   "pygments_lexer": "ipython3",
   "version": "3.9.13 | packaged by conda-forge | (main, May 27 2022, 17:01:00) \n[Clang 13.0.1 ]"
  },
  "orig_nbformat": 4,
  "vscode": {
   "interpreter": {
    "hash": "d864e386a55a2cee39c31bc0e2325312cb68f97ec75faaaf5382620c119f58c5"
   }
  }
 },
 "nbformat": 4,
 "nbformat_minor": 2
}
