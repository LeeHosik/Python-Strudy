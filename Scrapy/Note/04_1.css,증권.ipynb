{
 "cells": [
  {
   "attachments": {},
   "cell_type": "markdown",
   "metadata": {},
   "source": [
    "### CSS 선택자 사용하기\n",
    "- BeautifulSoup은 JavaScript Library인 JQuery처럼 CSS 선택자를 지정해서 원하는 요소를 추출 가능"
   ]
  },
  {
   "cell_type": "code",
   "execution_count": 2,
   "metadata": {},
   "outputs": [],
   "source": [
    "from bs4 import BeautifulSoup\n",
    "import urllib.request as req"
   ]
  },
  {
   "cell_type": "code",
   "execution_count": 3,
   "metadata": {},
   "outputs": [
    {
     "name": "stdout",
     "output_type": "stream",
     "text": [
      "<html>\n",
      "<head>\n",
      "</head>\n",
      "<body>\n",
      "<div id=\"meigen\">\n",
      "<h1>위키북스 도서</h1>\n",
      "<ul class=\"items\">\n",
      "<li>유니티 게임 이펙트 입문</li>\n",
      "<li>스위프트로 시작하는 아이폰 앱 개발 교과서</li>\n",
      "<li>모던 웹사이트 디자인의 정석</li>\n",
      "</ul>\n",
      "</div>\n",
      "</body>\n",
      "</html>\n"
     ]
    }
   ],
   "source": [
    "url = 'https://zeushahn.github.io/Test/python/bs_exam04.html'\n",
    "res = req.urlopen(url)\n",
    "\n",
    "# BeautifulSoup으로 분석하기\n",
    "\n",
    "soup = BeautifulSoup(res, \"html.parser\")\n",
    "print(soup)"
   ]
  },
  {
   "cell_type": "code",
   "execution_count": 11,
   "metadata": {},
   "outputs": [
    {
     "name": "stdout",
     "output_type": "stream",
     "text": [
      "위키북스 도서\n",
      "li = 유니티 게임 이펙트 입문\n",
      "li = 스위프트로 시작하는 아이폰 앱 개발 교과서\n",
      "li = 모던 웹사이트 디자인의 정석\n"
     ]
    }
   ],
   "source": [
    "# 필요한 부분을 CSS Query로 추출하기 (#: id, .:class, >: 자식, 빈칸: 후손)\n",
    "h1 = soup.select_one(\"div#meigen > h1\").string\n",
    "print(h1)\n",
    "\n",
    "li_list = soup.select(\"div#meigen > ul.items > li\")\n",
    "\n",
    "for li in li_list:\n",
    "    print(f'li = {li.string}')"
   ]
  },
  {
   "cell_type": "code",
   "execution_count": 12,
   "metadata": {},
   "outputs": [
    {
     "name": "stdout",
     "output_type": "stream",
     "text": [
      "li = 유니티 게임 이펙트 입문\n",
      "li = 스위프트로 시작하는 아이폰 앱 개발 교과서\n",
      "li = 모던 웹사이트 디자인의 정석\n"
     ]
    }
   ],
   "source": [
    "\n",
    "li_list = soup.select(\"div#meigen li\") # << div#meigen 후손중에 li 다 가지고 오겠다는거 \n",
    "\n",
    "for li in li_list:\n",
    "    print(f'li = {li.string}')"
   ]
  },
  {
   "cell_type": "code",
   "execution_count": 13,
   "metadata": {},
   "outputs": [],
   "source": [
    "url = 'https://finance.naver.com/marketindex/'\n",
    "res = req.urlopen(url)\n",
    "\n",
    "# BeautifulSoup으로 분석하기\n",
    "\n",
    "soup = BeautifulSoup(res, \"html.parser\")\n"
   ]
  },
  {
   "cell_type": "code",
   "execution_count": null,
   "metadata": {},
   "outputs": [],
   "source": [
    "#exchangeList > li.on > a.head.usd > div > span.value"
   ]
  },
  {
   "cell_type": "code",
   "execution_count": 18,
   "metadata": {},
   "outputs": [
    {
     "name": "stdout",
     "output_type": "stream",
     "text": [
      "$/KRW : 1,239.00\n"
     ]
    }
   ],
   "source": [
    "price = soup.select_one('#exchangeList > li.on > a.head.usd > div > span.value').string\n",
    "print('$/KRW : '+price)"
   ]
  },
  {
   "attachments": {},
   "cell_type": "markdown",
   "metadata": {},
   "source": [
    "미화 환율 : #exchangeList > li.on > a.head.usd > div > span.value\n",
    "일본 환율 : #exchangeList > li.on > a.head.jpy > div > span.value\n",
    "EU  환율 : #exchangeList > li.on > a.head.eur > div > span.value\n",
    "중국 환율 : #exchangeList > li.on > a.head.cny > div > span.value\n",
    "\n",
    "일케 사용하면 안댐\n"
   ]
  },
  {
   "cell_type": "code",
   "execution_count": 19,
   "metadata": {},
   "outputs": [],
   "source": [
    "# country={\n",
    "#     '미국':'usd',\n",
    "#     '일본':'jpy',\n",
    "#     'EU' :'eur',\n",
    "#     '중국':'cny'\n",
    "# }\n"
   ]
  },
  {
   "cell_type": "code",
   "execution_count": 128,
   "metadata": {},
   "outputs": [
    {
     "ename": "AttributeError",
     "evalue": "ResultSet object has no attribute 'string'. You're probably treating a list of elements like a single element. Did you call find_all() when you meant to call find()?",
     "output_type": "error",
     "traceback": [
      "\u001b[0;31m---------------------------------------------------------------------------\u001b[0m",
      "\u001b[0;31mAttributeError\u001b[0m                            Traceback (most recent call last)",
      "Cell \u001b[0;32mIn[128], line 1\u001b[0m\n\u001b[0;32m----> 1\u001b[0m test1 \u001b[39m=\u001b[39m soup\u001b[39m.\u001b[39;49mselect(\u001b[39m'\u001b[39;49m\u001b[39mspan.value\u001b[39;49m\u001b[39m'\u001b[39;49m)\u001b[39m.\u001b[39;49mstring\n\u001b[1;32m      2\u001b[0m \u001b[39mprint\u001b[39m(test1)\n",
      "File \u001b[0;32m~/miniforge3/envs/tensorflow/lib/python3.9/site-packages/bs4/element.py:2289\u001b[0m, in \u001b[0;36mResultSet.__getattr__\u001b[0;34m(self, key)\u001b[0m\n\u001b[1;32m   2287\u001b[0m \u001b[39mdef\u001b[39;00m \u001b[39m__getattr__\u001b[39m(\u001b[39mself\u001b[39m, key):\n\u001b[1;32m   2288\u001b[0m \u001b[39m    \u001b[39m\u001b[39m\"\"\"Raise a helpful exception to explain a common code fix.\"\"\"\u001b[39;00m\n\u001b[0;32m-> 2289\u001b[0m     \u001b[39mraise\u001b[39;00m \u001b[39mAttributeError\u001b[39;00m(\n\u001b[1;32m   2290\u001b[0m         \u001b[39m\"\u001b[39m\u001b[39mResultSet object has no attribute \u001b[39m\u001b[39m'\u001b[39m\u001b[39m%s\u001b[39;00m\u001b[39m'\u001b[39m\u001b[39m. You\u001b[39m\u001b[39m'\u001b[39m\u001b[39mre probably treating a list of elements like a single element. Did you call find_all() when you meant to call find()?\u001b[39m\u001b[39m\"\u001b[39m \u001b[39m%\u001b[39m key\n\u001b[1;32m   2291\u001b[0m     )\n",
      "\u001b[0;31mAttributeError\u001b[0m: ResultSet object has no attribute 'string'. You're probably treating a list of elements like a single element. Did you call find_all() when you meant to call find()?"
     ]
    }
   ],
   "source": [
    "test1 = soup.select('span.value').string\n",
    "print(test1)"
   ]
  },
  {
   "cell_type": "code",
   "execution_count": 121,
   "metadata": {},
   "outputs": [],
   "source": [
    "# url = 'https://finance.naver.com/marketindex/'\n",
    "# res = req.urlopen(url)\n",
    "\n",
    "# # BeautifulSoup으로 분석하기\n",
    "\n",
    "# soup = BeautifulSoup(res, \"html.parser\")\n",
    "\n",
    "# country={\n",
    "#     '미국':'usd',\n",
    "#     '일본':'jpy',\n",
    "#     'EU':'eur',\n",
    "#     '중국':'cny'\n",
    "# }\n",
    "\n",
    "# def countryExchangeRate(countyName):\n",
    "#     i=0\n",
    "#     for i in range(0,len(country)):\n",
    "#         if list(country.keys())[i] == countyName :\n",
    "#             # link = \"#exchangeList > li.on > a.head.\"+ list(country.values())[i] +\"> div > span.value\"\n",
    "#             link = \"#exchangeList > li.on > a.head.jpy > div > span.value\"\n",
    "#             ExchangeRate = soup.select_one(link).string\n",
    "#             print(f'{list(country.keys())[i]} : {ExchangeRate}')\n",
    "#             break\n",
    "#         else: i += 1\n",
    "\n",
    "\n"
   ]
  },
  {
   "cell_type": "code",
   "execution_count": 126,
   "metadata": {},
   "outputs": [
    {
     "ename": "AttributeError",
     "evalue": "'NoneType' object has no attribute 'string'",
     "output_type": "error",
     "traceback": [
      "\u001b[0;31m---------------------------------------------------------------------------\u001b[0m",
      "\u001b[0;31mAttributeError\u001b[0m                            Traceback (most recent call last)",
      "Cell \u001b[0;32mIn[126], line 3\u001b[0m\n\u001b[1;32m      1\u001b[0m \u001b[39m# countryExchangeRate('일본')\u001b[39;00m\n\u001b[1;32m      2\u001b[0m \u001b[39m# link = \"#exchangeList > li.on > a.head.eur > div > span.value\"\u001b[39;00m\n\u001b[0;32m----> 3\u001b[0m ExchangeRate \u001b[39m=\u001b[39m soup\u001b[39m.\u001b[39;49mselect_one(\u001b[39m'\u001b[39;49m\u001b[39m#exchangeList > li.on > a.head.jpy > div > span.value\u001b[39;49m\u001b[39m'\u001b[39;49m)\u001b[39m.\u001b[39;49mstring\n\u001b[1;32m      4\u001b[0m \u001b[39m# price = soup.select_one('#exchangeList > li.on > a.head.usd > div > span.value').string\u001b[39;00m\n\u001b[1;32m      5\u001b[0m \u001b[39mprint\u001b[39m(\u001b[39mf\u001b[39m\u001b[39m'\u001b[39m\u001b[39m{\u001b[39;00mExchangeRate\u001b[39m}\u001b[39;00m\u001b[39m'\u001b[39m)\n",
      "\u001b[0;31mAttributeError\u001b[0m: 'NoneType' object has no attribute 'string'"
     ]
    }
   ],
   "source": [
    "# # countryExchangeRate('일본')\n",
    "# # link = \"#exchangeList > li.on > a.head.eur > div > span.value\"\n",
    "# ExchangeRate = soup.select_one('#exchangeList > li.on > a.head.jpy > div > span.value').string\n",
    "# # price = soup.select_one('#exchangeList > li.on > a.head.usd > div > span.value').string\n",
    "# print(f'{ExchangeRate}')\n"
   ]
  },
  {
   "attachments": {},
   "cell_type": "markdown",
   "metadata": {},
   "source": [
    "---\n",
    "### 강사님 답안"
   ]
  },
  {
   "attachments": {},
   "cell_type": "markdown",
   "metadata": {},
   "source": [
    "1. 구조파악\n",
    "미화 환율 : #exchangeList > li.on > a.head.usd > div > span.value\n",
    "일본 환율 : #exchangeList > li.on > a.head.jpy > div > span.value\n",
    "EU  환율 : #exchangeList > li.on > a.head.eur > div > span.value\n",
    "중국 환율 : #exchangeList > li.on > a.head.cny > div > span.value\n",
    "\n",
    "개발자도구로 보면은 <sapn class = \"value\"> 금액 </span>\n",
    "으로 돠어 있음"
   ]
  },
  {
   "cell_type": "code",
   "execution_count": 129,
   "metadata": {},
   "outputs": [
    {
     "name": "stdout",
     "output_type": "stream",
     "text": [
      "1,236.50\n",
      "948.05\n",
      "1,336.66\n",
      "182.59\n"
     ]
    }
   ],
   "source": [
    "prices = soup.select(\"#exchangeList span.value\")\n",
    "for price in prices:\n",
    "    print(price.string)"
   ]
  },
  {
   "cell_type": "code",
   "execution_count": 143,
   "metadata": {},
   "outputs": [
    {
     "name": "stdout",
     "output_type": "stream",
     "text": [
      "미국 \t   1,236.50\n",
      "일본 \t     948.05\n",
      "유럽연합 \t   1,336.66\n",
      "중국 \t     182.59\n"
     ]
    }
   ],
   "source": [
    "# 이렇게 쓰면 (https://finance.naver.com/marketindex/) 네이버 증권 메인화면 값이 다 나옴\n",
    "# 대신 앞에가 바뀌어도 여기는 제법 안전함 필요한값만 찾을 수 있다면 이렇게 하는쪽이 더 좋을듯 \n",
    "prices = soup.select(\"span.value\")\n",
    "country = ['미국','일본','유럽연합','중국']\n",
    "i = 0\n",
    "for price in prices:\n",
    "    print(country[i],\"\\t\", price.string.rjust(10))\n",
    "    i+=1\n",
    "    if i > len(country) - 1:\n",
    "        break"
   ]
  },
  {
   "cell_type": "code",
   "execution_count": 144,
   "metadata": {},
   "outputs": [
    {
     "name": "stdout",
     "output_type": "stream",
     "text": [
      "       aaa\n",
      "-------aaa\n",
      "aaa-------\n",
      "00123\n"
     ]
    }
   ],
   "source": [
    "print(\"aaa\".rjust(10)) # 오른쪽 정렬 \n",
    "print(\"aaa\".rjust(10,'-')) # 빈칸에 채울거 \n",
    "print(\"aaa\".ljust(10,'-')) # 빈칸에 채울거 \n",
    "print(\"123\".zfill(5)) # 총 5글자, 빈칸은 0으로 채움 "
   ]
  },
  {
   "cell_type": "code",
   "execution_count": 147,
   "metadata": {},
   "outputs": [
    {
     "name": "stdout",
     "output_type": "stream",
     "text": [
      "미국 \t   1,236.50\n",
      "일본 \t     948.05\n",
      "유럽연합 \t   1,336.66\n",
      "중국 \t     182.59\n"
     ]
    }
   ],
   "source": [
    "prices = soup.select(\".value\")\n",
    "country = ['미국','일본','유럽연합','중국']\n",
    "i = 0\n",
    "for price in prices:\n",
    "    print(country[i],\"\\t\", price.string.rjust(10))\n",
    "    i+=1\n",
    "    if i > len(country) - 1:\n",
    "        break"
   ]
  },
  {
   "cell_type": "code",
   "execution_count": null,
   "metadata": {},
   "outputs": [],
   "source": []
  }
 ],
 "metadata": {
  "kernelspec": {
   "display_name": "tensorflow",
   "language": "python",
   "name": "python3"
  },
  "language_info": {
   "codemirror_mode": {
    "name": "ipython",
    "version": 3
   },
   "file_extension": ".py",
   "mimetype": "text/x-python",
   "name": "python",
   "nbconvert_exporter": "python",
   "pygments_lexer": "ipython3",
   "version": "3.9.13 | packaged by conda-forge | (main, May 27 2022, 17:01:00) \n[Clang 13.0.1 ]"
  },
  "orig_nbformat": 4,
  "vscode": {
   "interpreter": {
    "hash": "d864e386a55a2cee39c31bc0e2325312cb68f97ec75faaaf5382620c119f58c5"
   }
  }
 },
 "nbformat": 4,
 "nbformat_minor": 2
}
