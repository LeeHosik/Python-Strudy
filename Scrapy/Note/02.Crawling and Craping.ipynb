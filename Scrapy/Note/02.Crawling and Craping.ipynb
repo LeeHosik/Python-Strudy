{
 "cells": [
  {
   "cell_type": "code",
   "execution_count": null,
   "metadata": {},
   "outputs": [],
   "source": [
    "# requests\n",
    "\n",
    "응답코드\n",
    "\n",
    "- 1xx : 요청을 받았고 작업 직행중 (100번대)\n",
    "- 2xx : 사용자의 요청이 성공적으로 수행됨 (200번대)\n",
    "- 3xx : 요청은 완료되었으나 리다이렉션(redirect)이 필요하다 (300번대)\n",
    "- 4xx : 사용자의 요청이 잘못됨 (그런파일 없다) (400번대)\n",
    "- 5xx : 서버에 오류가 발생함 (null값) (500번대)\n",
    "import requests as req\n",
    "\n",
    "URL = \"https://www.naver.com\"\n",
    "response = req.get(URL)\n",
    "print(response.status_code) # 서버가 살아 있구나\n",
    "import requests as req\n",
    "\n",
    "URL = \"https://www.naver.com\"\n",
    "response = req.get(URL)\n",
    "print(response.status_code)\n",
    "print(response.text)\n",
    "#python 검색결과창 데이터 보기\n",
    "\n",
    "import requests as req\n",
    "\n",
    "URL = \"https://search.naver.com/search.naver\"\n",
    "params = {\"query\" : \"python\"}\n",
    "response = req.get(URL, params=params)\n",
    "print(response.status_code)\n",
    "print(response.text)\n",
    "#네이버 웹툰 데이터 보기\n",
    "\n",
    "import requests as req\n",
    "\n",
    "URL = \"https://comic.naver.com/webtoon/detail.nhn\"\n",
    "params = {\"titleId\" : \"687915\", \"no\" : \"157\"}\n",
    "response = req.get(URL, params=params)\n",
    "print(response.status_code)\n",
    "print(response.text)\n",
    "# Json\n",
    "\n",
    "import requests as req\n",
    "\n",
    "URL = \"https://raw.githubusercontent.com/naver/naver-openapi-guide/draft/naver-openapi-swagger.json\"\n",
    "response = req.get(URL)\n",
    "result = response.json()\n",
    "print(response.status_code)\n",
    "print(type(result))\n",
    "print(result)\n"
   ]
  }
 ],
 "metadata": {
  "kernelspec": {
   "display_name": "tensorflow",
   "language": "python",
   "name": "python3"
  },
  "language_info": {
   "name": "python",
   "version": "3.9.13 | packaged by conda-forge | (main, May 27 2022, 17:01:00) \n[Clang 13.0.1 ]"
  },
  "orig_nbformat": 4,
  "vscode": {
   "interpreter": {
    "hash": "d864e386a55a2cee39c31bc0e2325312cb68f97ec75faaaf5382620c119f58c5"
   }
  }
 },
 "nbformat": 4,
 "nbformat_minor": 2
}
