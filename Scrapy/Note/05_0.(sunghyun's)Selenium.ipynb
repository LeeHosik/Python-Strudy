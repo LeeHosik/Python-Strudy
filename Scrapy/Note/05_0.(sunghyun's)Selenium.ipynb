{
 "cells": [
  {
   "cell_type": "code",
   "execution_count": 24,
   "metadata": {},
   "outputs": [],
   "source": [
    "# !pip install selenium"
   ]
  },
  {
   "cell_type": "code",
   "execution_count": 25,
   "metadata": {},
   "outputs": [],
   "source": [
    " # !pip install webdriver-manager"
   ]
  },
  {
   "cell_type": "code",
   "execution_count": 2,
   "metadata": {},
   "outputs": [],
   "source": [
    "from selenium import webdriver\n",
    "from selenium.webdriver.chrome.service import Service\n",
    "from webdriver_manager.chrome import ChromeDriverManager\n",
    "from selenium.webdriver.common.by import By"
   ]
  },
  {
   "cell_type": "code",
   "execution_count": 3,
   "metadata": {},
   "outputs": [],
   "source": [
    "# Chrome Browser와 Chrome Driver Version 확인하기\n",
    "# https://www.opinet.co.kr/searRgSelect.do\n",
    "\n",
    "chorom_options = webdriver.ChromeOptions()\n",
    "driver = webdriver.Chrome(service=Service(ChromeDriverManager().install()), options = chorom_options)\n",
    "driver.get(\"https://www.opinet.co.kr/searRgSelect.do\")"
   ]
  },
  {
   "cell_type": "code",
   "execution_count": 4,
   "metadata": {},
   "outputs": [
    {
     "data": {
      "text/plain": [
       "True"
      ]
     },
     "execution_count": 4,
     "metadata": {},
     "output_type": "execute_result"
    }
   ],
   "source": [
    "# 현재 화면 Capture 하기\n",
    "\n",
    "driver.save_screenshot(\"../Data/001.png\")"
   ]
  },
  {
   "cell_type": "markdown",
   "metadata": {},
   "source": [
    "---\n",
    "### 서울시 유가 정보 흭득을 위한 Test"
   ]
  },
  {
   "cell_type": "code",
   "execution_count": 5,
   "metadata": {},
   "outputs": [
    {
     "data": {
      "text/plain": [
       "['강남구',\n",
       " '강동구',\n",
       " '강북구',\n",
       " '강서구',\n",
       " '관악구',\n",
       " '광진구',\n",
       " '구로구',\n",
       " '금천구',\n",
       " '노원구',\n",
       " '도봉구',\n",
       " '동대문구',\n",
       " '동작구',\n",
       " '마포구',\n",
       " '서대문구',\n",
       " '서초구',\n",
       " '성동구',\n",
       " '성북구',\n",
       " '송파구',\n",
       " '양천구',\n",
       " '영등포구',\n",
       " '용산구',\n",
       " '은평구',\n",
       " '종로구',\n",
       " '중구',\n",
       " '중랑구']"
      ]
     },
     "execution_count": 5,
     "metadata": {},
     "output_type": "execute_result"
    }
   ],
   "source": [
    "# 자치구명 정보 가져오기\n",
    "\n",
    "# //*[@id=\"SIGUNGU_NM0\"] / 개발자도구에서 강남구 클릭하고 복사-> xPath복사하고 붙여넣기\n",
    "\n",
    "gu_list_raw = driver.find_element(By.XPATH,'//*[@id=\"SIGUNGU_NM0\"]')\n",
    "#print(gu_list_raw)\n",
    "gu_list = gu_list_raw.find_elements(By.TAG_NAME,\"option\")\n",
    "#print(gu_list)\n",
    "gu_names = [option.get_attribute(\"value\") for option in gu_list]\n",
    "gu_names.remove(\"\")\n",
    "gu_names"
   ]
  },
  {
   "cell_type": "code",
   "execution_count": 6,
   "metadata": {},
   "outputs": [],
   "source": [
    "# 조회버튼 click을 위해 XPath 가져오기 : //*[@id=\"searRgSelect\"]/span\n",
    "\n",
    "xpath = '//*[@id=\"searRgSelect\"]/span'\n",
    "button = driver.find_element(By.XPATH,xpath).click() # 조회버튼"
   ]
  },
  {
   "cell_type": "code",
   "execution_count": 7,
   "metadata": {},
   "outputs": [],
   "source": [
    "# 자치구 이름을 흭득하여 1번자치구 실행\n",
    "\n",
    "element = driver.find_element(By.ID,\"SIGUNGU_NM0\")\n",
    "element.send_keys(gu_names[1])\n",
    "\n",
    "xpath = '//*[@id=\"searRgSelect\"]/span'\n",
    "button = driver.find_element(By.XPATH,xpath).click()"
   ]
  },
  {
   "cell_type": "code",
   "execution_count": 36,
   "metadata": {},
   "outputs": [],
   "source": [
    "# 엑셀 저장 버튼 클릭 : //*[@id=\"glopopd_excel\"]/span\n",
    "\n",
    "xpath = '//*[@id=\"glopopd_excel\"]/span'\n",
    "element_get_excel = driver.find_element(By.XPATH,xpath).click()\n",
    "\n",
    "# 크롬창 밑에 다운로드한게 떠있으면 완료"
   ]
  },
  {
   "cell_type": "markdown",
   "metadata": {},
   "source": [
    "> 테스트 완료\n",
    "___"
   ]
  },
  {
   "cell_type": "markdown",
   "metadata": {},
   "source": [
    "### 데이터 수집"
   ]
  },
  {
   "cell_type": "code",
   "execution_count": 8,
   "metadata": {},
   "outputs": [],
   "source": [
    "# 화면에 그림을 그리는 시간이 필요하므로 이를 delay 시키도록 한다.\n",
    "\n",
    "import time\n",
    "\n",
    "for gu in gu_names:\n",
    "    element = driver.find_element(By.ID,\"SIGUNGU_NM0\") # 콤보 박스\n",
    "    element.send_keys(gu)\n",
    "    time.sleep(2)\n",
    "\n",
    "    xpath = '//*[@id=\"searRgSelect\"]/span'\n",
    "    button = driver.find_element(By.XPATH,xpath).click() # 조회\n",
    "    time.sleep(1)\n",
    "\n",
    "    xpath = '//*[@id=\"glopopd_excel\"]/span'\n",
    "    element_get_excel = driver.find_element(By.XPATH,xpath).click() # 엑셀 저장\n",
    "    time.sleep(1)\n",
    "\n",
    "    "
   ]
  },
  {
   "cell_type": "markdown",
   "metadata": {},
   "source": [
    "___\n",
    "### 와인앤모어 지점명과 주소 csv파일로 저장하기"
   ]
  },
  {
   "cell_type": "code",
   "execution_count": 1,
   "metadata": {},
   "outputs": [],
   "source": [
    "from selenium import webdriver\n",
    "from selenium.webdriver.chrome.service import Service\n",
    "from webdriver_manager.chrome import ChromeDriverManager\n",
    "from selenium.webdriver.common.by import By"
   ]
  },
  {
   "cell_type": "code",
   "execution_count": 3,
   "metadata": {},
   "outputs": [],
   "source": [
    "chorom_options = webdriver.ChromeOptions()\n",
    "driver = webdriver.Chrome(service=Service(ChromeDriverManager().install()), options = chorom_options)\n",
    "driver.get(\"http://shinsegae-lnb.com/about/shops?selectedRegionType=1&selectedBranchType=6&searchKey=0&searchText=\")"
   ]
  },
  {
   "cell_type": "code",
   "execution_count": 4,
   "metadata": {},
   "outputs": [
    {
     "data": {
      "text/plain": [
       "['강남구',\n",
       " '강동구',\n",
       " '강북구',\n",
       " '강서구',\n",
       " '관악구',\n",
       " '광진구',\n",
       " '구로구',\n",
       " '금천구',\n",
       " '노원구',\n",
       " '도봉구',\n",
       " '동대문구',\n",
       " '동작구',\n",
       " '마포구',\n",
       " '서대문구',\n",
       " '서초구',\n",
       " '성동구',\n",
       " '성북구',\n",
       " '송파구',\n",
       " '양천구',\n",
       " '영등포구',\n",
       " '용산구',\n",
       " '은평구',\n",
       " '종로구',\n",
       " '중구',\n",
       " '중랑구']"
      ]
     },
     "execution_count": 4,
     "metadata": {},
     "output_type": "execute_result"
    }
   ],
   "source": [
    "# 자치구명 정보 가져오기\n",
    "\n",
    "# //*[@id=\"selectedRegionGu\"] / 개발자도구에서 강남구 클릭하고 복사-> xPath복사하고 붙여넣기\n",
    "\n",
    "gu_list_raw = driver.find_element(By.XPATH,'//*[@id=\"selectedRegionGu\"]')\n",
    "#print(gu_list_raw)\n",
    "gu_list = gu_list_raw.find_elements(By.TAG_NAME,\"option\")\n",
    "#print(gu_list)\n",
    "gu_names = [option.get_attribute(\"value\") for option in gu_list]\n",
    "gu_names.remove(\"\")\n",
    "gu_names"
   ]
  },
  {
   "cell_type": "code",
   "execution_count": 48,
   "metadata": {},
   "outputs": [],
   "source": [
    "# 검색버튼 click을 위해 XPath 가져오기 : // //*[@id=\"section2\"]/div/div[1]/a\n",
    "\n",
    "xpath = '//*[@id=\"section2\"]/div/div[1]/a'\n",
    "button = driver.find_element(By.XPATH,xpath).click() # 조회버튼"
   ]
  },
  {
   "cell_type": "code",
   "execution_count": 5,
   "metadata": {},
   "outputs": [],
   "source": [
    "# 자치구 이름을 흭득하여 1번자치구 실행\n",
    "\n",
    "element = driver.find_element(By.ID,\"selectedRegionGu\")\n",
    "element.send_keys(gu_names[0])\n",
    "\n",
    "\n",
    "xpath = '//*[@id=\"section2\"]/div/div[1]/a'\n",
    "button = driver.find_element(By.XPATH,xpath).click()"
   ]
  },
  {
   "cell_type": "code",
   "execution_count": null,
   "metadata": {},
   "outputs": [],
   "source": [
    "#section2 > div > div.store_box > ul.store_list"
   ]
  },
  {
   "cell_type": "code",
   "execution_count": null,
   "metadata": {},
   "outputs": [],
   "source": [
    "# 다음페이지 \n",
    "\n",
    "xpath = '//*[@id=\"section2\"]/div/div[3]/a[2]'\n",
    "nextBnt = driver.find_element(By.XPATH,xpath).click()"
   ]
  },
  {
   "cell_type": "code",
   "execution_count": 7,
   "metadata": {},
   "outputs": [
    {
     "data": {
      "text/plain": [
       "['와인앤모어 학동역점',\n",
       " '매장상세보기',\n",
       " '이마트 수서점',\n",
       " '매장상세보기',\n",
       " '이마트 역삼점',\n",
       " '매장상세보기',\n",
       " 'SSG푸드마켓 도곡점',\n",
       " '매장상세보기',\n",
       " 'SSG푸드마켓 청담점',\n",
       " '매장상세보기']"
      ]
     },
     "execution_count": 7,
     "metadata": {},
     "output_type": "execute_result"
    }
   ],
   "source": [
    "name = driver.find_element(By.XPATH,'//*[@id=\"section2\"]/div/div[2]/ul[2]')\n",
    "name_list = name.find_elements(By.TAG_NAME,\"dt\")\n",
    "\n",
    "w_list = [dt.text for dt in name_list if ]\n",
    "w_list"
   ]
  },
  {
   "cell_type": "code",
   "execution_count": null,
   "metadata": {},
   "outputs": [],
   "source": [
    "page = driver.find_element(By.XPATH,'driver.find_element(By.XPATH,'//*[@id=\"section2\"]/div/div[2]/ul[2]')')"
   ]
  }
 ],
 "metadata": {
  "kernelspec": {
   "display_name": "tensorflow",
   "language": "python",
   "name": "python3"
  },
  "language_info": {
   "codemirror_mode": {
    "name": "ipython",
    "version": 3
   },
   "file_extension": ".py",
   "mimetype": "text/x-python",
   "name": "python",
   "nbconvert_exporter": "python",
   "pygments_lexer": "ipython3",
   "version": "3.9.13 | packaged by conda-forge | (main, May 27 2022, 17:01:00) \n[Clang 13.0.1 ]"
  },
  "orig_nbformat": 4,
  "vscode": {
   "interpreter": {
    "hash": "d864e386a55a2cee39c31bc0e2325312cb68f97ec75faaaf5382620c119f58c5"
   }
  }
 },
 "nbformat": 4,
 "nbformat_minor": 2
}
