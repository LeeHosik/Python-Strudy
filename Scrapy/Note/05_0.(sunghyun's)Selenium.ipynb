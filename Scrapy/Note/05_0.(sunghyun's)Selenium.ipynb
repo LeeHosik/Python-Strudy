{
 "cells": [
  {
   "cell_type": "code",
   "execution_count": 2,
   "metadata": {},
   "outputs": [
    {
     "name": "stdout",
     "output_type": "stream",
     "text": [
      "Collecting selenium\n",
      "  Downloading selenium-4.7.2-py3-none-any.whl (6.3 MB)\n",
      "\u001b[2K     \u001b[90m━━━━━━━━━━━━━━━━━━━━━━━━━━━━━━━━━━━━━━━━\u001b[0m \u001b[32m6.3/6.3 MB\u001b[0m \u001b[31m11.4 MB/s\u001b[0m eta \u001b[36m0:00:00\u001b[0m00:01\u001b[0m00:01\u001b[0m\n",
      "\u001b[?25hRequirement already satisfied: certifi>=2021.10.8 in /Users/luchesia/miniforge3/envs/tensorflow/lib/python3.9/site-packages (from selenium) (2022.12.7)\n",
      "Collecting trio-websocket~=0.9\n",
      "  Downloading trio_websocket-0.9.2-py3-none-any.whl (16 kB)\n",
      "Requirement already satisfied: urllib3[socks]~=1.26 in /Users/luchesia/miniforge3/envs/tensorflow/lib/python3.9/site-packages (from selenium) (1.26.14)\n",
      "Collecting trio~=0.17\n",
      "  Downloading trio-0.22.0-py3-none-any.whl (384 kB)\n",
      "\u001b[2K     \u001b[90m━━━━━━━━━━━━━━━━━━━━━━━━━━━━━━━━━━━━━━\u001b[0m \u001b[32m384.9/384.9 kB\u001b[0m \u001b[31m10.5 MB/s\u001b[0m eta \u001b[36m0:00:00\u001b[0m\n",
      "\u001b[?25hRequirement already satisfied: sniffio in /Users/luchesia/miniforge3/envs/tensorflow/lib/python3.9/site-packages (from trio~=0.17->selenium) (1.3.0)\n",
      "Requirement already satisfied: attrs>=19.2.0 in /Users/luchesia/miniforge3/envs/tensorflow/lib/python3.9/site-packages (from trio~=0.17->selenium) (22.2.0)\n",
      "Requirement already satisfied: idna in /Users/luchesia/miniforge3/envs/tensorflow/lib/python3.9/site-packages (from trio~=0.17->selenium) (3.4)\n",
      "Collecting sortedcontainers\n",
      "  Downloading sortedcontainers-2.4.0-py2.py3-none-any.whl (29 kB)\n",
      "Collecting exceptiongroup>=1.0.0rc9\n",
      "  Downloading exceptiongroup-1.1.0-py3-none-any.whl (14 kB)\n",
      "Collecting outcome\n",
      "  Downloading outcome-1.2.0-py2.py3-none-any.whl (9.7 kB)\n",
      "Collecting async-generator>=1.9\n",
      "  Downloading async_generator-1.10-py3-none-any.whl (18 kB)\n",
      "Collecting wsproto>=0.14\n",
      "  Downloading wsproto-1.2.0-py3-none-any.whl (24 kB)\n",
      "Collecting PySocks!=1.5.7,<2.0,>=1.5.6\n",
      "  Downloading PySocks-1.7.1-py3-none-any.whl (16 kB)\n",
      "Collecting h11<1,>=0.9.0\n",
      "  Downloading h11-0.14.0-py3-none-any.whl (58 kB)\n",
      "\u001b[2K     \u001b[90m━━━━━━━━━━━━━━━━━━━━━━━━━━━━━━━━━━━━━━━━\u001b[0m \u001b[32m58.3/58.3 kB\u001b[0m \u001b[31m6.7 MB/s\u001b[0m eta \u001b[36m0:00:00\u001b[0m\n",
      "\u001b[?25hInstalling collected packages: sortedcontainers, PySocks, outcome, h11, exceptiongroup, async-generator, wsproto, trio, trio-websocket, selenium\n",
      "Successfully installed PySocks-1.7.1 async-generator-1.10 exceptiongroup-1.1.0 h11-0.14.0 outcome-1.2.0 selenium-4.7.2 sortedcontainers-2.4.0 trio-0.22.0 trio-websocket-0.9.2 wsproto-1.2.0\n"
     ]
    }
   ],
   "source": [
    "#!pip install selenium"
   ]
  },
  {
   "cell_type": "code",
   "execution_count": 1,
   "metadata": {},
   "outputs": [
    {
     "name": "stdout",
     "output_type": "stream",
     "text": [
      "Collecting webdriver-manager\n",
      "  Downloading webdriver_manager-3.8.5-py2.py3-none-any.whl (27 kB)\n",
      "Requirement already satisfied: requests in /Users/luchesia/miniforge3/envs/tensorflow/lib/python3.9/site-packages (from webdriver-manager) (2.28.2)\n",
      "Requirement already satisfied: packaging in /Users/luchesia/miniforge3/envs/tensorflow/lib/python3.9/site-packages (from webdriver-manager) (23.0)\n",
      "Collecting tqdm\n",
      "  Downloading tqdm-4.64.1-py2.py3-none-any.whl (78 kB)\n",
      "\u001b[2K     \u001b[90m━━━━━━━━━━━━━━━━━━━━━━━━━━━━━━━━━━━━━━━━\u001b[0m \u001b[32m78.5/78.5 kB\u001b[0m \u001b[31m7.1 MB/s\u001b[0m eta \u001b[36m0:00:00\u001b[0m\n",
      "\u001b[?25hCollecting python-dotenv\n",
      "  Downloading python_dotenv-0.21.1-py3-none-any.whl (19 kB)\n",
      "Requirement already satisfied: certifi>=2017.4.17 in /Users/luchesia/miniforge3/envs/tensorflow/lib/python3.9/site-packages (from requests->webdriver-manager) (2022.12.7)\n",
      "Requirement already satisfied: urllib3<1.27,>=1.21.1 in /Users/luchesia/miniforge3/envs/tensorflow/lib/python3.9/site-packages (from requests->webdriver-manager) (1.26.14)\n",
      "Requirement already satisfied: idna<4,>=2.5 in /Users/luchesia/miniforge3/envs/tensorflow/lib/python3.9/site-packages (from requests->webdriver-manager) (3.4)\n",
      "Requirement already satisfied: charset-normalizer<4,>=2 in /Users/luchesia/miniforge3/envs/tensorflow/lib/python3.9/site-packages (from requests->webdriver-manager) (3.0.1)\n",
      "Installing collected packages: tqdm, python-dotenv, webdriver-manager\n",
      "Successfully installed python-dotenv-0.21.1 tqdm-4.64.1 webdriver-manager-3.8.5\n"
     ]
    }
   ],
   "source": [
    " #!pip install webdriver-manager"
   ]
  },
  {
   "cell_type": "code",
   "execution_count": 2,
   "metadata": {},
   "outputs": [],
   "source": [
    "from selenium import webdriver\n",
    "from selenium.webdriver.chrome.service import Service\n",
    "from webdriver_manager.chrome import ChromeDriverManager\n",
    "from selenium.webdriver.common.by import By"
   ]
  },
  {
   "cell_type": "code",
   "execution_count": 3,
   "metadata": {},
   "outputs": [],
   "source": [
    "# Chrome Browser와 Chrome Driver Version 확인하기\n",
    "# https://www.opinet.co.kr/searRgSelect.do\n",
    "\n",
    "chorom_options = webdriver.ChromeOptions()\n",
    "driver = webdriver.Chrome(service=Service(ChromeDriverManager().install()), options = chorom_options)\n",
    "driver.get(\"https://www.opinet.co.kr/searRgSelect.do\")"
   ]
  },
  {
   "cell_type": "code",
   "execution_count": 4,
   "metadata": {},
   "outputs": [
    {
     "data": {
      "text/plain": [
       "True"
      ]
     },
     "execution_count": 4,
     "metadata": {},
     "output_type": "execute_result"
    }
   ],
   "source": [
    "# 현재 화면 Capture 하기\n",
    "\n",
    "driver.save_screenshot(\"../Data/001.png\")"
   ]
  },
  {
   "cell_type": "markdown",
   "metadata": {},
   "source": [
    "---\n",
    "### 서울시 유가 정보 흭득을 위한 Test"
   ]
  },
  {
   "cell_type": "code",
   "execution_count": 5,
   "metadata": {},
   "outputs": [
    {
     "data": {
      "text/plain": [
       "['강남구',\n",
       " '강동구',\n",
       " '강북구',\n",
       " '강서구',\n",
       " '관악구',\n",
       " '광진구',\n",
       " '구로구',\n",
       " '금천구',\n",
       " '노원구',\n",
       " '도봉구',\n",
       " '동대문구',\n",
       " '동작구',\n",
       " '마포구',\n",
       " '서대문구',\n",
       " '서초구',\n",
       " '성동구',\n",
       " '성북구',\n",
       " '송파구',\n",
       " '양천구',\n",
       " '영등포구',\n",
       " '용산구',\n",
       " '은평구',\n",
       " '종로구',\n",
       " '중구',\n",
       " '중랑구']"
      ]
     },
     "execution_count": 5,
     "metadata": {},
     "output_type": "execute_result"
    }
   ],
   "source": [
    "# 자치구명 정보 가져오기\n",
    "\n",
    "# //*[@id=\"SIGUNGU_NM0\"] / 개발자도구에서 강남구 클릭하고 복사-> xPath복사하고 붙여넣기\n",
    "\n",
    "gu_list_raw = driver.find_element(By.XPATH,'//*[@id=\"SIGUNGU_NM0\"]')\n",
    "#print(gu_list_raw)\n",
    "gu_list = gu_list_raw.find_elements(By.TAG_NAME,\"option\")\n",
    "#print(gu_list)\n",
    "gu_names = [option.get_attribute(\"value\") for option in gu_list]\n",
    "gu_names.remove(\"\")\n",
    "gu_names"
   ]
  },
  {
   "cell_type": "code",
   "execution_count": 6,
   "metadata": {},
   "outputs": [],
   "source": [
    "# 조회버튼 click을 위해 XPath 가져오기 : //*[@id=\"searRgSelect\"]/span\n",
    "\n",
    "xpath = '//*[@id=\"searRgSelect\"]/span'\n",
    "button = driver.find_element(By.XPATH,xpath).click() # 조회버튼"
   ]
  },
  {
   "cell_type": "code",
   "execution_count": 7,
   "metadata": {},
   "outputs": [],
   "source": [
    "# 자치구 이름을 흭득하여 1번자치구 실행\n",
    "\n",
    "element = driver.find_element(By.ID,\"SIGUNGU_NM0\")\n",
    "element.send_keys(gu_names[1])\n",
    "\n",
    "xpath = '//*[@id=\"searRgSelect\"]/span'\n",
    "button = driver.find_element(By.XPATH,xpath).click()"
   ]
  },
  {
   "cell_type": "code",
   "execution_count": 36,
   "metadata": {},
   "outputs": [],
   "source": [
    "# 엑셀 저장 버튼 클릭 : //*[@id=\"glopopd_excel\"]/span\n",
    "\n",
    "xpath = '//*[@id=\"glopopd_excel\"]/span'\n",
    "element_get_excel = driver.find_element(By.XPATH,xpath).click()\n",
    "\n",
    "# 크롬창 밑에 다운로드한게 떠있으면 완료"
   ]
  },
  {
   "cell_type": "markdown",
   "metadata": {},
   "source": [
    "> 테스트 완료\n",
    "___"
   ]
  },
  {
   "cell_type": "markdown",
   "metadata": {},
   "source": [
    "### 데이터 수집"
   ]
  },
  {
   "cell_type": "code",
   "execution_count": 8,
   "metadata": {},
   "outputs": [],
   "source": [
    "# 화면에 그림을 그리는 시간이 필요하므로 이를 delay 시키도록 한다.\n",
    "\n",
    "import time\n",
    "\n",
    "for gu in gu_names:\n",
    "    element = driver.find_element(By.ID,\"SIGUNGU_NM0\") # 콤보 박스\n",
    "    element.send_keys(gu)\n",
    "    time.sleep(2)\n",
    "\n",
    "    xpath = '//*[@id=\"searRgSelect\"]/span'\n",
    "    button = driver.find_element(By.XPATH,xpath).click() # 조회\n",
    "    time.sleep(1)\n",
    "\n",
    "    xpath = '//*[@id=\"glopopd_excel\"]/span'\n",
    "    element_get_excel = driver.find_element(By.XPATH,xpath).click() # 엑셀 저장\n",
    "    time.sleep(1)\n",
    "\n",
    "    "
   ]
  },
  {
   "cell_type": "markdown",
   "metadata": {},
   "source": [
    "___\n",
    "### 와인앤모어 지점명과 주소 csv파일로 저장하기"
   ]
  },
  {
   "cell_type": "code",
   "execution_count": 1,
   "metadata": {},
   "outputs": [],
   "source": [
    "from selenium import webdriver\n",
    "from selenium.webdriver.chrome.service import Service\n",
    "from webdriver_manager.chrome import ChromeDriverManager\n",
    "from selenium.webdriver.common.by import By"
   ]
  },
  {
   "cell_type": "code",
   "execution_count": 3,
   "metadata": {},
   "outputs": [],
   "source": [
    "chorom_options = webdriver.ChromeOptions()\n",
    "driver = webdriver.Chrome(service=Service(ChromeDriverManager().install()), options = chorom_options)\n",
    "driver.get(\"http://shinsegae-lnb.com/about/shops?selectedRegionType=1&selectedBranchType=6&searchKey=0&searchText=\")"
   ]
  },
  {
   "cell_type": "code",
   "execution_count": 4,
   "metadata": {},
   "outputs": [
    {
     "data": {
      "text/plain": [
       "['강남구',\n",
       " '강동구',\n",
       " '강북구',\n",
       " '강서구',\n",
       " '관악구',\n",
       " '광진구',\n",
       " '구로구',\n",
       " '금천구',\n",
       " '노원구',\n",
       " '도봉구',\n",
       " '동대문구',\n",
       " '동작구',\n",
       " '마포구',\n",
       " '서대문구',\n",
       " '서초구',\n",
       " '성동구',\n",
       " '성북구',\n",
       " '송파구',\n",
       " '양천구',\n",
       " '영등포구',\n",
       " '용산구',\n",
       " '은평구',\n",
       " '종로구',\n",
       " '중구',\n",
       " '중랑구']"
      ]
     },
     "execution_count": 4,
     "metadata": {},
     "output_type": "execute_result"
    }
   ],
   "source": [
    "# 자치구명 정보 가져오기\n",
    "\n",
    "# //*[@id=\"selectedRegionGu\"] / 개발자도구에서 강남구 클릭하고 복사-> xPath복사하고 붙여넣기\n",
    "\n",
    "gu_list_raw = driver.find_element(By.XPATH,'//*[@id=\"selectedRegionGu\"]')\n",
    "#print(gu_list_raw)\n",
    "gu_list = gu_list_raw.find_elements(By.TAG_NAME,\"option\")\n",
    "#print(gu_list)\n",
    "gu_names = [option.get_attribute(\"value\") for option in gu_list]\n",
    "gu_names.remove(\"\")\n",
    "gu_names"
   ]
  },
  {
   "cell_type": "code",
   "execution_count": 48,
   "metadata": {},
   "outputs": [],
   "source": [
    "# 검색버튼 click을 위해 XPath 가져오기 : // //*[@id=\"section2\"]/div/div[1]/a\n",
    "\n",
    "xpath = '//*[@id=\"section2\"]/div/div[1]/a'\n",
    "button = driver.find_element(By.XPATH,xpath).click() # 조회버튼"
   ]
  },
  {
   "cell_type": "code",
   "execution_count": 5,
   "metadata": {},
   "outputs": [],
   "source": [
    "# 자치구 이름을 흭득하여 1번자치구 실행\n",
    "\n",
    "element = driver.find_element(By.ID,\"selectedRegionGu\")\n",
    "element.send_keys(gu_names[0])\n",
    "\n",
    "\n",
    "xpath = '//*[@id=\"section2\"]/div/div[1]/a'\n",
    "button = driver.find_element(By.XPATH,xpath).click()"
   ]
  },
  {
   "cell_type": "code",
   "execution_count": null,
   "metadata": {},
   "outputs": [],
   "source": [
    "#section2 > div > div.store_box > ul.store_list"
   ]
  },
  {
   "cell_type": "code",
   "execution_count": null,
   "metadata": {},
   "outputs": [],
   "source": [
    "# 다음페이지 \n",
    "\n",
    "xpath = '//*[@id=\"section2\"]/div/div[3]/a[2]'\n",
    "nextBnt = driver.find_element(By.XPATH,xpath).click()"
   ]
  },
  {
   "cell_type": "code",
   "execution_count": 7,
   "metadata": {},
   "outputs": [
    {
     "data": {
      "text/plain": [
       "['와인앤모어 학동역점',\n",
       " '매장상세보기',\n",
       " '이마트 수서점',\n",
       " '매장상세보기',\n",
       " '이마트 역삼점',\n",
       " '매장상세보기',\n",
       " 'SSG푸드마켓 도곡점',\n",
       " '매장상세보기',\n",
       " 'SSG푸드마켓 청담점',\n",
       " '매장상세보기']"
      ]
     },
     "execution_count": 7,
     "metadata": {},
     "output_type": "execute_result"
    }
   ],
   "source": [
    "name = driver.find_element(By.XPATH,'//*[@id=\"section2\"]/div/div[2]/ul[2]')\n",
    "name_list = name.find_elements(By.TAG_NAME,\"dt\")\n",
    "\n",
    "w_list = [dt.text for dt in name_list if ]\n",
    "w_list"
   ]
  },
  {
   "cell_type": "code",
   "execution_count": null,
   "metadata": {},
   "outputs": [],
   "source": [
    "page = driver.find_element(By.XPATH,'driver.find_element(By.XPATH,'//*[@id=\"section2\"]/div/div[2]/ul[2]')')"
   ]
  }
 ],
 "metadata": {
  "kernelspec": {
   "display_name": "tensorflow",
   "language": "python",
   "name": "python3"
  },
  "language_info": {
   "codemirror_mode": {
    "name": "ipython",
    "version": 3
   },
   "file_extension": ".py",
   "mimetype": "text/x-python",
   "name": "python",
   "nbconvert_exporter": "python",
   "pygments_lexer": "ipython3",
   "version": "3.9.13"
  },
  "orig_nbformat": 4,
  "vscode": {
   "interpreter": {
    "hash": "d864e386a55a2cee39c31bc0e2325312cb68f97ec75faaaf5382620c119f58c5"
   }
  }
 },
 "nbformat": 4,
 "nbformat_minor": 2
}
