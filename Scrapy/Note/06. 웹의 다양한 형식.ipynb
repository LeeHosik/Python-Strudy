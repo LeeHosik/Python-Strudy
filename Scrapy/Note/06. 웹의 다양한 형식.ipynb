{
 "cells": [
  {
   "attachments": {},
   "cell_type": "markdown",
   "metadata": {},
   "source": [
    "### XML 분석\n",
    "기상청 전국 날씨 분류하기"
   ]
  },
  {
   "cell_type": "code",
   "execution_count": 1,
   "metadata": {},
   "outputs": [],
   "source": [
    "from bs4 import BeautifulSoup\n",
    "import urllib.request as req\n",
    "\n",
    "# import time\n",
    "\n",
    "# from urllib import parse\n",
    "\n",
    "# from selenium import webdriver\n",
    "# from selenium.webdriver.chrome.service import Service\n",
    "# from webdriver_manager.chrome import ChromeDriverManager\n",
    "# from selenium.webdriver.common.by import By\n",
    "\n",
    "# import pandas as pd\n",
    "\n",
    "# import math"
   ]
  },
  {
   "cell_type": "code",
   "execution_count": 2,
   "metadata": {},
   "outputs": [],
   "source": [
    "# 기상청 RSS 사이트 주소\n",
    "# stnId = 108 은 전국 데이터\n",
    "url = 'http://www.kma.go.kr/weather/forecast/mid-term-rss3.jsp?stnId=108'"
   ]
  },
  {
   "cell_type": "code",
   "execution_count": 5,
   "metadata": {},
   "outputs": [
    {
     "name": "stderr",
     "output_type": "stream",
     "text": [
      "/Users/luchesia/miniforge3/envs/tensorflow/lib/python3.9/site-packages/bs4/builder/__init__.py:545: XMLParsedAsHTMLWarning: It looks like you're parsing an XML document using an HTML parser. If this really is an HTML document (maybe it's XHTML?), you can ignore or filter this warning. If it's XML, you should know that using an XML parser will be more reliable. To parse this document as XML, make sure you have the lxml package installed, and pass the keyword argument `features=\"xml\"` into the BeautifulSoup constructor.\n",
      "  warnings.warn(\n"
     ]
    }
   ],
   "source": [
    "response = req.urlopen(url)\n",
    "#print(response)\n",
    "soup = BeautifulSoup(response,'html.parser') # xml 이지만 html사용"
   ]
  },
  {
   "attachments": {},
   "cell_type": "markdown",
   "metadata": {},
   "source": [
    "TEST"
   ]
  },
  {
   "cell_type": "code",
   "execution_count": 12,
   "metadata": {},
   "outputs": [
    {
     "name": "stdout",
     "output_type": "stream",
     "text": [
      "{}\n"
     ]
    }
   ],
   "source": [
    "# test = {}\n",
    "# test['apple'] = []\n",
    "# test['apple'].append(1)\n",
    "# test['apple'].append(2)\n",
    "# test['apple'].append('3')\n",
    "# test['apple'].append('test')\n",
    "# test['apple'].append([1,2,3])\n",
    "# test['banana'] = []\n",
    "# test['banana'].append(['banana?','yes'])\n",
    "#print(test)\n",
    "#test={}\n"
   ]
  },
  {
   "cell_type": "code",
   "execution_count": 32,
   "metadata": {},
   "outputs": [
    {
     "name": "stdout",
     "output_type": "stream",
     "text": [
      "-----------------------------------\n"
     ]
    },
    {
     "data": {
      "text/plain": [
       "{'구름많음': ['서울',\n",
       "  '인천',\n",
       "  '수원',\n",
       "  '파주',\n",
       "  '이천',\n",
       "  '평택',\n",
       "  '춘천',\n",
       "  '원주',\n",
       "  '강릉',\n",
       "  '대전',\n",
       "  '세종',\n",
       "  '홍성',\n",
       "  '청주',\n",
       "  '충주',\n",
       "  '영동',\n",
       "  '전주',\n",
       "  '군산',\n",
       "  '정읍',\n",
       "  '남원',\n",
       "  '고창',\n",
       "  '무주',\n",
       "  '대구',\n",
       "  '안동',\n",
       "  '포항',\n",
       "  '경주',\n",
       "  '울진',\n",
       "  '울릉도'],\n",
       " '흐림': ['광주', '목포', '여수', '순천', '광양', '나주'],\n",
       " '구름많고 비/눈': ['부산', '울산', '창원', '진주', '거창', '통영'],\n",
       " '흐리고 비': ['제주', '서귀포']}"
      ]
     },
     "execution_count": 32,
     "metadata": {},
     "output_type": "execute_result"
    }
   ],
   "source": [
    "info = {}\n",
    "for location in soup.find_all(\"location\"):\n",
    "    # print(location.select('city'))\n",
    "    # print(location.find('city').string)\n",
    "    # print(location.find('city').text)\n",
    "    # print(type(location.find('city').string))\n",
    "    # print(type(location.find('city').text))\n",
    "    name = location.find('city').string\n",
    "    weather = location.find('wf').string\n",
    "    if not(weather in info): # 처음 들어온 날씨면\n",
    "        info[weather] = []\n",
    "    info[weather].append(name)\n",
    "\n",
    "print(\"-----------------------------------\")\n",
    "info"
   ]
  },
  {
   "cell_type": "code",
   "execution_count": 73,
   "metadata": {},
   "outputs": [
    {
     "name": "stdout",
     "output_type": "stream",
     "text": [
      "+ 구름많음\n",
      "|- 서울\n",
      "|- 인천\n",
      "|- 수원\n",
      "|- 파주\n",
      "+ 흐림\n",
      "|- 광주\n",
      "|- 목포\n",
      "|- 여수\n",
      "|- 순천\n",
      "+ 구름많고 비/눈\n",
      "|- 부산\n",
      "|- 울산\n",
      "|- 창원\n",
      "|- 진주\n",
      "+ 흐리고 비\n",
      "|- 제주\n",
      "|- 서귀포\n"
     ]
    },
    {
     "ename": "IndexError",
     "evalue": "list index out of range",
     "output_type": "error",
     "traceback": [
      "\u001b[0;31m---------------------------------------------------------------------------\u001b[0m",
      "\u001b[0;31mIndexError\u001b[0m                                Traceback (most recent call last)",
      "Cell \u001b[0;32mIn[73], line 5\u001b[0m\n\u001b[1;32m      3\u001b[0m \u001b[39mprint\u001b[39m(\u001b[39mf\u001b[39m\u001b[39m'\u001b[39m\u001b[39m+ \u001b[39m\u001b[39m{\u001b[39;00m\u001b[39mlist\u001b[39m(info\u001b[39m.\u001b[39mkeys())[i]\u001b[39m}\u001b[39;00m\u001b[39m'\u001b[39m)\n\u001b[1;32m      4\u001b[0m \u001b[39mfor\u001b[39;00m j \u001b[39min\u001b[39;00m \u001b[39mrange\u001b[39m(\u001b[39m0\u001b[39m,\u001b[39mlen\u001b[39m(info\u001b[39m.\u001b[39mvalues())):\n\u001b[0;32m----> 5\u001b[0m     \u001b[39mprint\u001b[39m(\u001b[39m'\u001b[39m\u001b[39m|-\u001b[39m\u001b[39m'\u001b[39m,\u001b[39mlist\u001b[39;49m(info\u001b[39m.\u001b[39;49mvalues())[i][j])\n",
      "\u001b[0;31mIndexError\u001b[0m: list index out of range"
     ]
    }
   ],
   "source": [
    "# info\n",
    "# for i in range(0,len(info)):\n",
    "#     print(f'+ {list(info.keys())[i]}')\n",
    "#     for j in range(0,len(info.values())):\n",
    "#         print('|-',list(info.values())[i][j])"
   ]
  },
  {
   "cell_type": "code",
   "execution_count": 69,
   "metadata": {},
   "outputs": [
    {
     "data": {
      "text/plain": [
       "['서울',\n",
       " '인천',\n",
       " '수원',\n",
       " '파주',\n",
       " '이천',\n",
       " '평택',\n",
       " '춘천',\n",
       " '원주',\n",
       " '강릉',\n",
       " '대전',\n",
       " '세종',\n",
       " '홍성',\n",
       " '청주',\n",
       " '충주',\n",
       " '영동',\n",
       " '전주',\n",
       " '군산',\n",
       " '정읍',\n",
       " '남원',\n",
       " '고창',\n",
       " '무주',\n",
       " '대구',\n",
       " '안동',\n",
       " '포항',\n",
       " '경주',\n",
       " '울진',\n",
       " '울릉도']"
      ]
     },
     "execution_count": 69,
     "metadata": {},
     "output_type": "execute_result"
    }
   ],
   "source": [
    "# len(list(info.values()))\n",
    "# list(info.values())[0]"
   ]
  },
  {
   "cell_type": "code",
   "execution_count": 75,
   "metadata": {},
   "outputs": [
    {
     "name": "stdout",
     "output_type": "stream",
     "text": [
      "+ 구름많음\n",
      "|-  서울\n",
      "|-  인천\n",
      "|-  수원\n",
      "|-  파주\n",
      "|-  이천\n",
      "|-  평택\n",
      "|-  춘천\n",
      "|-  원주\n",
      "|-  강릉\n",
      "|-  대전\n",
      "|-  세종\n",
      "|-  홍성\n",
      "|-  청주\n",
      "|-  충주\n",
      "|-  영동\n",
      "|-  전주\n",
      "|-  군산\n",
      "|-  정읍\n",
      "|-  남원\n",
      "|-  고창\n",
      "|-  무주\n",
      "|-  대구\n",
      "|-  안동\n",
      "|-  포항\n",
      "|-  경주\n",
      "|-  울진\n",
      "|-  울릉도\n",
      "+ 흐림\n",
      "|-  광주\n",
      "|-  목포\n",
      "|-  여수\n",
      "|-  순천\n",
      "|-  광양\n",
      "|-  나주\n",
      "+ 구름많고 비/눈\n",
      "|-  부산\n",
      "|-  울산\n",
      "|-  창원\n",
      "|-  진주\n",
      "|-  거창\n",
      "|-  통영\n",
      "+ 흐리고 비\n",
      "|-  제주\n",
      "|-  서귀포\n"
     ]
    }
   ],
   "source": [
    "for weather in info.keys():\n",
    "    print('+',weather)\n",
    "    for name in info[weather]:\n",
    "        print(\"|- \",name)"
   ]
  },
  {
   "attachments": {},
   "cell_type": "markdown",
   "metadata": {},
   "source": [
    "---\n",
    "### JSON"
   ]
  },
  {
   "cell_type": "code",
   "execution_count": 76,
   "metadata": {},
   "outputs": [],
   "source": [
    "import json"
   ]
  },
  {
   "cell_type": "code",
   "execution_count": 79,
   "metadata": {},
   "outputs": [
    {
     "name": "stdout",
     "output_type": "stream",
     "text": [
      "{'results': [{'code': 'S001', 'phone': '123-4567', 'name': '박소명', 'dept': '컴퓨터공학과'}, {'code': 'S002', 'phone': '234-5678', 'name': '최민국', 'dept': '컴퓨터공학과'}, {'code': 'S003', 'phone': '345-6789', 'name': '이승호', 'dept': '국문학과'}, {'code': 'S004', 'phone': '456-7890', 'name': '정수봉', 'dept': '국문학과'}, {'code': 'S005', 'phone': '567-8901', 'name': '김상진', 'dept': '사학과'}, {'code': 'S006', 'phone': '678-9012', 'name': '황정숙', 'dept': '사학과'}]}\n"
     ]
    }
   ],
   "source": [
    "url = 'https://zeushahn.github.io/Test/student.json'\n",
    "response = req.urlopen(url)\n",
    "\n",
    "soup = BeautifulSoup(response, 'html.parser')\n",
    "\n",
    "# soup을 string 으로 변형해서 json형태로 변형하기 \n",
    "\n",
    "items = json.loads(str(soup))\n",
    "print(items)"
   ]
  },
  {
   "cell_type": "code",
   "execution_count": 82,
   "metadata": {},
   "outputs": [
    {
     "name": "stdout",
     "output_type": "stream",
     "text": [
      "<class 'dict'>\n"
     ]
    }
   ],
   "source": [
    "print(type(items))"
   ]
  },
  {
   "cell_type": "code",
   "execution_count": 87,
   "metadata": {},
   "outputs": [
    {
     "name": "stdout",
     "output_type": "stream",
     "text": [
      "dict_keys(['results'])\n"
     ]
    }
   ],
   "source": [
    "print(items.keys())\n"
   ]
  },
  {
   "cell_type": "code",
   "execution_count": 91,
   "metadata": {},
   "outputs": [
    {
     "data": {
      "text/plain": [
       "dict_values([[{'code': 'S001', 'phone': '123-4567', 'name': '박소명', 'dept': '컴퓨터공학과'}, {'code': 'S002', 'phone': '234-5678', 'name': '최민국', 'dept': '컴퓨터공학과'}, {'code': 'S003', 'phone': '345-6789', 'name': '이승호', 'dept': '국문학과'}, {'code': 'S004', 'phone': '456-7890', 'name': '정수봉', 'dept': '국문학과'}, {'code': 'S005', 'phone': '567-8901', 'name': '김상진', 'dept': '사학과'}, {'code': 'S006', 'phone': '678-9012', 'name': '황정숙', 'dept': '사학과'}]])"
      ]
     },
     "execution_count": 91,
     "metadata": {},
     "output_type": "execute_result"
    }
   ],
   "source": [
    "items.values()"
   ]
  },
  {
   "cell_type": "code",
   "execution_count": 146,
   "metadata": {},
   "outputs": [
    {
     "name": "stdout",
     "output_type": "stream",
     "text": [
      "S001 박소명 컴퓨터공학과 123-4567\n"
     ]
    }
   ],
   "source": [
    "num = 0\n",
    "for value in list(items.values()):\n",
    "    print(value[num]['code'],value[num]['name'],value[num]['dept'],value[num]['phone'])\n",
    "    num += 1"
   ]
  },
  {
   "cell_type": "code",
   "execution_count": 147,
   "metadata": {},
   "outputs": [
    {
     "name": "stdout",
     "output_type": "stream",
     "text": [
      "S001 박소명 컴퓨터공학과 \t 123-4567\n",
      "S002 최민국 컴퓨터공학과 \t 234-5678\n",
      "S003 이승호 국문학과 \t 345-6789\n",
      "S004 정수봉 국문학과 \t 456-7890\n",
      "S005 김상진 사학과 \t 567-8901\n",
      "S006 황정숙 사학과 \t 678-9012\n"
     ]
    }
   ],
   "source": [
    "for item in items['results']:\n",
    "    print(item['code'],item['name'],item['dept'],'\\t',item['phone'])"
   ]
  },
  {
   "cell_type": "code",
   "execution_count": null,
   "metadata": {},
   "outputs": [],
   "source": []
  }
 ],
 "metadata": {
  "kernelspec": {
   "display_name": "tensorflow",
   "language": "python",
   "name": "python3"
  },
  "language_info": {
   "codemirror_mode": {
    "name": "ipython",
    "version": 3
   },
   "file_extension": ".py",
   "mimetype": "text/x-python",
   "name": "python",
   "nbconvert_exporter": "python",
   "pygments_lexer": "ipython3",
   "version": "3.9.13 | packaged by conda-forge | (main, May 27 2022, 17:01:00) \n[Clang 13.0.1 ]"
  },
  "orig_nbformat": 4,
  "vscode": {
   "interpreter": {
    "hash": "d864e386a55a2cee39c31bc0e2325312cb68f97ec75faaaf5382620c119f58c5"
   }
  }
 },
 "nbformat": 4,
 "nbformat_minor": 2
}
