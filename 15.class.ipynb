{
 "cells": [
  {
   "attachments": {},
   "cell_type": "markdown",
   "metadata": {},
   "source": [
    "### class"
   ]
  },
  {
   "cell_type": "code",
   "execution_count": 9,
   "metadata": {},
   "outputs": [],
   "source": [
    "class Services:\n",
    "    secret = \"임금님 귀는 당나귀 귀!\"\n",
    "\n",
    "    def sum(self, num1, num2): # <<<< python 은 class 안에 function을 사용할 거면 꼭 self를 넣어야 됨\n",
    "        result = num1+num2\n",
    "        print(\"%s님! %d + %d = %d 입니다.\"%(self.name,num1,num2,result))\n",
    "\n",
    "\n",
    "    def setName(self, name):\n",
    "        self.name = name\n"
   ]
  },
  {
   "cell_type": "code",
   "execution_count": 10,
   "metadata": {},
   "outputs": [
    {
     "name": "stdout",
     "output_type": "stream",
     "text": [
      "임금님 귀는 당나귀 귀!\n",
      "dd님! 3 + 4 = 7 입니다.\n"
     ]
    }
   ],
   "source": [
    "instance01 = Services()\n",
    "print(instance01.secret)\n",
    "instance01.setName('dd')\n",
    "instance01.sum(3,4)"
   ]
  },
  {
   "cell_type": "code",
   "execution_count": 11,
   "metadata": {},
   "outputs": [],
   "source": [
    "class Services2:\n",
    "    secret = \"임금님 귀는 당나귀 귀!\"\n",
    "\n",
    "    def sum(self, num1, num2): # <<<< python 은 class 안에 function을 사용할 거면 꼭 self를 넣어야 됨\n",
    "        result = num1+num2\n",
    "        print(\"%s님! %d + %d = %d 입니다.\"%(self.name,num1,num2,result))\n",
    "\n",
    "\n",
    "    def __init__(self, name) -> None:\n",
    "        self.name = name\n"
   ]
  },
  {
   "cell_type": "code",
   "execution_count": 15,
   "metadata": {},
   "outputs": [
    {
     "name": "stdout",
     "output_type": "stream",
     "text": [
      "Name님! 2 + 3 = 5 입니다.\n"
     ]
    }
   ],
   "source": [
    "instance02 = Services2(\"Name\")\n",
    "instance02.secret\n",
    "instance02.sum(2,3)"
   ]
  },
  {
   "attachments": {},
   "cell_type": "markdown",
   "metadata": {},
   "source": [
    "---\n",
    "### today last quiz"
   ]
  },
  {
   "cell_type": "code",
   "execution_count": 33,
   "metadata": {},
   "outputs": [],
   "source": [
    "class Calc:\n",
    "    def setdata(self,x,y):\n",
    "        self.x = x\n",
    "        self.y = y\n",
    "    def sum(self):\n",
    "        return self.x+self.y\n",
    "    def mul(self):\n",
    "        return self.x*self.y\n",
    "    def sub(self):\n",
    "        return self.x-self.y\n",
    "    def div(self):\n",
    "        return self.x/self.y"
   ]
  },
  {
   "cell_type": "code",
   "execution_count": 35,
   "metadata": {},
   "outputs": [
    {
     "name": "stdout",
     "output_type": "stream",
     "text": [
      "덧셈 : 6\n",
      "곱셈 : 8\n",
      "뺄셈 : 2\n",
      "나눗셈  : 2.0\n"
     ]
    }
   ],
   "source": [
    "calc01 = Calc()\n",
    "calc01.setdata(4,2)\n",
    "print(f'덧셈 : {calc01.sum()}')\n",
    "print(f'곱셈 : {calc01.mul()}')\n",
    "print(f'뺄셈 : {calc01.sub()}')\n",
    "print(f'나눗셈  : {calc01.div()}')\n"
   ]
  },
  {
   "cell_type": "code",
   "execution_count": null,
   "metadata": {},
   "outputs": [],
   "source": []
  }
 ],
 "metadata": {
  "kernelspec": {
   "display_name": "tensorflow",
   "language": "python",
   "name": "python3"
  },
  "language_info": {
   "codemirror_mode": {
    "name": "ipython",
    "version": 3
   },
   "file_extension": ".py",
   "mimetype": "text/x-python",
   "name": "python",
   "nbconvert_exporter": "python",
   "pygments_lexer": "ipython3",
   "version": "3.9.13"
  },
  "orig_nbformat": 4,
  "vscode": {
   "interpreter": {
    "hash": "d864e386a55a2cee39c31bc0e2325312cb68f97ec75faaaf5382620c119f58c5"
   }
  }
 },
 "nbformat": 4,
 "nbformat_minor": 2
}
