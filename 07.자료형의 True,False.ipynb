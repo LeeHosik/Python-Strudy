{
 "cells": [
  {
   "attachments": {},
   "cell_type": "markdown",
   "metadata": {},
   "source": [
    "### 자료형의 참과 거짓\n",
    "- String인 경우 \"\" 안에 데이터가 없으면 거짓, 있으면 참\n",
    "- List인 경우 []안에 데이터가 없으면 거짓, 있으면 참\n",
    "- Tuple인 경우 ()안에 데이터가 없으면 거짓, 있으면 참\n",
    "- Dictionary인 경우 {}안에 데이터가 없으면 거짓, 있으면 참\n",
    "- int인 경우 0이면 거짓, 0이 아닌 숫자인 경우에는 참 "
   ]
  },
  {
   "cell_type": "code",
   "execution_count": 2,
   "metadata": {},
   "outputs": [
    {
     "name": "stdout",
     "output_type": "stream",
     "text": [
      "5\n",
      "4\n",
      "3\n",
      "2\n",
      "1\n",
      "[]\n"
     ]
    }
   ],
   "source": [
    "# 리스트형에서 자료 출력하면서 자료 지우기\n",
    "\n",
    "var = [1,2,3,4,5]\n",
    "while(var):\n",
    "    print(var.pop())\n",
    "\n",
    "print(var)"
   ]
  },
  {
   "cell_type": "code",
   "execution_count": 6,
   "metadata": {},
   "outputs": [
    {
     "name": "stdout",
     "output_type": "stream",
     "text": [
      "1\n",
      "2\n",
      "False\n",
      "False\n"
     ]
    }
   ],
   "source": [
    "# Tuple을 이요한 변수 생성\n",
    "var01, var02 = 1,2 # < ()없어도 , 로 tuple 생성\n",
    "print(var01)\n",
    "print(var02)\n",
    "print(var01 is var02) # is  == \n",
    "print(var01 == var02)"
   ]
  },
  {
   "cell_type": "code",
   "execution_count": 12,
   "metadata": {},
   "outputs": [
    {
     "name": "stdout",
     "output_type": "stream",
     "text": [
      "1\n",
      "Lee\n",
      "False\n",
      "False\n"
     ]
    }
   ],
   "source": [
    "var01 , var02 = 1,'Lee'\n",
    "print(var01)\n",
    "print(var02)\n",
    "print(var01 is var02) # is  == \n",
    "print(var01 == var02)"
   ]
  },
  {
   "cell_type": "code",
   "execution_count": 13,
   "metadata": {},
   "outputs": [
    {
     "name": "stdout",
     "output_type": "stream",
     "text": [
      "1\n",
      "Kim\n",
      "False\n",
      "False\n"
     ]
    }
   ],
   "source": [
    "# ()가 없어서 햇갈리면 ()를 써도 됨\n",
    "(var01, var02) = (1,'Kim')\n",
    "print(var01)\n",
    "print(var02)\n",
    "print(var01 is var02) # is  == \n",
    "print(var01 == var02)"
   ]
  },
  {
   "cell_type": "code",
   "execution_count": 14,
   "metadata": {},
   "outputs": [
    {
     "name": "stdout",
     "output_type": "stream",
     "text": [
      "Lee Lee\n"
     ]
    }
   ],
   "source": [
    "# 값 한번에 주기 \n",
    "var01 = var02 = 'Lee'\n",
    "print(var01, var02)"
   ]
  },
  {
   "cell_type": "code",
   "execution_count": 16,
   "metadata": {},
   "outputs": [
    {
     "name": "stdout",
     "output_type": "stream",
     "text": [
      "5\n",
      "3\n"
     ]
    }
   ],
   "source": [
    "# 변수값 교환\n",
    "var01 = 3\n",
    "var02 = 5\n",
    "var01, var02 = var02, var01\n",
    "print(var01)\n",
    "print(var02)"
   ]
  },
  {
   "cell_type": "code",
   "execution_count": 18,
   "metadata": {},
   "outputs": [
    {
     "name": "stdout",
     "output_type": "stream",
     "text": [
      "[1, 2, 6]\n",
      "[1, 2, 6]\n",
      "True\n"
     ]
    }
   ],
   "source": [
    "# copy list\n",
    "var01 = [1,2,3]\n",
    "var02 = var01\n",
    "\n",
    "var02[2] = 6\n",
    "print(var01)\n",
    "print(var02)\n",
    "\n",
    "# var01 에도 [2]가 바뀌어버림, 원본을 살릴 수 없게 되버림 \n",
    "# Call by reference pointer가 동일한 위치를 가리킴\n",
    "# 데이터가 같이 바뀌어버림, 원본을 살리고 싶다면 이런식으로 사용하면 안됨, 복사가 된게 아님 \n",
    "# java 에서 static임 ..\n",
    " \n",
    "print(var01 is var02) # = True. 똑같은 애구나 ..!\n",
    "\n"
   ]
  },
  {
   "cell_type": "code",
   "execution_count": 24,
   "metadata": {},
   "outputs": [
    {
     "name": "stdout",
     "output_type": "stream",
     "text": [
      "[1, 4, 3]\n",
      "[1, 2, 3]\n",
      "False\n"
     ]
    }
   ],
   "source": [
    "# Slicing 을 이용한 list copy\n",
    "# Call by Values\n",
    "var01 = [1,2,3]\n",
    "#var02 = var01[0:len(var01)]\n",
    "var02 = var01[:]\n",
    "var02\n",
    "var01[1] = 4\n",
    "print(var01)\n",
    "print(var02)\n",
    "print(var01 is var02) # = False"
   ]
  },
  {
   "cell_type": "code",
   "execution_count": 26,
   "metadata": {},
   "outputs": [
    {
     "name": "stdout",
     "output_type": "stream",
     "text": [
      "[1, 4, 3]\n",
      "[1, 2, 3]\n",
      "False\n"
     ]
    }
   ],
   "source": [
    "# Module을 이용한 list copy\n",
    "\n",
    "from copy import copy\n",
    "var01 = [1,2,3]\n",
    "var02 = copy(var01)\n",
    "var01[1] = 4\n",
    "print(var01)\n",
    "print(var02)\n",
    "print(var01 is var02) # = False"
   ]
  },
  {
   "cell_type": "code",
   "execution_count": 28,
   "metadata": {},
   "outputs": [
    {
     "name": "stdout",
     "output_type": "stream",
     "text": [
      "True\n",
      "False\n"
     ]
    }
   ],
   "source": [
    "print(4 in var01)\n",
    "print(10 in var01)"
   ]
  },
  {
   "cell_type": "code",
   "execution_count": null,
   "metadata": {},
   "outputs": [],
   "source": []
  }
 ],
 "metadata": {
  "kernelspec": {
   "display_name": "Python 3",
   "language": "python",
   "name": "python3"
  },
  "language_info": {
   "codemirror_mode": {
    "name": "ipython",
    "version": 3
   },
   "file_extension": ".py",
   "mimetype": "text/x-python",
   "name": "python",
   "nbconvert_exporter": "python",
   "pygments_lexer": "ipython3",
   "version": "3.9.6 (default, Oct 18 2022, 12:41:40) \n[Clang 14.0.0 (clang-1400.0.29.202)]"
  },
  "orig_nbformat": 4,
  "vscode": {
   "interpreter": {
    "hash": "31f2aee4e71d21fbe5cf8b01ff0e069b9275f58929596ceb00d14d90e3e16cd6"
   }
  }
 },
 "nbformat": 4,
 "nbformat_minor": 2
}
