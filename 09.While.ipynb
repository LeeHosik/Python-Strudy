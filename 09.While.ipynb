{
 "cells": [
  {
   "attachments": {},
   "cell_type": "markdown",
   "metadata": {},
   "source": [
    "### While"
   ]
  },
  {
   "cell_type": "code",
   "execution_count": 2,
   "metadata": {},
   "outputs": [
    {
     "name": "stdout",
     "output_type": "stream",
     "text": [
      "나무를 1번 찍었습니다.\n",
      "나무를 2번 찍었습니다.\n",
      "나무를 3번 찍었습니다.\n",
      "나무를 4번 찍었습니다.\n",
      "나무를 5번 찍었습니다.\n",
      "나무를 6번 찍었습니다.\n",
      "나무를 7번 찍었습니다.\n",
      "나무를 8번 찍었습니다.\n",
      "나무를 9번 찍었습니다.\n",
      "나무를 10번 찍었습니다.\n",
      "나무가 쓰러졌습니다.\n"
     ]
    }
   ],
   "source": [
    "treeHit = 0\n",
    "\n",
    "while treeHit <10:\n",
    "    treeHit += 1\n",
    "    #f'나무를 {treeHit}번 찍었습니다.'\n",
    "    print('나무를 %d번 찍었습니다.'%treeHit)\n",
    "    if treeHit == 10:\n",
    "        print('나무가 쓰러졌습니다.')"
   ]
  },
  {
   "cell_type": "code",
   "execution_count": 4,
   "metadata": {},
   "outputs": [],
   "source": [
    "prompt = \"\"\"\n",
    "    1. 덧셈\n",
    "    2. 뺄셈\n",
    "    3. 곱셈\n",
    "    4. 나눗셈\n",
    "    5. 종료\n",
    "\n",
    "    숫자를 입력하세요 : \n",
    "\"\"\""
   ]
  },
  {
   "cell_type": "code",
   "execution_count": null,
   "metadata": {},
   "outputs": [],
   "source": [
    "number = 0\n",
    "while number != 5:\n",
    "    print(prompt)\n",
    "    number = int(input())"
   ]
  },
  {
   "attachments": {},
   "cell_type": "markdown",
   "metadata": {},
   "source": [
    "커피 자판기\n",
    "커피를 5잔만 판매\n",
    "\n",
    "커피값은 300원\n",
    "300원을 입력하면 커피를 주고\n",
    "300원보다 큰 돈을 입력하면 거스름돈을 주고 커피를 주고\n",
    "300원보다 작은 돈을 입력하면 돈은 돌려주고 커피는 안주고\n",
    "5잔을 다 판매하면 판매를 중지합니다."
   ]
  },
  {
   "attachments": {},
   "cell_type": "markdown",
   "metadata": {},
   "source": [
    "돈을 넣어주세요! 300\n",
    "커피를 줍니다.\n",
    "\n",
    "돈을 넣어주세요! 500\n",
    "거스름돈 200원을 주고 커피를 줍니다.\n",
    "\n",
    "돈을 넣어주세요! 100\n",
    "돈을 다시 돌려주고 커피를 주지 않습니다.\n",
    "\n",
    "남은 커피의 양은 _개 입니다.\n",
    "\n",
    "커피가 다 떨어졌습니다. 판매를 중지 합니다."
   ]
  },
  {
   "cell_type": "code",
   "execution_count": 13,
   "metadata": {},
   "outputs": [
    {
     "name": "stdout",
     "output_type": "stream",
     "text": [
      "커피 자판기. 돈을 넣어주세요\n",
      "커피 나왔습니다. 거스름돈 200 받아가세요\n",
      "남은 커피의 양은 4입니다.\n",
      "커피 자판기. 돈을 넣어주세요\n",
      "커피 나왔습니다. 거스름돈 100 받아가세요\n",
      "남은 커피의 양은 3입니다.\n",
      "커피 자판기. 돈을 넣어주세요\n",
      "커피 나왔습니다.\n",
      "남은 커피의 양은 2입니다.\n",
      "커피 자판기. 돈을 넣어주세요\n",
      "커피는 300원이에요\n",
      "남은 커피의 양은 2입니다.\n",
      "커피 자판기. 돈을 넣어주세요\n",
      "커피 나왔습니다. 거스름돈 100 받아가세요\n",
      "남은 커피의 양은 1입니다.\n",
      "커피 자판기. 돈을 넣어주세요\n",
      "커피 나왔습니다. 거스름돈 200 받아가세요\n",
      "남은 커피의 양은 0입니다.\n"
     ]
    }
   ],
   "source": [
    "coffee = 5\n",
    "coffeePrice = 300\n",
    "\n",
    "while coffee != 0:\n",
    "    print('커피 자판기. 돈을 넣어주세요')\n",
    "    pay = int(input())\n",
    "    gusurm = pay-coffeePrice\n",
    "    if pay == 300 :\n",
    "        coffee -= 1\n",
    "        print('커피 나왔습니다.')\n",
    "        print('남은 커피의 양은 %d입니다.'%coffee)\n",
    "    elif pay > 300:\n",
    "        coffee -= 1\n",
    "        print('커피 나왔습니다. 거스름돈 %d 받아가세요'%gusurm)\n",
    "        print('남은 커피의 양은 %d입니다.'%coffee)\n",
    "    elif pay<300: \n",
    "        print('커피는 300원이에요')\n",
    "        print('남은 커피의 양은 %d입니다.'%coffee)\n",
    "    elif coffee == 0: print('커피가 다 떨어졌어요.')\n",
    "    \n",
    "    "
   ]
  },
  {
   "cell_type": "code",
   "execution_count": null,
   "metadata": {},
   "outputs": [],
   "source": []
  }
 ],
 "metadata": {
  "kernelspec": {
   "display_name": "Python 3",
   "language": "python",
   "name": "python3"
  },
  "language_info": {
   "codemirror_mode": {
    "name": "ipython",
    "version": 3
   },
   "file_extension": ".py",
   "mimetype": "text/x-python",
   "name": "python",
   "nbconvert_exporter": "python",
   "pygments_lexer": "ipython3",
   "version": "3.9.6"
  },
  "orig_nbformat": 4,
  "vscode": {
   "interpreter": {
    "hash": "31f2aee4e71d21fbe5cf8b01ff0e069b9275f58929596ceb00d14d90e3e16cd6"
   }
  }
 },
 "nbformat": 4,
 "nbformat_minor": 2
}
