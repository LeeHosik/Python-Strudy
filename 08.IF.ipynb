{
 "cells": [
  {
   "cell_type": "code",
   "execution_count": 8,
   "metadata": {},
   "outputs": [],
   "source": [
    "from random import randint\n",
    "x = randint(1,100)"
   ]
  },
  {
   "cell_type": "code",
   "execution_count": 9,
   "metadata": {},
   "outputs": [
    {
     "name": "stdout",
     "output_type": "stream",
     "text": [
      "------- End -------\n",
      "36\n"
     ]
    }
   ],
   "source": [
    "if x > 50:\n",
    "    print('x is greater than 50')\n",
    "\n",
    "print(\"------- End -------\")\n",
    "print(x)"
   ]
  },
  {
   "cell_type": "code",
   "execution_count": 10,
   "metadata": {},
   "outputs": [
    {
     "name": "stdout",
     "output_type": "stream",
     "text": [
      "x is less or equal to 50\n",
      "------- End -------\n",
      "36\n"
     ]
    }
   ],
   "source": [
    "if x > 50:\n",
    "    print('x is greater than 50')\n",
    "else:\n",
    "    print('x is less or equal to 50')\n",
    "print(\"------- End -------\")\n",
    "print(x)"
   ]
  },
  {
   "cell_type": "code",
   "execution_count": 24,
   "metadata": {},
   "outputs": [
    {
     "name": "stdout",
     "output_type": "stream",
     "text": [
      "x is greater than 50\n",
      "------- End -------\n",
      "51\n"
     ]
    }
   ],
   "source": [
    "x = 51\n",
    "if x > 50:\n",
    "    print('x is greater than 50')\n",
    "elif x <50:\n",
    "    print('x is less than 50')\n",
    "else:\n",
    "    print('x is equal to 50')\n",
    "print(\"------- End -------\")\n",
    "print(x)"
   ]
  },
  {
   "cell_type": "code",
   "execution_count": 16,
   "metadata": {},
   "outputs": [
    {
     "name": "stdout",
     "output_type": "stream",
     "text": [
      "x는 홀수\n",
      "13\n"
     ]
    }
   ],
   "source": [
    "# 홀짝수 구분\n",
    "x = 13\n",
    "if x%2 == 0:\n",
    "    print('x는 짝수')\n",
    "else:\n",
    "    print('x는 홀수')\n",
    "\n",
    "print(x)"
   ]
  },
  {
   "cell_type": "code",
   "execution_count": 19,
   "metadata": {},
   "outputs": [
    {
     "data": {
      "text/plain": [
       "int"
      ]
     },
     "execution_count": 19,
     "metadata": {},
     "output_type": "execute_result"
    }
   ],
   "source": [
    "#input(\"숫자를 입력하세요 : \"\n",
    "type()\n"
   ]
  },
  {
   "cell_type": "code",
   "execution_count": 20,
   "metadata": {},
   "outputs": [
    {
     "name": "stdout",
     "output_type": "stream",
     "text": [
      "x는 짝수\n",
      "100\n"
     ]
    }
   ],
   "source": [
    "x = int(input(\"숫자를 입력하세요 : \"))\n",
    "if x%2 == 0:\n",
    "    print('x는 짝수')\n",
    "else:\n",
    "    print('x는 홀수')\n",
    "\n",
    "print(x)"
   ]
  },
  {
   "cell_type": "code",
   "execution_count": 112,
   "metadata": {},
   "outputs": [
    {
     "data": {
      "text/plain": [
       "'수학점수는 90,영어점수는80, 국어점수는70이고 총 점수는 240이고, 평균은 80.0 이고 학점은 이게 왜 나옴? 입니다. '"
      ]
     },
     "execution_count": 112,
     "metadata": {},
     "output_type": "execute_result"
    }
   ],
   "source": [
    "# 사용자로 부터 정수를 입려받아 학점 계산하기\n",
    "result = \"이게 왜 나옴?\"\n",
    "def sumF(var_1, var_2, var_3):\n",
    "    return var_1 + var_2 + var_3\n",
    "\n",
    "def asdf(total):\n",
    "    if total>90:\n",
    "        result =\"A\"\n",
    "    elif total>80:\n",
    "        result=\"B\"\n",
    "    elif total>70:\n",
    "        result=\"C\"\n",
    "    elif total>60:\n",
    "        result=\"D\"\n",
    "    else: result=\"재수강\"\n",
    "    return result\n",
    "\n",
    "def adqw(Intotal):\n",
    "    hakjum = \"이게 왜 나옴?\"\n",
    "    score = {'A':90,\n",
    "            'B':80,\n",
    "            'C':70,\n",
    "            'D':60\n",
    "    }\n",
    "    for i in range(0,len(score)):\n",
    "        if (Intotal/3) > list(score.values())[i]:\n",
    "            hakjum = list(score.keys())[i]\n",
    "            break\n",
    "        elif (Intotal/3) < list(score.values())[len(score)-1]:\n",
    "            hakjum = \"넌 망했어\"\n",
    "            \n",
    "    return hakjum  \n",
    "        #return list(score.keys())[i]\n",
    "\n",
    "\n",
    "math = int(input(\"Math score : \"))\n",
    "eng = int(input(\"Eng score : \"))\n",
    "kor = int(input(\"Kor score : \"))\n",
    "\n",
    "\n",
    "# f'수학점수는 {math},영어점수는{eng}, 국어점수는{kor}이고  총 점수는 {sumF(math,eng,kor)}이고, 평균은 {(math+eng+kor)/3} 이고 학점은 {asdf((math+eng+kor)/3)}. '\n",
    "f'수학점수는 {math},영어점수는{eng}, 국어점수는{kor}이고 총 점수는 {sumF(math,eng,kor)}이고, 평균은 {(math+eng+kor)/3} 이고 학점은 {adqw((math+eng+kor))} 입니다. '\n",
    "\n",
    "\n",
    "\n"
   ]
  },
  {
   "cell_type": "code",
   "execution_count": 101,
   "metadata": {},
   "outputs": [],
   "source": [
    "import math"
   ]
  },
  {
   "cell_type": "code",
   "execution_count": 47,
   "metadata": {},
   "outputs": [
    {
     "name": "stdout",
     "output_type": "stream",
     "text": [
      "6\n"
     ]
    }
   ],
   "source": [
    "# 5의 배수이면 제곱근을 구하고 아니면 입력한 수를 출력하기\n",
    "\n",
    "maybe5 = int(input(\"input score!\"))\n",
    "\n",
    "if maybe5%5 == 0:\n",
    "    print(math.sqrt(maybe5))\n",
    "else:print(maybe5)"
   ]
  },
  {
   "cell_type": "code",
   "execution_count": 91,
   "metadata": {},
   "outputs": [
    {
     "data": {
      "text/plain": [
       "4"
      ]
     },
     "execution_count": 91,
     "metadata": {},
     "output_type": "execute_result"
    }
   ],
   "source": [
    "total = 91\n",
    "score = {'A':90,\n",
    "            'B':80,\n",
    "            'C':70,\n",
    "            'D':60\n",
    "}\n",
    "#for i in score:\n",
    "#if total > score[0].values:\n",
    "#            break\n",
    "#    hakjum = score[i].keys\n",
    "#list(score.values())[1]\n",
    "#print(list(score.keys())[1])\n",
    "# if total > list(score.values())[1]:#\n",
    "#    print('ok')\n",
    "\n"
   ]
  },
  {
   "attachments": {},
   "cell_type": "markdown",
   "metadata": {},
   "source": [
    "### 삼항연산자"
   ]
  },
  {
   "cell_type": "code",
   "execution_count": 51,
   "metadata": {},
   "outputs": [
    {
     "name": "stdout",
     "output_type": "stream",
     "text": [
      "18\n"
     ]
    }
   ],
   "source": [
    "num = 9\n",
    "result = 0\n",
    "\n",
    "result = num * 2 if num >= 5 else num +2\n",
    "print(result)"
   ]
  },
  {
   "cell_type": "code",
   "execution_count": 59,
   "metadata": {},
   "outputs": [
    {
     "name": "stdout",
     "output_type": "stream",
     "text": [
      "1\n"
     ]
    }
   ],
   "source": [
    "# 5의 배수이면 제곱근을 구하고 아니면 입력한 수를 출력하기\n",
    "import math\n",
    "maybe5 = int(input(\"input score!\"))\n",
    "result = math.sqrt(maybe5) if maybe5%5 == 0 else maybe5\n",
    "\n",
    "print(result)"
   ]
  },
  {
   "attachments": {},
   "cell_type": "markdown",
   "metadata": {},
   "source": [
    "### listed for 문"
   ]
  },
  {
   "cell_type": "code",
   "execution_count": 68,
   "metadata": {},
   "outputs": [
    {
     "name": "stdout",
     "output_type": "stream",
     "text": [
      "[5, 10, 15, 20]\n"
     ]
    }
   ],
   "source": [
    "var01 = [1,2,3,4]\n",
    "var02 = [i * 5 for i in var01]\n",
    "print(var02)"
   ]
  },
  {
   "cell_type": "code",
   "execution_count": 71,
   "metadata": {},
   "outputs": [
    {
     "name": "stdout",
     "output_type": "stream",
     "text": [
      "[10, 20]\n"
     ]
    }
   ],
   "source": [
    "# var01 중 짝수인 경우에만 5를 곱하여 리스트 만들기\n",
    "var01 = [1,2,3,4]\n",
    "var02=[i * 5 for i in var01 if i%2 == 0 ]\n",
    "print(var02)"
   ]
  },
  {
   "cell_type": "code",
   "execution_count": 75,
   "metadata": {},
   "outputs": [
    {
     "ename": "SyntaxError",
     "evalue": "invalid syntax (2787868059.py, line 3)",
     "output_type": "error",
     "traceback": [
      "\u001b[0;36m  Cell \u001b[0;32mIn[75], line 3\u001b[0;36m\u001b[0m\n\u001b[0;31m    var02=[i * 5 for i in var01 if i%2 == 0 elif i%2 != 0]\u001b[0m\n\u001b[0m                                            ^\u001b[0m\n\u001b[0;31mSyntaxError\u001b[0m\u001b[0;31m:\u001b[0m invalid syntax\n"
     ]
    }
   ],
   "source": [
    "# var01 중 짝수인 경우에만 5를 곱하여 리스트 만들기\n",
    "# [1,10,3,20]\n",
    "var01 = [1,2,3,4]\n",
    "#var02=[i * 5 for i in var01 if i%2 == 0 elif i%2 != 0]\n",
    "var02 = []\n",
    "print(var02)"
   ]
  },
  {
   "cell_type": "code",
   "execution_count": 77,
   "metadata": {},
   "outputs": [
    {
     "name": "stdout",
     "output_type": "stream",
     "text": [
      "use credit card\n",
      "----- End -----\n"
     ]
    }
   ],
   "source": [
    "pocket = ['paper','smartphone']\n",
    "card = 1\n",
    "\n",
    "if 'money' in pocket:\n",
    "    print('take taxi by cash')\n",
    "elif card:\n",
    "    print('use credit card')\n",
    "else:\n",
    "    print('walk')\n",
    "\n",
    "print('----- End -----')\n"
   ]
  },
  {
   "cell_type": "code",
   "execution_count": 78,
   "metadata": {},
   "outputs": [
    {
     "name": "stdout",
     "output_type": "stream",
     "text": [
      "take taxi!\n"
     ]
    }
   ],
   "source": [
    "money = 2000\n",
    "card = True\n",
    "if money >= 3000 or card:\n",
    "    print('take taxi!')\n",
    "else:\n",
    "    print('walk!')"
   ]
  },
  {
   "cell_type": "code",
   "execution_count": null,
   "metadata": {},
   "outputs": [],
   "source": []
  }
 ],
 "metadata": {
  "kernelspec": {
   "display_name": "Python 3",
   "language": "python",
   "name": "python3"
  },
  "language_info": {
   "codemirror_mode": {
    "name": "ipython",
    "version": 3
   },
   "file_extension": ".py",
   "mimetype": "text/x-python",
   "name": "python",
   "nbconvert_exporter": "python",
   "pygments_lexer": "ipython3",
   "version": "3.9.6"
  },
  "orig_nbformat": 4,
  "vscode": {
   "interpreter": {
    "hash": "31f2aee4e71d21fbe5cf8b01ff0e069b9275f58929596ceb00d14d90e3e16cd6"
   }
  }
 },
 "nbformat": 4,
 "nbformat_minor": 2
}
